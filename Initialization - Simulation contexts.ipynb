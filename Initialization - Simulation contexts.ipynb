{
 "cells": [
  {
   "cell_type": "code",
   "execution_count": 1,
   "metadata": {
    "collapsed": false
   },
   "outputs": [],
   "source": [
    "import hoomd\n",
    "import hoomd.md"
   ]
  },
  {
   "cell_type": "markdown",
   "metadata": {},
   "source": [
    "# Simulation contexts\n",
    "\n",
    "Every hoomd job script **must** have at least one simulation context. The context defines how a simulation is to be executed along with the state of the system including the properties of all particles, forces, integrators, etc... Create a simulation context with ``hoomd.context.initialize``."
   ]
  },
  {
   "cell_type": "code",
   "execution_count": 2,
   "metadata": {
    "collapsed": false
   },
   "outputs": [
    {
     "name": "stdout",
     "output_type": "stream",
     "text": [
      "HOOMD-blue v2.1.5 CUDA (7.5) DOUBLE HPMC_MIXED MPI SSE SSE2 SSE3 SSE4_1 SSE4_2 AVX \n",
      "Compiled: 03/09/2017\n",
      "Copyright 2009-2016 The Regents of the University of Michigan.\n",
      "-----\n",
      "You are using HOOMD-blue. Please cite the following:\n",
      "* J A Anderson, C D Lorenz, and A Travesset. \"General purpose molecular dynamics\n",
      "  simulations fully implemented on graphics processing units\", Journal of\n",
      "  Computational Physics 227 (2008) 5342--5359\n",
      "* J Glaser, T D Nguyen, J A Anderson, P Liu, F Spiga, J A Millan, D C Morse, and\n",
      "  S C Glotzer. \"Strong scaling of general-purpose molecular dynamics simulations\n",
      "  on GPUs\", Computer Physics Communications 192 (2015) 97--107\n",
      "-----\n",
      "HOOMD-blue is running on the CPU\n"
     ]
    }
   ],
   "source": [
    "hoomd.context.initialize('--mode=cpu');"
   ]
  },
  {
   "cell_type": "markdown",
   "metadata": {},
   "source": [
    "## Execution context\n",
    "\n",
    "The **first** simulation context created in the simulation also creates the execution context. Once set, the execution context cannot be changed without restarting python. Note how the above context is running on the CPU and how the following context ignores the request to change execution options."
   ]
  },
  {
   "cell_type": "code",
   "execution_count": 3,
   "metadata": {
    "collapsed": false
   },
   "outputs": [
    {
     "name": "stderr",
     "output_type": "stream",
     "text": [
      "*Warning*: Ignoring new options, cannot change execution mode after initialization.\n"
     ]
    }
   ],
   "source": [
    "hoomd.context.initialize('--mode=gpu');"
   ]
  },
  {
   "cell_type": "markdown",
   "metadata": {},
   "source": [
    "The execution context defines the device the simulation will execute on (i.e. CPU or GPU), how many MPI ranks to run in parallel, GPU device options, etc... Control these parameters with command line options. For a script run on the command line, use ``hoomd.context.initialize()`` and pass the options in from the command line ``python script.py [options]``. In a jupyter notebook, specify the command line options in the string argument to ``hoomd.context.initialize``. "
   ]
  },
  {
   "cell_type": "markdown",
   "metadata": {},
   "source": [
    "## Simulation context\n",
    "\n",
    "Each time you call it, ``hoomd.context.initialize`` creates a new simulation context and makes it active. You can execute multiple simulation runs in a script by using different contexts. \n",
    "\n",
    "Here are some short MD simulations. Notice how the 2nd simulation runs fewer steps per second because it has more particles."
   ]
  },
  {
   "cell_type": "code",
   "execution_count": 4,
   "metadata": {
    "collapsed": false
   },
   "outputs": [
    {
     "name": "stderr",
     "output_type": "stream",
     "text": [
      "*Warning*: Ignoring new options, cannot change execution mode after initialization.\n"
     ]
    },
    {
     "name": "stdout",
     "output_type": "stream",
     "text": [
      "notice(2): Group \"all\" created containing 125 particles\n",
      "notice(2): integrate.langevin/bd is using specified gamma values\n",
      "notice(2): -- Neighborlist exclusion statistics -- :\n",
      "notice(2): Particles with 0 exclusions             : 125\n",
      "notice(2): Neighbors included by diameter          : no\n",
      "notice(2): Neighbors excluded when in the same body: no\n",
      "** starting run **\n",
      "Time 00:00:02 | Step 20000 / 20000 | TPS 8231.4 | ETA 00:00:00\n",
      "Average TPS: 8213.56\n",
      "---------\n",
      "-- Neighborlist stats:\n",
      "694 normal updates / 201 forced updates / 0 dangerous updates\n",
      "n_neigh_min: 0 / n_neigh_max: 53 / n_neigh_avg: 22.128\n",
      "shortest rebuild period: 11\n",
      "-- Cell list stats:\n",
      "Dimension: 2, 2, 2\n",
      "n_min    : 0 / n_max: 58 / n_avg: 15.625\n",
      "** run complete **\n"
     ]
    }
   ],
   "source": [
    "sim1 = hoomd.context.initialize('');\n",
    "hoomd.init.create_lattice(unitcell=hoomd.lattice.sc(a=2.0), n=5);\n",
    "# setup forces, integrators and run simulation 1\n",
    "nl = hoomd.md.nlist.cell();\n",
    "lj = hoomd.md.pair.lj(r_cut=3.0, nlist=nl);\n",
    "lj.pair_coeff.set('A', 'A', epsilon=1.0, sigma=1.0);\n",
    "all = hoomd.group.all();\n",
    "hoomd.md.integrate.mode_standard(dt=0.001);\n",
    "hoomd.md.integrate.brownian(group=all, kT=0.1, seed=987);\n",
    "hoomd.run(2e4);"
   ]
  },
  {
   "cell_type": "code",
   "execution_count": 5,
   "metadata": {
    "collapsed": false
   },
   "outputs": [
    {
     "name": "stdout",
     "output_type": "stream",
     "text": [
      "notice(2): Group \"all\" created containing 1000 particles\n",
      "notice(2): integrate.langevin/bd is using specified gamma values\n",
      "notice(2): -- Neighborlist exclusion statistics -- :\n",
      "notice(2): Particles with 0 exclusions             : 1000\n",
      "notice(2): Neighbors included by diameter          : no\n",
      "notice(2): Neighbors excluded when in the same body: no\n",
      "** starting run **\n"
     ]
    },
    {
     "name": "stderr",
     "output_type": "stream",
     "text": [
      "*Warning*: Ignoring new options, cannot change execution mode after initialization.\n"
     ]
    },
    {
     "name": "stdout",
     "output_type": "stream",
     "text": [
      "Time 00:00:02 | Step 2000 / 2000 | TPS 871.58 | ETA 00:00:00\n",
      "Average TPS: 869.349\n",
      "---------\n",
      "-- Neighborlist stats:\n",
      "265 normal updates / 21 forced updates / 0 dangerous updates\n",
      "n_neigh_min: 0 / n_neigh_max: 26 / n_neigh_avg: 9.731\n",
      "shortest rebuild period: 5\n",
      "-- Cell list stats:\n",
      "Dimension: 5, 5, 5\n",
      "n_min    : 1 / n_max: 18 / n_avg: 8\n",
      "** run complete **\n"
     ]
    }
   ],
   "source": [
    "sim2 = hoomd.context.initialize('');\n",
    "hoomd.init.create_lattice(unitcell=hoomd.lattice.sc(a=2.0), n=10);\n",
    "# setup forces, integrators and run simulation 2\n",
    "nl = hoomd.md.nlist.cell();\n",
    "lj = hoomd.md.pair.lj(r_cut=3.0, nlist=nl);\n",
    "lj.pair_coeff.set('A', 'A', epsilon=1.0, sigma=1.0);\n",
    "all = hoomd.group.all();\n",
    "hoomd.md.integrate.mode_standard(dt=0.001);\n",
    "hoomd.md.integrate.brownian(group=all, kT=0.2, seed=10);\n",
    "hoomd.run(2e3);"
   ]
  },
  {
   "cell_type": "markdown",
   "metadata": {},
   "source": [
    "## Switching between contexts\n",
    "\n",
    "The above example showed how to run multiple simulations in one script, one after another. You can also save contexts in variables and swap between them. All hoomd commands apply to the current context only.\n",
    "\n",
    "Activate simulation 1 and continue running it for more steps."
   ]
  },
  {
   "cell_type": "code",
   "execution_count": 6,
   "metadata": {
    "collapsed": false
   },
   "outputs": [
    {
     "name": "stdout",
     "output_type": "stream",
     "text": [
      "** starting run **\n",
      "Time 00:00:07 | Step 40000 / 40000 | TPS 9049.7 | ETA 00:00:00\n",
      "Average TPS: 9011.72\n",
      "---------\n",
      "-- Neighborlist stats:\n",
      "556 normal updates / 201 forced updates / 0 dangerous updates\n",
      "n_neigh_min: 0 / n_neigh_max: 54 / n_neigh_avg: 23.888\n",
      "shortest rebuild period: 12\n",
      "-- Cell list stats:\n",
      "Dimension: 2, 2, 2\n",
      "n_min    : 0 / n_max: 61 / n_avg: 15.625\n",
      "** run complete **\n"
     ]
    }
   ],
   "source": [
    "with sim1:\n",
    "    hoomd.run(2e4);"
   ]
  },
  {
   "cell_type": "markdown",
   "metadata": {},
   "source": [
    "Activate simulation 2 and continue running it for more steps."
   ]
  },
  {
   "cell_type": "code",
   "execution_count": 7,
   "metadata": {
    "collapsed": false
   },
   "outputs": [
    {
     "name": "stdout",
     "output_type": "stream",
     "text": [
      "** starting run **\n",
      "Time 00:00:06 | Step 4000 / 4000 | TPS 1078.75 | ETA 00:00:00\n",
      "Average TPS: 1073.88\n",
      "---------\n",
      "-- Neighborlist stats:\n",
      "248 normal updates / 21 forced updates / 0 dangerous updates\n",
      "n_neigh_min: 0 / n_neigh_max: 52 / n_neigh_avg: 12.267\n",
      "shortest rebuild period: 5\n",
      "-- Cell list stats:\n",
      "Dimension: 5, 5, 5\n",
      "n_min    : 0 / n_max: 27 / n_avg: 8\n",
      "** run complete **\n"
     ]
    }
   ],
   "source": [
    "with sim2:\n",
    "    hoomd.run(2e3);"
   ]
  }
 ],
 "metadata": {
  "kernelspec": {
   "display_name": "Python 3",
   "language": "python",
   "name": "python3"
  },
  "language_info": {
   "codemirror_mode": {
    "name": "ipython",
    "version": 3
   },
   "file_extension": ".py",
   "mimetype": "text/x-python",
   "name": "python",
   "nbconvert_exporter": "python",
   "pygments_lexer": "ipython3",
   "version": "3.5.3"
  }
 },
 "nbformat": 4,
 "nbformat_minor": 0
}
