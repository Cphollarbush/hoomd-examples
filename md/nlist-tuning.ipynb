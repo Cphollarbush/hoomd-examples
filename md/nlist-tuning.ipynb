{
 "cells": [
  {
   "cell_type": "code",
   "execution_count": 4,
   "metadata": {
    "collapsed": false
   },
   "outputs": [],
   "source": [
    "import hoomd\n",
    "import hoomd.md\n",
    "from matplotlib import pyplot\n",
    "%matplotlib inline"
   ]
  },
  {
   "cell_type": "markdown",
   "metadata": {
    "collapsed": true
   },
   "source": [
    "# Tuning neighbor list parameters\n",
    "\n",
    "There are a number of parameters to the neighbor list that influence the performance of the simulation but not the correctness. The buffer radius ``r_buff`` controls how many extra neighbors are included in the list. The larger ``r_buff``, the less off the list is rebuilt, but the more extra force computations are necessary. When ``r_buff`` is small, the nlist is built more often, but there are fewer extra forces. These two competing effects yield an optimal value for ``r_buff``. You cannot predict the optimal performing ``r_buff``, you need to benchmark it as it depends strongly on your model, parameters, and hardware.\n",
    "\n",
    "Here is a simple 3D lj fluid model to demonstrate nlist tuning."
   ]
  },
  {
   "cell_type": "code",
   "execution_count": 2,
   "metadata": {
    "collapsed": false
   },
   "outputs": [
    {
     "name": "stdout",
     "output_type": "stream",
     "text": [
      "notice(2): This system is not compute exclusive, using local rank to select GPUs\n",
      "notice(2): Unable to identify node local rank information\n",
      "notice(2): Using global rank to select GPUs\n",
      "HOOMD-blue is running on the following GPU(s):\n",
      " [0]            Tesla K20c  13 SM_3.5 @ 0.706 GHz, 5092 MiB DRAM\n",
      "notice(2): Group \"all\" created containing 1000 particles\n",
      "notice(2): integrate.langevin/bd is using specified gamma values\n"
     ]
    },
    {
     "data": {
      "text/plain": [
       "<hoomd.md.integrate.langevin at 0x7f6b7433e630>"
      ]
     },
     "execution_count": 2,
     "metadata": {},
     "output_type": "execute_result"
    }
   ],
   "source": [
    "hoomd.context.initialize('')\n",
    "system = hoomd.init.create_lattice(unitcell=hoomd.lattice.sc(a=1.05), n=10)\n",
    "nl = hoomd.md.nlist.cell()\n",
    "lj = hoomd.md.pair.lj(r_cut=2.5, nlist=nl)\n",
    "lj.pair_coeff.set('A', 'A', epsilon=1.0, sigma=1.0)\n",
    "hoomd.md.integrate.mode_standard(dt=0.005)\n",
    "hoomd.md.integrate.langevin(group=hoomd.group.all(), kT=1.0, seed=2)"
   ]
  },
  {
   "cell_type": "markdown",
   "metadata": {
    "collapsed": false
   },
   "source": [
    "## Tune r_buff\n",
    "\n",
    "HOOMD has a builtin method to tune the optimal ``r_buff`` value."
   ]
  },
  {
   "cell_type": "code",
   "execution_count": 3,
   "metadata": {
    "collapsed": false
   },
   "outputs": [
    {
     "name": "stdout",
     "output_type": "stream",
     "text": [
      "notice(2): -- Neighborlist exclusion statistics -- :\n",
      "notice(2): Particles with 0 exclusions             : 1000\n",
      "notice(2): Neighbors included by diameter          : no\n",
      "notice(2): Neighbors excluded when in the same body: no\n",
      "** starting run **\n",
      "Time 00:00:03 | Step 20000 / 20000 | TPS 6347.48 | ETA 00:00:00\n",
      "Average TPS: 6342.59\n",
      "---------\n",
      "-- Neighborlist stats:\n",
      "1854 normal updates / 68 forced updates / 0 dangerous updates\n",
      "n_neigh_min: 75 / n_neigh_max: 94 / n_neigh_avg: 86.182\n",
      "shortest rebuild period: 8\n",
      "-- Cell list stats:\n",
      "Dimension: 3, 3, 3\n",
      "n_min    : 32 / n_max: 43 / n_avg: 37.037\n",
      "** run complete **\n",
      "** starting run **\n",
      "Time 00:00:04 | Step 25000 / 25000 | TPS 4834.92 | ETA 00:00:00\n",
      "Average TPS: 4829.72\n",
      "---------\n",
      "-- Neighborlist stats:\n",
      "2524 normal updates / 18 forced updates / 0 dangerous updates\n",
      "n_neigh_min: 51 / n_neigh_max: 66 / n_neigh_avg: 58.684\n",
      "shortest rebuild period: 1\n",
      "-- Cell list stats:\n",
      "Dimension: 4, 4, 4\n",
      "n_min    : 12 / n_max: 19 / n_avg: 15.625\n",
      "** run complete **\n",
      "** starting run **\n",
      "Time 00:00:05 | Step 30000 / 30000 | TPS 4822.89 | ETA 00:00:00\n",
      "Average TPS: 4817.58\n",
      "---------\n",
      "-- Neighborlist stats:\n",
      "2525 normal updates / 17 forced updates / 0 dangerous updates\n",
      "n_neigh_min: 51 / n_neigh_max: 66 / n_neigh_avg: 58.702\n",
      "shortest rebuild period: 1\n",
      "-- Cell list stats:\n",
      "Dimension: 4, 4, 4\n",
      "n_min    : 12 / n_max: 20 / n_avg: 15.625\n",
      "** run complete **\n",
      "** starting run **\n",
      "Time 00:00:06 | Step 35000 / 35000 | TPS 4840.96 | ETA 00:00:00\n",
      "Average TPS: 4833.84\n",
      "---------\n",
      "-- Neighborlist stats:\n",
      "2522 normal updates / 18 forced updates / 0 dangerous updates\n",
      "n_neigh_min: 51 / n_neigh_max: 67 / n_neigh_avg: 58.72\n",
      "shortest rebuild period: 1\n",
      "-- Cell list stats:\n",
      "Dimension: 4, 4, 4\n",
      "n_min    : 12 / n_max: 20 / n_avg: 15.625\n",
      "** run complete **\n",
      "** starting run **\n",
      "Time 00:00:06 | Step 40000 / 40000 | TPS 7874.26 | ETA 00:00:00\n",
      "Average TPS: 7861.67\n",
      "---------\n",
      "-- Neighborlist stats:\n",
      "926 normal updates / 18 forced updates / 0 dangerous updates\n",
      "n_neigh_min: 61 / n_neigh_max: 77 / n_neigh_avg: 68.794\n",
      "shortest rebuild period: 4\n",
      "-- Cell list stats:\n",
      "Dimension: 3, 3, 3\n",
      "n_min    : 33 / n_max: 41 / n_avg: 37.037\n",
      "** run complete **\n",
      "** starting run **\n",
      "Time 00:00:07 | Step 45000 / 45000 | TPS 6743.96 | ETA 00:00:00\n",
      "Average TPS: 6734.43\n",
      "---------\n",
      "-- Neighborlist stats:\n",
      "921 normal updates / 17 forced updates / 0 dangerous updates\n",
      "n_neigh_min: 62 / n_neigh_max: 77 / n_neigh_avg: 68.782\n",
      "shortest rebuild period: 4\n",
      "-- Cell list stats:\n",
      "Dimension: 3, 3, 3\n",
      "n_min    : 31 / n_max: 42 / n_avg: 37.037\n",
      "** run complete **\n",
      "** starting run **\n",
      "Time 00:00:08 | Step 50000 / 50000 | TPS 7868.64 | ETA 00:00:00\n",
      "Average TPS: 7856.71\n",
      "---------\n",
      "-- Neighborlist stats:\n",
      "931 normal updates / 18 forced updates / 0 dangerous updates\n",
      "n_neigh_min: 60 / n_neigh_max: 77 / n_neigh_avg: 69.012\n",
      "shortest rebuild period: 4\n",
      "-- Cell list stats:\n",
      "Dimension: 3, 3, 3\n",
      "n_min    : 32 / n_max: 42 / n_avg: 37.037\n",
      "** run complete **\n",
      "** starting run **\n",
      "Time 00:00:08 | Step 55000 / 55000 | TPS 9408.74 | ETA 00:00:00\n",
      "Average TPS: 9388.83\n",
      "---------\n",
      "-- Neighborlist stats:\n",
      "535 normal updates / 18 forced updates / 0 dangerous updates\n",
      "n_neigh_min: 70 / n_neigh_max: 90 / n_neigh_avg: 81.628\n",
      "shortest rebuild period: 7\n",
      "-- Cell list stats:\n",
      "Dimension: 3, 3, 3\n",
      "n_min    : 32 / n_max: 43 / n_avg: 37.037\n",
      "** run complete **\n",
      "** starting run **\n",
      "Time 00:00:09 | Step 60000 / 60000 | TPS 9443.41 | ETA 00:00:00\n",
      "Average TPS: 9428.02\n",
      "---------\n",
      "-- Neighborlist stats:\n",
      "532 normal updates / 17 forced updates / 0 dangerous updates\n",
      "n_neigh_min: 73 / n_neigh_max: 89 / n_neigh_avg: 81.586\n",
      "shortest rebuild period: 7\n",
      "-- Cell list stats:\n",
      "Dimension: 3, 3, 3\n",
      "n_min    : 31 / n_max: 41 / n_avg: 37.037\n",
      "** run complete **\n",
      "** starting run **\n",
      "Time 00:00:09 | Step 65000 / 65000 | TPS 9371.65 | ETA 00:00:00\n",
      "Average TPS: 9354.47\n",
      "---------\n",
      "-- Neighborlist stats:\n",
      "542 normal updates / 18 forced updates / 0 dangerous updates\n",
      "n_neigh_min: 71 / n_neigh_max: 91 / n_neigh_avg: 81.74\n",
      "shortest rebuild period: 7\n",
      "-- Cell list stats:\n",
      "Dimension: 3, 3, 3\n",
      "n_min    : 33 / n_max: 41 / n_avg: 37.037\n",
      "** run complete **\n",
      "** starting run **\n",
      "Time 00:00:10 | Step 70000 / 70000 | TPS 10149.4 | ETA 00:00:00\n",
      "Average TPS: 10131.4\n",
      "---------\n",
      "-- Neighborlist stats:\n",
      "366 normal updates / 18 forced updates / 0 dangerous updates\n",
      "n_neigh_min: 86 / n_neigh_max: 106 / n_neigh_avg: 96.716\n",
      "shortest rebuild period: 9\n",
      "-- Cell list stats:\n",
      "Dimension: 3, 3, 3\n",
      "n_min    : 33 / n_max: 40 / n_avg: 37.037\n",
      "** run complete **\n",
      "** starting run **\n",
      "Time 00:00:10 | Step 75000 / 75000 | TPS 10171.8 | ETA 00:00:00\n",
      "Average TPS: 10152.6\n",
      "---------\n",
      "-- Neighborlist stats:\n",
      "365 normal updates / 17 forced updates / 0 dangerous updates\n",
      "n_neigh_min: 86 / n_neigh_max: 106 / n_neigh_avg: 96.754\n",
      "shortest rebuild period: 10\n",
      "-- Cell list stats:\n",
      "Dimension: 3, 3, 3\n",
      "n_min    : 33 / n_max: 41 / n_avg: 37.037\n",
      "** run complete **\n",
      "** starting run **\n",
      "Time 00:00:11 | Step 80000 / 80000 | TPS 10141.4 | ETA 00:00:00\n",
      "Average TPS: 10121.8\n",
      "---------\n",
      "-- Neighborlist stats:\n",
      "365 normal updates / 18 forced updates / 0 dangerous updates\n",
      "n_neigh_min: 87 / n_neigh_max: 108 / n_neigh_avg: 96.83\n",
      "shortest rebuild period: 10\n",
      "-- Cell list stats:\n",
      "Dimension: 3, 3, 3\n",
      "n_min    : 32 / n_max: 43 / n_avg: 37.037\n",
      "** run complete **\n",
      "** starting run **\n",
      "Time 00:00:11 | Step 85000 / 85000 | TPS 10473.4 | ETA 00:00:00\n",
      "Average TPS: 10452.9\n",
      "---------\n",
      "-- Neighborlist stats:\n",
      "273 normal updates / 18 forced updates / 0 dangerous updates\n",
      "n_neigh_min: 101 / n_neigh_max: 124 / n_neigh_avg: 113.272\n",
      "shortest rebuild period: 13\n",
      "-- Cell list stats:\n",
      "Dimension: 3, 3, 3\n",
      "n_min    : 31 / n_max: 42 / n_avg: 37.037\n",
      "** run complete **\n",
      "** starting run **\n",
      "Time 00:00:12 | Step 90000 / 90000 | TPS 10493.6 | ETA 00:00:00\n",
      "Average TPS: 10473\n",
      "---------\n",
      "-- Neighborlist stats:\n",
      "269 normal updates / 17 forced updates / 0 dangerous updates\n",
      "n_neigh_min: 101 / n_neigh_max: 124 / n_neigh_avg: 113.186\n",
      "shortest rebuild period: 13\n",
      "-- Cell list stats:\n",
      "Dimension: 3, 3, 3\n",
      "n_min    : 33 / n_max: 40 / n_avg: 37.037\n",
      "** run complete **\n",
      "** starting run **\n",
      "Time 00:00:12 | Step 95000 / 95000 | TPS 10508.4 | ETA 00:00:00\n",
      "Average TPS: 10485.9\n",
      "---------\n",
      "-- Neighborlist stats:\n",
      "274 normal updates / 18 forced updates / 0 dangerous updates\n",
      "n_neigh_min: 103 / n_neigh_max: 127 / n_neigh_avg: 113.29\n",
      "shortest rebuild period: 12\n",
      "-- Cell list stats:\n",
      "Dimension: 3, 3, 3\n",
      "n_min    : 33 / n_max: 47 / n_avg: 37.037\n",
      "** run complete **\n",
      "** starting run **\n",
      "Time 00:00:13 | Step 100000 / 100000 | TPS 10611.9 | ETA 00:00:00\n",
      "Average TPS: 10589.3\n",
      "---------\n",
      "-- Neighborlist stats:\n",
      "214 normal updates / 18 forced updates / 0 dangerous updates\n",
      "n_neigh_min: 117 / n_neigh_max: 143 / n_neigh_avg: 130.208\n",
      "shortest rebuild period: 17\n",
      "-- Cell list stats:\n",
      "Dimension: 3, 3, 3\n",
      "n_min    : 32 / n_max: 41 / n_avg: 37.037\n",
      "** run complete **\n",
      "** starting run **\n",
      "Time 00:00:13 | Step 105000 / 105000 | TPS 10382.7 | ETA 00:00:00\n",
      "Average TPS: 10361.4\n",
      "---------\n",
      "-- Neighborlist stats:\n",
      "213 normal updates / 17 forced updates / 0 dangerous updates\n",
      "n_neigh_min: 119 / n_neigh_max: 144 / n_neigh_avg: 130.302\n",
      "shortest rebuild period: 17\n",
      "-- Cell list stats:\n",
      "Dimension: 3, 3, 3\n",
      "n_min    : 32 / n_max: 41 / n_avg: 37.037\n",
      "** run complete **\n",
      "** starting run **\n",
      "Time 00:00:14 | Step 110000 / 110000 | TPS 10665.3 | ETA 00:00:00\n",
      "Average TPS: 10641.6\n",
      "---------\n",
      "-- Neighborlist stats:\n",
      "211 normal updates / 18 forced updates / 0 dangerous updates\n",
      "n_neigh_min: 119 / n_neigh_max: 144 / n_neigh_avg: 129.976\n",
      "shortest rebuild period: 17\n",
      "-- Cell list stats:\n",
      "Dimension: 3, 3, 3\n",
      "n_min    : 33 / n_max: 42 / n_avg: 37.037\n",
      "** run complete **\n",
      "** starting run **\n",
      "Time 00:00:14 | Step 115000 / 115000 | TPS 10659 | ETA 00:00:00\n",
      "Average TPS: 10638.3\n",
      "---------\n",
      "-- Neighborlist stats:\n",
      "168 normal updates / 18 forced updates / 0 dangerous updates\n",
      "n_neigh_min: 136 / n_neigh_max: 159 / n_neigh_avg: 147.512\n",
      "shortest rebuild period: 20\n",
      "-- Cell list stats:\n",
      "Dimension: 3, 3, 3\n",
      "n_min    : 34 / n_max: 40 / n_avg: 37.037\n",
      "** run complete **\n",
      "** starting run **\n",
      "Time 00:00:15 | Step 120000 / 120000 | TPS 10722.9 | ETA 00:00:00\n",
      "Average TPS: 10702.5\n",
      "---------\n",
      "-- Neighborlist stats:\n",
      "165 normal updates / 17 forced updates / 0 dangerous updates\n",
      "n_neigh_min: 139 / n_neigh_max: 159 / n_neigh_avg: 147.756\n",
      "shortest rebuild period: 22\n",
      "-- Cell list stats:\n",
      "Dimension: 3, 3, 3\n",
      "n_min    : 32 / n_max: 43 / n_avg: 37.037\n",
      "** run complete **\n",
      "** starting run **\n",
      "Time 00:00:15 | Step 125000 / 125000 | TPS 10704 | ETA 00:00:00\n",
      "Average TPS: 10681.8\n",
      "---------\n",
      "-- Neighborlist stats:\n",
      "167 normal updates / 18 forced updates / 0 dangerous updates\n",
      "n_neigh_min: 138 / n_neigh_max: 158 / n_neigh_avg: 147.746\n",
      "shortest rebuild period: 20\n",
      "-- Cell list stats:\n",
      "Dimension: 3, 3, 3\n",
      "n_min    : 33 / n_max: 42 / n_avg: 37.037\n",
      "** run complete **\n",
      "** starting run **\n",
      "Time 00:00:16 | Step 130000 / 130000 | TPS 10564.4 | ETA 00:00:00\n",
      "Average TPS: 10544.2\n",
      "---------\n",
      "-- Neighborlist stats:\n",
      "133 normal updates / 18 forced updates / 0 dangerous updates\n",
      "n_neigh_min: 156 / n_neigh_max: 180 / n_neigh_avg: 167.382\n",
      "shortest rebuild period: 26\n",
      "-- Cell list stats:\n",
      "Dimension: 2, 2, 2\n",
      "n_min    : 121 / n_max: 128 / n_avg: 125\n",
      "** run complete **\n",
      "** starting run **\n",
      "Time 00:00:16 | Step 135000 / 135000 | TPS 10744.4 | ETA 00:00:00\n",
      "Average TPS: 10727.1\n",
      "---------\n",
      "-- Neighborlist stats:\n",
      "136 normal updates / 17 forced updates / 0 dangerous updates\n",
      "n_neigh_min: 154 / n_neigh_max: 179 / n_neigh_avg: 166.998\n",
      "shortest rebuild period: 24\n",
      "-- Cell list stats:\n",
      "Dimension: 2, 2, 2\n",
      "n_min    : 120 / n_max: 136 / n_avg: 125\n",
      "** run complete **\n",
      "** starting run **\n",
      "Time 00:00:17 | Step 140000 / 140000 | TPS 10733.3 | ETA 00:00:00\n",
      "Average TPS: 10708.9\n",
      "---------\n",
      "-- Neighborlist stats:\n",
      "134 normal updates / 18 forced updates / 0 dangerous updates\n",
      "n_neigh_min: 153 / n_neigh_max: 179 / n_neigh_avg: 166.922\n",
      "shortest rebuild period: 26\n",
      "-- Cell list stats:\n",
      "Dimension: 2, 2, 2\n",
      "n_min    : 120 / n_max: 131 / n_avg: 125\n",
      "** run complete **\n",
      "** starting run **\n",
      "Time 00:00:17 | Step 145000 / 145000 | TPS 10558.5 | ETA 00:00:00\n",
      "Average TPS: 10538.9\n",
      "---------\n",
      "-- Neighborlist stats:\n",
      "108 normal updates / 18 forced updates / 0 dangerous updates\n",
      "n_neigh_min: 174 / n_neigh_max: 202 / n_neigh_avg: 189.154\n",
      "shortest rebuild period: 29\n",
      "-- Cell list stats:\n",
      "Dimension: 2, 2, 2\n",
      "n_min    : 120 / n_max: 128 / n_avg: 125\n",
      "** run complete **\n",
      "** starting run **\n",
      "Time 00:00:18 | Step 150000 / 150000 | TPS 10578.1 | ETA 00:00:00\n",
      "Average TPS: 10561.7\n",
      "---------\n",
      "-- Neighborlist stats:\n",
      "112 normal updates / 17 forced updates / 0 dangerous updates\n",
      "n_neigh_min: 177 / n_neigh_max: 202 / n_neigh_avg: 188.578\n",
      "shortest rebuild period: 28\n",
      "-- Cell list stats:\n",
      "Dimension: 2, 2, 2\n",
      "n_min    : 121 / n_max: 126 / n_avg: 125\n",
      "** run complete **\n",
      "** starting run **\n",
      "Time 00:00:18 | Step 155000 / 155000 | TPS 10596.5 | ETA 00:00:00\n",
      "Average TPS: 10575.8\n",
      "---------\n",
      "-- Neighborlist stats:\n",
      "110 normal updates / 18 forced updates / 0 dangerous updates\n",
      "n_neigh_min: 175 / n_neigh_max: 202 / n_neigh_avg: 188.658\n",
      "shortest rebuild period: 26\n",
      "-- Cell list stats:\n",
      "Dimension: 2, 2, 2\n",
      "n_min    : 117 / n_max: 137 / n_avg: 125\n",
      "** run complete **\n",
      "** starting run **\n",
      "Time 00:00:19 | Step 160000 / 160000 | TPS 10249.4 | ETA 00:00:00\n",
      "Average TPS: 10230.8\n",
      "---------\n",
      "-- Neighborlist stats:\n",
      "89 normal updates / 18 forced updates / 0 dangerous updates\n",
      "n_neigh_min: 199 / n_neigh_max: 226 / n_neigh_avg: 213.59\n",
      "shortest rebuild period: 36\n",
      "-- Cell list stats:\n",
      "Dimension: 2, 2, 2\n",
      "n_min    : 119 / n_max: 130 / n_avg: 125\n",
      "** run complete **\n",
      "** starting run **\n",
      "Time 00:00:19 | Step 165000 / 165000 | TPS 10309.9 | ETA 00:00:00\n",
      "Average TPS: 10294.2\n",
      "---------\n",
      "-- Neighborlist stats:\n",
      "91 normal updates / 17 forced updates / 0 dangerous updates\n",
      "n_neigh_min: 196 / n_neigh_max: 226 / n_neigh_avg: 213.546\n",
      "shortest rebuild period: 36\n",
      "-- Cell list stats:\n",
      "Dimension: 2, 2, 2\n",
      "n_min    : 120 / n_max: 129 / n_avg: 125\n",
      "** run complete **\n",
      "** starting run **\n",
      "Time 00:00:20 | Step 170000 / 170000 | TPS 10279.2 | ETA 00:00:00\n",
      "Average TPS: 10257.1\n",
      "---------\n",
      "-- Neighborlist stats:\n",
      "92 normal updates / 18 forced updates / 0 dangerous updates\n",
      "n_neigh_min: 201 / n_neigh_max: 227 / n_neigh_avg: 213.446\n",
      "shortest rebuild period: 36\n",
      "-- Cell list stats:\n",
      "Dimension: 2, 2, 2\n",
      "n_min    : 119 / n_max: 132 / n_avg: 125\n",
      "** run complete **\n",
      "** starting run **\n",
      "Time 00:00:20 | Step 175000 / 175000 | TPS 9919.65 | ETA 00:00:00\n",
      "Average TPS: 9902.03\n",
      "---------\n",
      "-- Neighborlist stats:\n",
      "73 normal updates / 18 forced updates / 0 dangerous updates\n",
      "n_neigh_min: 227 / n_neigh_max: 251 / n_neigh_avg: 240.24\n",
      "shortest rebuild period: 39\n",
      "-- Cell list stats:\n",
      "Dimension: 2, 2, 2\n",
      "n_min    : 122 / n_max: 131 / n_avg: 125\n",
      "** run complete **\n",
      "** starting run **\n",
      "Time 00:00:21 | Step 180000 / 180000 | TPS 9959.43 | ETA 00:00:00\n",
      "Average TPS: 9919.43\n",
      "---------\n",
      "-- Neighborlist stats:\n",
      "73 normal updates / 17 forced updates / 0 dangerous updates\n",
      "n_neigh_min: 228 / n_neigh_max: 255 / n_neigh_avg: 240.012\n",
      "shortest rebuild period: 42\n",
      "-- Cell list stats:\n",
      "Dimension: 2, 2, 2\n",
      "n_min    : 116 / n_max: 131 / n_avg: 125\n",
      "** run complete **\n",
      "** starting run **\n",
      "Time 00:00:21 | Step 185000 / 185000 | TPS 9753.2 | ETA 00:00:00\n",
      "Average TPS: 9735.07\n",
      "---------\n",
      "-- Neighborlist stats:\n",
      "70 normal updates / 18 forced updates / 0 dangerous updates\n",
      "n_neigh_min: 225 / n_neigh_max: 254 / n_neigh_avg: 239.846\n",
      "shortest rebuild period: 44\n",
      "-- Cell list stats:\n",
      "Dimension: 2, 2, 2\n",
      "n_min    : 120 / n_max: 133 / n_avg: 125\n",
      "** run complete **\n",
      "** starting run **\n",
      "Time 00:00:23 | Step 205000 / 205000 | TPS 10576 | ETA 00:00:00\n",
      "Average TPS: 10570.1\n",
      "---------\n",
      "-- Neighborlist stats:\n",
      "548 normal updates / 68 forced updates / 0 dangerous updates\n",
      "n_neigh_min: 153 / n_neigh_max: 178 / n_neigh_avg: 166.92\n",
      "shortest rebuild period: 24\n",
      "-- Cell list stats:\n",
      "Dimension: 2, 2, 2\n",
      "n_min    : 121 / n_max: 127 / n_avg: 125\n",
      "** run complete **\n",
      "notice(2): r_buff = [0.05, 0.2, 0.35, 0.49999999999999994, 0.65, 0.8, 0.95, 1.1, 1.25, 1.4, 1.55]\n",
      "notice(2): tps = [4829.723276175168, 7856.706248752748, 9388.825044878584, 10131.404313951958, 10472.980756945157, 10589.271796957068, 10681.843429811744, 10708.885376374485, 10561.669588728586, 10257.104583489754, 9902.029321889228]\n",
      "notice(2): Optimal r_buff: 1.1\n",
      "notice(2): Maximum check_period: 23\n"
     ]
    },
    {
     "data": {
      "text/plain": [
       "(1.1, 23)"
      ]
     },
     "execution_count": 3,
     "metadata": {},
     "output_type": "execute_result"
    }
   ],
   "source": [
    "nl.tune(warmup=20000, r_min=0.05, r_max=1.55, jumps=11, steps=5000, set_max_check_period=False)"
   ]
  },
  {
   "cell_type": "markdown",
   "metadata": {},
   "source": [
    "The resulting performance vs r_buff curve looks like this."
   ]
  },
  {
   "cell_type": "code",
   "execution_count": 7,
   "metadata": {
    "collapsed": false
   },
   "outputs": [
    {
     "data": {
      "text/plain": [
       "<matplotlib.text.Text at 0x7f6b1d556c18>"
      ]
     },
     "execution_count": 7,
     "metadata": {},
     "output_type": "execute_result"
    },
    {
     "data": {
      "image/png": "[encoded data removed]",
      "text/plain": [
       "<matplotlib.figure.Figure at 0x7f6b1d52d4e0>"
      ]
     },
     "metadata": {},
     "output_type": "display_data"
    }
   ],
   "source": [
    "pyplot.plot([0.05, 0.2, 0.35, 0.49999999999999994, 0.65, 0.8, 0.95, 1.1, 1.25, 1.4, 1.55], [4829.723276175168, 7856.706248752748, 9388.825044878584, 10131.404313951958, 10472.980756945157, 10589.271796957068, 10681.843429811744, 10708.885376374485, 10561.669588728586, 10257.104583489754, 9902.029321889228], '+')\n",
    "pyplot.xlabel('r_buff')\n",
    "pyplot.ylabel('performance')"
   ]
  },
  {
   "cell_type": "markdown",
   "metadata": {},
   "source": [
    "Tune r_buff in a few test simulations at the range of parameters you intend to explore. Then set a static r_buff in your production simulations."
   ]
  },
  {
   "cell_type": "code",
   "execution_count": 8,
   "metadata": {
    "collapsed": false
   },
   "outputs": [
    {
     "name": "stdout",
     "output_type": "stream",
     "text": [
      "** starting run **\n",
      "Time 00:03:32 | Step 210000 / 210000 | TPS 11517.2 | ETA 00:00:00\n",
      "Average TPS: 11482.8\n",
      "---------\n",
      "-- Neighborlist stats:\n",
      "132 normal updates / 17 forced updates / 0 dangerous updates\n",
      "n_neigh_min: 157 / n_neigh_max: 179 / n_neigh_avg: 166.836\n",
      "shortest rebuild period: 24\n",
      "-- Cell list stats:\n",
      "Dimension: 2, 2, 2\n",
      "n_min    : 120 / n_max: 132 / n_avg: 125\n",
      "** run complete **\n"
     ]
    }
   ],
   "source": [
    "nl.set_params(r_buff = 1.1, check_period=23)\n",
    "hoomd.run(5000)"
   ]
  },
  {
   "cell_type": "markdown",
   "metadata": {},
   "source": [
    "## Use a different acceleration structure\n",
    "\n",
    "HOOMD provides 3 types of acceleration structures for neighbor lists. The cell list (consider this the default), the stenciled cell list, and the tree data structure. See [the nlist documentation](http://hoomd-blue.readthedocs.io/en/stable/module-md-nlist.html) for more information. This example just demonstrates how to enable the different acceleration structures.\n",
    "\n",
    "### Stencil cell list"
   ]
  },
  {
   "cell_type": "code",
   "execution_count": 9,
   "metadata": {
    "collapsed": false
   },
   "outputs": [
    {
     "name": "stdout",
     "output_type": "stream",
     "text": [
      "notice(2): Group \"all\" created containing 1000 particles\n",
      "-----\n",
      "You are using stenciled neighbor lists. Please cite the following:\n",
      "* M P Howard, J A Anderson, A Nikoubashman, S C Glotzer, and A Z\n",
      "  Panagiotopoulos. \"Efficient neighbor list calculation for molecular simulation\n",
      "  of colloidal systems using graphics processing units\", Computer Physics\n",
      "  Communications 203 (2016) 45--52\n",
      "-----\n",
      "notice(2): integrate.langevin/bd is using specified gamma values\n"
     ]
    },
    {
     "data": {
      "text/plain": [
       "<hoomd.md.integrate.langevin at 0x7f6b1d584b70>"
      ]
     },
     "execution_count": 9,
     "metadata": {},
     "output_type": "execute_result"
    }
   ],
   "source": [
    "hoomd.context.initialize('')\n",
    "system = hoomd.init.create_lattice(unitcell=hoomd.lattice.sc(a=1.05), n=10)\n",
    "nl = hoomd.md.nlist.stencil(r_buff = 1.1, cell_width = 1.8)\n",
    "lj = hoomd.md.pair.lj(r_cut=2.5, nlist=nl)\n",
    "lj.pair_coeff.set('A', 'A', epsilon=1.0, sigma=1.0)\n",
    "hoomd.md.integrate.mode_standard(dt=0.005)\n",
    "hoomd.md.integrate.langevin(group=hoomd.group.all(), kT=1.0, seed=2)"
   ]
  },
  {
   "cell_type": "code",
   "execution_count": 10,
   "metadata": {
    "collapsed": false
   },
   "outputs": [
    {
     "name": "stdout",
     "output_type": "stream",
     "text": [
      "notice(2): -- Neighborlist exclusion statistics -- :\n",
      "notice(2): Particles with 0 exclusions             : 1000\n",
      "notice(2): Neighbors included by diameter          : no\n",
      "notice(2): Neighbors excluded when in the same body: no\n",
      "** starting run **\n",
      "Time 00:00:09 | Step 5000 / 5000 | TPS 3897.64 | ETA 00:00:00\n",
      "Average TPS: 3890.96\n",
      "---------\n",
      "-- Neighborlist stats:\n",
      "131 normal updates / 18 forced updates / 0 dangerous updates\n",
      "n_neigh_min: 153 / n_neigh_max: 180 / n_neigh_avg: 167.004\n",
      "shortest rebuild period: 23\n",
      "-- Cell list stats:\n",
      "Dimension: 5, 5, 5\n",
      "n_min    : 5 / n_max: 11 / n_avg: 8\n",
      "** run complete **\n"
     ]
    }
   ],
   "source": [
    "hoomd.run(5000)"
   ]
  },
  {
   "cell_type": "markdown",
   "metadata": {},
   "source": [
    "To fully evaluate the performance of the stencil cell list, tune the ``cell_width`` and ``r_buff``."
   ]
  },
  {
   "cell_type": "markdown",
   "metadata": {},
   "source": [
    "### Tree"
   ]
  },
  {
   "cell_type": "code",
   "execution_count": 11,
   "metadata": {
    "collapsed": false
   },
   "outputs": [
    {
     "name": "stdout",
     "output_type": "stream",
     "text": [
      "notice(2): Group \"all\" created containing 1000 particles\n",
      "-----\n",
      "You are using tree neighbor lists. Please cite the following:\n",
      "* M P Howard, J A Anderson, A Nikoubashman, S C Glotzer, and A Z\n",
      "  Panagiotopoulos. \"Efficient neighbor list calculation for molecular simulation\n",
      "  of colloidal systems using graphics processing units\", Computer Physics\n",
      "  Communications 203 (2016) 45--52\n",
      "-----\n",
      "notice(2): integrate.langevin/bd is using specified gamma values\n"
     ]
    },
    {
     "data": {
      "text/plain": [
       "<hoomd.md.integrate.langevin at 0x7f6b1d4df7f0>"
      ]
     },
     "execution_count": 11,
     "metadata": {},
     "output_type": "execute_result"
    }
   ],
   "source": [
    "hoomd.context.initialize('')\n",
    "system = hoomd.init.create_lattice(unitcell=hoomd.lattice.sc(a=1.05), n=10)\n",
    "nl = hoomd.md.nlist.tree(r_buff = 1.1)\n",
    "lj = hoomd.md.pair.lj(r_cut=2.5, nlist=nl)\n",
    "lj.pair_coeff.set('A', 'A', epsilon=1.0, sigma=1.0)\n",
    "hoomd.md.integrate.mode_standard(dt=0.005)\n",
    "hoomd.md.integrate.langevin(group=hoomd.group.all(), kT=1.0, seed=2)"
   ]
  },
  {
   "cell_type": "code",
   "execution_count": 12,
   "metadata": {
    "collapsed": false
   },
   "outputs": [
    {
     "name": "stdout",
     "output_type": "stream",
     "text": [
      "notice(2): -- Neighborlist exclusion statistics -- :\n",
      "notice(2): Particles with 0 exclusions             : 1000\n",
      "notice(2): Neighbors included by diameter          : no\n",
      "notice(2): Neighbors excluded when in the same body: no\n",
      "** starting run **\n",
      "Time 00:00:10 | Step 5000 / 5000 | TPS 2581.54 | ETA 00:00:00\n",
      "Average TPS: 2580.06\n",
      "---------\n",
      "-- Neighborlist stats:\n",
      "132 normal updates / 18 forced updates / 0 dangerous updates\n",
      "n_neigh_min: 155 / n_neigh_max: 179 / n_neigh_avg: 166.81\n",
      "shortest rebuild period: 23\n",
      "** run complete **\n"
     ]
    }
   ],
   "source": [
    "hoomd.run(5000)"
   ]
  },
  {
   "cell_type": "code",
   "execution_count": null,
   "metadata": {
    "collapsed": true
   },
   "outputs": [],
   "source": []
  }
 ],
 "metadata": {
  "kernelspec": {
   "display_name": "Python 3",
   "language": "python",
   "name": "python3"
  },
  "language_info": {
   "codemirror_mode": {
    "name": "ipython",
    "version": 3
   },
   "file_extension": ".py",
   "mimetype": "text/x-python",
   "name": "python",
   "nbconvert_exporter": "python",
   "pygments_lexer": "ipython3",
   "version": "3.4.5"
  }
 },
 "nbformat": 4,
 "nbformat_minor": 1
}
