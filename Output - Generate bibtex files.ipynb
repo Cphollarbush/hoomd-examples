{
 "cells": [
  {
   "cell_type": "code",
   "execution_count": 1,
   "metadata": {
    "collapsed": false
   },
   "outputs": [],
   "source": [
    "import hoomd\n",
    "import hoomd.md"
   ]
  },
  {
   "cell_type": "markdown",
   "metadata": {},
   "source": [
    "# Generate bibtex files to cite hoomd\n",
    "\n",
    "Various authors have contributed to HOOMD. Some components of HOOMD represented a significant amount of development effort and resulted in a methods publication. HOOMD notifies you when you use these components. For example, see the message output by ``pair.dpd``."
   ]
  },
  {
   "cell_type": "code",
   "execution_count": 2,
   "metadata": {
    "collapsed": false
   },
   "outputs": [
    {
     "name": "stdout",
     "output_type": "stream",
     "text": [
      "HOOMD-blue v2.1.5 CUDA (7.5) DOUBLE HPMC_MIXED MPI SSE SSE2 SSE3 SSE4_1 SSE4_2 AVX \n",
      "Compiled: 03/09/2017\n",
      "Copyright 2009-2016 The Regents of the University of Michigan.\n",
      "-----\n",
      "You are using HOOMD-blue. Please cite the following:\n",
      "* J A Anderson, C D Lorenz, and A Travesset. \"General purpose molecular dynamics\n",
      "  simulations fully implemented on graphics processing units\", Journal of\n",
      "  Computational Physics 227 (2008) 5342--5359\n",
      "* J Glaser, T D Nguyen, J A Anderson, P Liu, F Spiga, J A Millan, D C Morse, and\n",
      "  S C Glotzer. \"Strong scaling of general-purpose molecular dynamics simulations\n",
      "  on GPUs\", Computer Physics Communications 192 (2015) 97--107\n",
      "-----\n",
      "notice(2): This system is not compute exclusive, using local rank to select GPUs\n",
      "notice(2): Unable to identify node local rank information\n",
      "notice(2): Using global rank to select GPUs\n",
      "HOOMD-blue is running on the following GPU(s):\n",
      " [0]            Tesla K20c  13 SM_3.5 @ 0.706 GHz, 5060 MiB DRAM\n",
      "notice(2): Group \"all\" created containing 125 particles\n"
     ]
    }
   ],
   "source": [
    "hoomd.context.initialize('');\n",
    "hoomd.init.create_lattice(unitcell=hoomd.lattice.sc(a=2.0), n=5);"
   ]
  },
  {
   "cell_type": "code",
   "execution_count": 3,
   "metadata": {
    "collapsed": false
   },
   "outputs": [
    {
     "name": "stdout",
     "output_type": "stream",
     "text": [
      "-----\n",
      "You are using DPD. Please cite the following:\n",
      "* C L Phillips, J A Anderson, and S C Glotzer. \"Pseudo-random number generation\n",
      "  for Brownian Dynamics and Dissipative Particle Dynamics simulations on GPU\n",
      "  devices\", Journal of Computational Physics 230 (2011) 7191--7201\n",
      "-----\n"
     ]
    }
   ],
   "source": [
    "nl = hoomd.md.nlist.cell();\n",
    "hoomd.md.pair.dpd(r_cut=1.0, nlist=nl, kT=1.0, seed=1);"
   ]
  },
  {
   "cell_type": "markdown",
   "metadata": {},
   "source": [
    "## Save a BibTex file\n",
    "\n",
    "Use ``cite.save`` to save a BibTex file with the relevant citations."
   ]
  },
  {
   "cell_type": "code",
   "execution_count": 4,
   "metadata": {
    "collapsed": true
   },
   "outputs": [],
   "source": [
    "hoomd.cite.save('file.bib');"
   ]
  },
  {
   "cell_type": "code",
   "execution_count": 5,
   "metadata": {
    "collapsed": false
   },
   "outputs": [
    {
     "name": "stdout",
     "output_type": "stream",
     "text": [
      "% This BibTeX file was automatically generated from HOOMD-blue\r\n",
      "% Encoding: UTF-8\r\n",
      "\r\n",
      "@article{anderson2008,\r\n",
      "  author = {J A Anderson and C D Lorenz and A Travesset},\r\n",
      "  journal = {Journal of Computational Physics},\r\n",
      "  month = {may},\r\n",
      "  number = {10},\r\n",
      "  pages = {5342--5359},\r\n",
      "  title = {General purpose molecular dynamics simulations fully implemented on graphics processing units},\r\n",
      "  volume = {227},\r\n",
      "  year = {2008},\r\n",
      "  doi = {10.1016/j.jcp.2008.01.047},\r\n",
      "  url = {http://dx.doi.org/10.1016/j.jcp.2008.01.047},\r\n",
      "  note = {HOOMD-blue feature: HOOMD-blue}\r\n",
      "}\r\n",
      "\r\n",
      "@article{phillips2011,\r\n",
      "  author = {C L Phillips and J A Anderson and S C Glotzer},\r\n",
      "  journal = {Journal of Computational Physics},\r\n",
      "  month = {Aug},\r\n",
      "  number = {19},\r\n",
      "  pages = {7191--7201},\r\n",
      "  title = {Pseudo-random number generation for Brownian Dynamics and Dissipative Particle Dynamics simulations on GPU devices},\r\n",
      "  volume = {230},\r\n",
      "  year = {2011},\r\n",
      "  doi = {10.1016/j.jcp.2011.05.021},\r\n",
      "  url = {http://dx.doi.org/10.1016/j.jcp.2011.05.021},\r\n",
      "  note = {HOOMD-blue feature: DPD}\r\n",
      "}\r\n",
      "\r\n",
      "@article{glaser2015,\r\n",
      "  author = {J Glaser and T D Nguyen and J A Anderson and P Liu and F Spiga and J A Millan and D C Morse and S C Glotzer},\r\n",
      "  journal = {Computer Physics Communications},\r\n",
      "  month = {july},\r\n",
      "  pages = {97--107},\r\n",
      "  title = {Strong scaling of general-purpose molecular dynamics simulations on GPUs},\r\n",
      "  volume = {192},\r\n",
      "  year = {2015},\r\n",
      "  doi = {10.1016/j.cpc.2015.02.028},\r\n",
      "  url = {http://dx.doi.org/10.1016/j.cpc.2015.02.028},\r\n",
      "  note = {HOOMD-blue feature: HOOMD-blue}\r\n",
      "}\r\n",
      "\r\n"
     ]
    }
   ],
   "source": [
    "!cat file.bib"
   ]
  }
 ],
 "metadata": {
  "kernelspec": {
   "display_name": "Python 3",
   "language": "python",
   "name": "python3"
  },
  "language_info": {
   "codemirror_mode": {
    "name": "ipython",
    "version": 3
   },
   "file_extension": ".py",
   "mimetype": "text/x-python",
   "name": "python",
   "nbconvert_exporter": "python",
   "pygments_lexer": "ipython3",
   "version": "3.5.3"
  }
 },
 "nbformat": 4,
 "nbformat_minor": 2
}
