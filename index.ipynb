{
 "cells": [
  {
   "cell_type": "markdown",
   "metadata": {},
   "source": [
    "# HOOMD-blue example scripts\n",
    "\n",
    "Welcome to the HOOMD-blue example scripts. These jupyter notebooks demonstrate how to utilize the functionality of [HOOMD-blue](http://glotzerlab.engin.umich.edu/hoomd-blue/), from the most basic level to advanced topics. You can view a [static version of this online](http://nbviewer.jupyter.org/github/joaander/hoomd-examples/blob/master/index.ipynb), or download the examples and run them on your own system interactively where you can easily modify and rerun the examples to see how things change:\n",
    "```\n",
    "git clone https://bitbucket.org/glotzer/hoomd-examples.git\n",
    "cd hoomd-examples\n",
    "jupyter notebook\n",
    "```\n",
    "See [Notebook Basics](http://nbviewer.jupyter.org/github/jupyter/notebook/blob/master/docs/source/examples/Notebook/Notebook%20Basics.ipynb) and [Running Code](http://nbviewer.jupyter.org/github/jupyter/notebook/blob/master/docs/source/examples/Notebook/Running%20Code.ipynb) for tutorials on using jupyter itself.\n",
    "\n",
    "## Basic tutorials\n",
    "\n",
    "- [Installing HOOMD](basic/Installing%20HOOMD.ipynb)\n",
    "- [Quick Start Tutorial](basic/Quick%20Start%20Tutorial.ipynb)\n",
    "- [Simulation Contexts](basic/Simulation%20Contexts.ipynb)\n",
    "- [Importing hoomd](basic/Importing%20hoomd.ipynb)\n",
    "- [Create Lattice](basic/Create%20Lattice.ipynb)\n",
    "- [Advancing simulations](basic/Advancing%20simulations.ipynb)\n",
    "- [Log output](basic/Log%20output.ipynb)\n",
    "- [Saving simulation configurations in GSD files](basic/Saving%20simulation%20configurations%20in%20GSD%20files.ipynb)\n",
    "- Running from the command line\n",
    "\n",
    "## Advanced topics\n",
    "\n",
    "- [Setting initial conditions in python](basic/Setting%20initial%20conditions%20in%20python.ipynb)\n",
    "- take_snapshot\n",
    "- [Initialize from file](basic/Initialize from file.ipynb)\n",
    "- Periodic boundary conditions\n",
    "- Particle properties\n",
    "- [Restartable Jobs](advanced/Restartable Jobs.ipynb)\n",
    "- box resize\n",
    "- cite.save\n",
    "- metadata\n",
    "- user options\n",
    "- notice level\n",
    "- Callback analyzer\n",
    "- Benchmarking (benchmark.series, profile=True)\n",
    "- Adding and removing particles\n",
    "\n",
    "## Hard particle Monte Carlo\n",
    "- TODO: go through list of modules and write tutorials\n",
    "- analyze.log (additional quantities)\n",
    "\n",
    "## Molecular dynamics\n",
    "\n",
    "- compute.thermo\n",
    "- groups\n",
    "- TODO: go through list of modules and write tutorials\n",
    "- analyze.log (additional quantities)\n",
    "\n",
    "\n",
    "## MPI parallel simulations\n",
    "\n",
    "- comm.get_rank\n",
    "- partitions\n",
    "- load balancing"
   ]
  },
  {
   "cell_type": "code",
   "execution_count": null,
   "metadata": {
    "collapsed": true
   },
   "outputs": [],
   "source": []
  }
 ],
 "metadata": {
  "kernelspec": {
   "display_name": "Python 3",
   "language": "python",
   "name": "python3"
  },
  "language_info": {
   "codemirror_mode": {
    "name": "ipython",
    "version": 3
   },
   "file_extension": ".py",
   "mimetype": "text/x-python",
   "name": "python",
   "nbconvert_exporter": "python",
   "pygments_lexer": "ipython3",
   "version": "3.3.5"
  }
 },
 "nbformat": 4,
 "nbformat_minor": 0
}
