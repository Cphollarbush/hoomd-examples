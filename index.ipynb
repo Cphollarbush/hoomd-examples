{
 "cells": [
  {
   "cell_type": "markdown",
   "metadata": {},
   "source": [
    "# HOOMD-blue tutorials and examples\n",
    "\n",
    "Welcome to the HOOMD-blue example scripts. These jupyter notebooks demonstrate how to utilize the\n",
    "functionality of [HOOMD-blue](http://glotzerlab.engin.umich.edu/hoomd-blue/). You can view a [static version of the notebooks at nbviewer](http://nbviewer.jupyter.org/github/joaander/hoomd-examples/blob/master/index.ipynb). For an intereactive exploration, you can\n",
    "[launch a dynamic version at mybinder](http://mybinder.org:/repo/joaander/hoomd-examples),\n",
    "or download the examples and run them on your own system:\n",
    "```\n",
    "git clone https://bitbucket.org/glotzer/hoomd-examples.git\n",
    "cd hoomd-examples\n",
    "jupyter notebook index.ipynb\n",
    "```\n",
    "See [Notebook Basics](http://nbviewer.jupyter.org/github/jupyter/notebook/blob/master/docs/source/examples/Notebook/Notebook%20Basics.ipynb) and [Running Code](http://nbviewer.jupyter.org/github/jupyter/notebook/blob/master/docs/source/examples/Notebook/Running%20Code.ipynb) for tutorials on using jupyter itself.\n",
    "\n",
    "For more information on HOOMD-blue, see the [HOOMD-blue home page](http://glotzerlab.engin.umich.edu/hoomd-blue) and the [documentation](http://hoomd-blue.readthedocs.io)"
   ]
  },
  {
   "cell_type": "markdown",
   "metadata": {},
   "source": [
    "## Getting started\n",
    "- [Installing HOOMD](Getting started - Installing HOOMD.ipynb)\n",
    "- [Executing scripts on the command line](Getting started - Executing scripts on the command line.ipynb)\n"
   ]
  },
  {
   "cell_type": "markdown",
   "metadata": {},
   "source": [
    "## Tutorials\n",
    "\n",
    "HOOMD is a python package that provides a toolkit of commands to configure particle simulations. These tutorials demonstrate many commonly used features in HOOMD with fully functional and documented scripts that perform simulations and examine the output.\n",
    "\n",
    "- **Molecular dynamics**\n",
    "    - [Lennard-Jones](Tutorial - MD - Lennard Jones.ipynb)\n",
    "    - [DPD polymers](Tutorial - MD - DPD polymers.ipynb)\n",
    "    - [Rigid Rods](Tutorial - MD - Rigid rods.ipynb)\n",
    "- **Hard particle Monte Carlo**\n",
    "    - [Hard disks](Tutorial - HPMC - Hard disks.ipynb)\n",
    "    - [Hard squares](Tutorial - HPMC - Hard squares.ipynb)\n"
   ]
  },
  {
   "cell_type": "markdown",
   "metadata": {},
   "source": [
    "## Initializating simulations\n",
    "\n",
    "This section includes more detailed examples on execution context and system initialization.\n",
    "\n",
    "- [Simulation contexts](Initialization - Simulation contexts.ipynb)\n",
    "- [User options](Initialization - User options.ipynb)\n",
    "- [Create lattice](Initialization - Create lattice.ipynb)\n",
    "- [Populate snapshot](Initialization - Populate snapshot.ipynb)\n",
    "- Initialize from a file\n",
    "- Adding and removing particles\n"
   ]
  },
  {
   "cell_type": "markdown",
   "metadata": {},
   "source": [
    "## Specifying particle interactions\n",
    "\n",
    "Here are short examples of a variety of HOOMD features that control how particles interact.\n",
    "\n",
    "- **Molecular Dynamics**\n",
    "    - Multiple pair potentials\n",
    "    - Bonds, angles, and dihedrals\n",
    "    - Active matter\n",
    "    - Walls and constant forces\n",
    "    - Long range electrostatics\n",
    "    - Distance constraints\n",
    "    - DEM\n",
    "- **Hard particle Monte Carlo**\n",
    "    - Measuring pressure at constant volume\n",
    "    - Confining shapes in walls"
   ]
  },
  {
   "cell_type": "markdown",
   "metadata": {
    "collapsed": true
   },
   "source": [
    "## Writing output\n",
    "\n",
    "- [Save GSD trajectories](Output - Save GSD trajectories.ipynb)\n",
    "- [Generate bibtex files](Output - Generate bibtex files.ipynb)\n",
    "- [Record run metadata](Output - Record run metadata.ipynb)\n",
    "- [Log quantities to a file](Output - Log quantities to a file.ipynb)\n",
    "- [MD log quantities](Output - MD log quantities.ipynb)\n",
    "- [HPMC log quantities](Output - HPMC log quantities.ipynb)\n",
    "- Logging to HDF5\n",
    "- [Controlling output verbosity](Output - Controlling output verbosity.ipynb)\n"
   ]
  },
  {
   "cell_type": "markdown",
   "metadata": {},
   "source": [
    "## Running simulations\n",
    "\n",
    "- [Advancing simulations](Running - Advancing simulations.ipynb)\n",
    "- Walltime limits\n",
    "- Restartable simulations\n",
    "- **Molecular dynamics**\n",
    "    - [Integration methods](Running - MD - Integration methods.ipynb)\n",
    "    - [Energy minimization](Running - MD - Energy minimization.ipynb)\n",
    "    - [Tuning neighbor list parameters](Running - MD - Tuning neighbor list parameters.ipynb)\n",
    "    - Shear flow\n",
    "- **Hard particle  Monte Carlo**\n",
    "    - [Selecting move sizes](Running - HPMC - Selecting move sizes.ipynb)\n",
    "    - [Constant pressure](Running - HPMC - Constant pressure.ipynb)\n",
    "    - [Quick compression scheme](Running - HPMC - Quick compression scheme.ipynb)\n",
    "- **MPI parallel simulations**\n",
    "    - comm.get_rank\n",
    "    - partitions\n"
   ]
  },
  {
   "cell_type": "markdown",
   "metadata": {},
   "source": [
    "## Analyzing simulation output\n",
    "\n",
    "- [Accessing system configurations in python](Analysis - Accessing system configurations in python.ipynb)\n",
    "- Callback analyzer\n",
    "- **Visualization**\n",
    "    - OVITO\n",
    "    - [VMD](Analysis - Visualization - VMD.ipynb)\n",
    "- **Quantitative analysis**\n",
    "    - Read GSD\n",
    "    - Freud"
   ]
  }
 ],
 "metadata": {
  "kernelspec": {
   "display_name": "Python 3",
   "language": "python",
   "name": "python3"
  },
  "language_info": {
   "codemirror_mode": {
    "name": "ipython",
    "version": 3
   },
   "file_extension": ".py",
   "mimetype": "text/x-python",
   "name": "python",
   "nbconvert_exporter": "python",
   "pygments_lexer": "ipython3",
   "version": "3.4.5"
  }
 },
 "nbformat": 4,
 "nbformat_minor": 0
}
