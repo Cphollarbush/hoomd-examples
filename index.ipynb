{
 "cells": [
  {
   "cell_type": "markdown",
   "metadata": {
    "deletable": true,
    "editable": true
   },
   "source": [
    "# HOOMD-blue tutorials and examples\n",
    "\n",
    "Welcome to the HOOMD-blue example scripts. These jupyter notebooks demonstrate how to utilize the\n",
    "functionality of [HOOMD-blue](http://glotzerlab.engin.umich.edu/hoomd-blue/). You can view a [static version of the notebooks at nbviewer](http://nbviewer.jupyter.org/github/joaander/hoomd-examples/blob/master/index.ipynb). To download and execute these notebooks locally:\n",
    "```\n",
    "git clone https://bitbucket.org/glotzer/hoomd-examples.git\n",
    "cd hoomd-examples\n",
    "jupyter notebook index.ipynb\n",
    "```\n",
    "\n",
    "These examples use the following python packages. If you do not have the packages installed, some or all of the examples\n",
    "will fail to execute: [HOOMD-blue](http://glotzerlab.engin.umich.edu/hoomd-blue/), [Jupyter](http://jupyter.org/), [GSD](https://bitbucket.org/glotzer/gsd), [matplotlib](http://matplotlib.org/), [freud](http://glotzerlab.engin.umich.edu/freud/), [fresnel](https://bitbucket.org/glotzer/fresnel), and [pillow](https://python-pillow.org/)."
   ]
  },
  {
   "cell_type": "markdown",
   "metadata": {
    "deletable": true,
    "editable": true
   },
   "source": [
    "## Getting started\n",
    "\n",
    "- [Installing HOOMD and other python packages](Getting started - Installing HOOMD.ipynb)\n",
    "- [Executing scripts on the command line](Getting started - Executing scripts on the command line.ipynb)\n",
    "- For full details on all HOOMD commands, see the [reference documentation](http://hoomd-blue.readthedocs.io)\n",
    "\n",
    "See [Notebook Basics](http://nbviewer.jupyter.org/github/jupyter/notebook/blob/master/docs/source/examples/Notebook/Notebook%20Basics.ipynb) and [Running Code](http://nbviewer.jupyter.org/github/jupyter/notebook/blob/master/docs/source/examples/Notebook/Running%20Code.ipynb) for tutorials on using jupyter itself."
   ]
  },
  {
   "cell_type": "markdown",
   "metadata": {
    "deletable": true,
    "editable": true
   },
   "source": [
    "## Tutorials\n",
    "\n",
    "HOOMD is a python package that provides a toolkit of commands to configure particle simulations. These tutorials demonstrate many commonly used features in HOOMD with fully functional and documented scripts that perform simulations and examine the output.\n",
    "\n",
    "- **Molecular dynamics**\n",
    "    - [Lennard-Jones](Tutorial - MD - Lennard Jones.ipynb)\n",
    "    - [DPD polymers](Tutorial - MD - DPD polymers.ipynb)\n",
    "    - [Rigid Rods](Tutorial - MD - Rigid rods.ipynb)\n",
    "    - [Active matter](Tutorial - MD - Active matter.ipynb)\n",
    "- **Hard particle Monte Carlo**\n",
    "    - [Hard disks](Tutorial - HPMC - Hard disks.ipynb)\n",
    "    - [Hard squares](Tutorial - HPMC - Hard squares.ipynb)\n",
    "- **DEM**\n",
    "    - [Rounded squares](Tutorial - DEM - Rounded squares.ipynb)"
   ]
  },
  {
   "cell_type": "markdown",
   "metadata": {
    "deletable": true,
    "editable": true
   },
   "source": [
    "## Initializing simulations\n",
    "\n",
    "This section includes more detailed examples on execution context and system initialization.\n",
    "\n",
    "- [Simulation contexts](Initialization - Simulation contexts.ipynb)\n",
    "- [User options](Initialization - User options.ipynb)\n",
    "- [Create lattice](Initialization - Create lattice.ipynb)\n",
    "- [Populate snapshot](Initialization - Populate snapshot.ipynb)\n",
    "- Initialize from a file"
   ]
  },
  {
   "cell_type": "markdown",
   "metadata": {
    "deletable": true,
    "editable": true
   },
   "source": [
    "## Specifying particle interactions\n",
    "\n",
    "This section includes short examples of a variety of HOOMD features that control how particles interact.\n",
    "\n",
    "- **Molecular Dynamics**\n",
    "    - Multiple pair potentials\n",
    "    - Bonds, angles, and dihedrals\n",
    "    - Walls and constant forces\n",
    "    - Long range electrostatics\n",
    "    - Distance constraints\n",
    "- **Hard particle Monte Carlo**\n",
    "    - Confining shapes in walls"
   ]
  },
  {
   "cell_type": "markdown",
   "metadata": {
    "collapsed": true,
    "deletable": true,
    "editable": true
   },
   "source": [
    "## Writing output\n",
    "\n",
    "This section includes examples that demonstrate how to write output from HOOMD simulations.\n",
    "\n",
    "- [Save GSD trajectories](Output - Save GSD trajectories.ipynb)\n",
    "- [Generate bibtex files](Output - Generate bibtex files.ipynb)\n",
    "- [Record run metadata](Output - Record run metadata.ipynb)\n",
    "- [Log quantities to a file](Output - Log quantities to a file.ipynb)\n",
    "- [MD log quantities](Output - MD log quantities.ipynb)\n",
    "- [HPMC log quantities](Output - HPMC log quantities.ipynb)\n",
    "- [Controlling output verbosity](Output - Controlling output verbosity.ipynb)\n"
   ]
  },
  {
   "cell_type": "markdown",
   "metadata": {
    "deletable": true,
    "editable": true
   },
   "source": [
    "## Running simulations\n",
    "\n",
    "This section includes examples showing how to control simulation execution.\n",
    "\n",
    "- [Advancing simulations](Running - Advancing simulations.ipynb)\n",
    "- Walltime limits\n",
    "- Restartable simulations\n",
    "- **Molecular dynamics**\n",
    "    - [Integration methods](Running - MD - Integration methods.ipynb)\n",
    "    - [Energy minimization](Running - MD - Energy minimization.ipynb)\n",
    "    - [Tuning neighbor list parameters](Running - MD - Tuning neighbor list parameters.ipynb)\n",
    "- **Hard particle  Monte Carlo**\n",
    "    - [Selecting move sizes](Running - HPMC - Selecting move sizes.ipynb)\n",
    "    - [Constant pressure](Running - HPMC - Constant pressure.ipynb)\n",
    "    - [Quick compression scheme](Running - HPMC - Quick compression scheme.ipynb)\n",
    "- **MPI parallel simulations**\n",
    "    - comm.get_rank\n",
    "    - partitions\n"
   ]
  },
  {
   "cell_type": "markdown",
   "metadata": {
    "deletable": true,
    "editable": true
   },
   "source": [
    "## Analyzing simulation output\n",
    "\n",
    "These notebooks demonstrate simple analysis techniques on the output of HOOMD simulations.\n",
    "\n",
    "- [Accessing system configurations in python](Analysis - Accessing system configurations in python.ipynb)\n",
    "- **HPMC**\n",
    "    - Measuring pressure at constant volume\n",
    "- **Visualization**\n",
    "    - OVITO\n",
    "    - [VMD](Analysis - Visualization - VMD.ipynb)\n",
    "- **Quantitative analysis**\n",
    "    - [Online analysis with Freud](Analysis - Quantitative - Online analysis with Freud.ipynb)"
   ]
  }
 ],
 "metadata": {
  "kernelspec": {
   "display_name": "Python 3",
   "language": "python",
   "name": "python3"
  },
  "language_info": {
   "codemirror_mode": {
    "name": "ipython",
    "version": 3
   },
   "file_extension": ".py",
   "mimetype": "text/x-python",
   "name": "python",
   "nbconvert_exporter": "python",
   "pygments_lexer": "ipython3",
   "version": "3.4.5"
  }
 },
 "nbformat": 4,
 "nbformat_minor": 0
}
