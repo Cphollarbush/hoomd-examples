{
 "cells": [
  {
   "cell_type": "code",
   "execution_count": 1,
   "metadata": {
    "collapsed": false
   },
   "outputs": [],
   "source": [
    "import hoomd\n",
    "import hoomd.md"
   ]
  },
  {
   "cell_type": "markdown",
   "metadata": {},
   "source": [
    "# Controlling output verbosity\n",
    "\n",
    "HOOMD prints a number of status messages as the simulation run progresses. You can control the level of output by setting the notice level. The default is 2. You can set the notice level with command line options:"
   ]
  },
  {
   "cell_type": "code",
   "execution_count": 2,
   "metadata": {
    "collapsed": false
   },
   "outputs": [],
   "source": [
    "hoomd.context.initialize('--mode=gpu --notice-level=0');"
   ]
  },
  {
   "cell_type": "code",
   "execution_count": 3,
   "metadata": {
    "collapsed": true
   },
   "outputs": [],
   "source": [
    "system = hoomd.init.create_lattice(unitcell=hoomd.lattice.sc(a=2.0), n=5);\n",
    "nl = hoomd.md.nlist.cell();\n",
    "lj = hoomd.md.pair.lj(r_cut=3.0, nlist=nl);\n",
    "lj.pair_coeff.set('A', 'A', epsilon=1.0, sigma=1.0);\n",
    "all = hoomd.group.all();\n",
    "hoomd.md.integrate.mode_standard(dt=0.001);\n",
    "hoomd.md.integrate.langevin(group=all, kT=1.0, seed=987);\n",
    "hoomd.run(5000);"
   ]
  },
  {
   "cell_type": "markdown",
   "metadata": {},
   "source": [
    "There is no output at notice level 0. (warnings and errors would still be printed). You can also set the level with the `option` API."
   ]
  },
  {
   "cell_type": "code",
   "execution_count": 4,
   "metadata": {
    "collapsed": true
   },
   "outputs": [],
   "source": [
    "hoomd.option.set_notice_level(10)"
   ]
  },
  {
   "cell_type": "markdown",
   "metadata": {},
   "source": [
    "Notice levels range from 0 to 10. 10 includes a large amount of debugging information. In every status message above level 2, the level of the output is indicated in message."
   ]
  },
  {
   "cell_type": "code",
   "execution_count": 5,
   "metadata": {
    "collapsed": false
   },
   "outputs": [
    {
     "name": "stdout",
     "output_type": "stream",
     "text": [
      "notice(7): GPUArray: Allocating 0.000476837 MB\n",
      "notice(7): GPUArray: Allocating 0.000119209 MB\n",
      "notice(7): GPUArray: Allocating 0.000119209 MB\n",
      "notice(7): GPUArray: Allocating 0.000476837 MB\n",
      "notice(10): ParticleGroup: rebuilding index\n",
      "notice(8): GPUArray: Copying 0.000119209 MB host->device\n",
      "notice(10): CachedAllocator: found a hit (0.000476837 MB)\n",
      "notice(6): Set Autotuner nlist_filter period = 10000\n",
      "notice(6): Enable Autotuner nlist_filter\n",
      "notice(6): Set Autotuner nlist_head_list period = 10000\n",
      "notice(6): Enable Autotuner nlist_head_list\n",
      "notice(6): Set Autotuner nlist_binned period = 10000\n",
      "notice(6): Enable Autotuner nlist_binned\n",
      "notice(6): Set Autotuner cell_list period = 10000\n",
      "notice(6): Enable Autotuner cell_list\n",
      "notice(6): Set Autotuner pair_lj period = 100000\n",
      "notice(6): Enable Autotuner pair_lj\n",
      "** starting run **\n",
      "notice(8): GPUArray: Copying 3.8147e-06 MB host->device\n",
      "notice(9): Autotuner nlist_head_list: t(160,1) = 0.111808\n",
      "notice(10): Cell list compute\n",
      "notice(10): Cell list params changed\n",
      "notice(10): Cell list initialize width\n",
      "notice(10): Cell list initialize memory\n",
      "notice(6): cell list: allocating 2 x 2 x 2 x 28\n",
      "notice(7): GPUArray: Allocating 3.05176e-05 MB\n",
      "notice(7): GPUArray: Allocating 0.000244141 MB\n",
      "notice(7): GPUArray: Allocating 0.00683594 MB\n",
      "notice(7): GPUArray: Allocating 0.00683594 MB\n",
      "notice(9): Autotuner cell_list: t(608,4) = 0.038304\n",
      "notice(8): GPUArray: Copying 0.000244141 MB host->device\n",
      "notice(8): GPUArray: Copying 7.62939e-06 MB host->device\n",
      "notice(8): GPUArray: Copying 7.62939e-06 MB host->device\n",
      "notice(9): Autotuner nlist_binned: t(1280002,0) = 0.186464\n",
      "notice(8): GPUArray: Copying 3.8147e-06 MB device->host\n",
      "notice(8): GPUArray: Copying 7.62939e-06 MB host->device\n",
      "notice(8): GPUArray: Copying 7.62939e-06 MB host->device\n",
      "notice(8): GPUArray: Copying 1.52588e-05 MB host->device\n",
      "notice(8): GPUArray: Copying 0.0038147 MB device->host\n",
      "notice(8): GPUArray: Copying 0.00585938 MB device->host\n",
      "notice(8): GPUArray: Copying 0.00286102 MB device->host\n",
      "notice(8): GPUArray: Copying 0.0038147 MB device->host\n",
      "notice(8): GPUArray: Copying 0.00286102 MB host->device\n",
      "notice(8): GPUArray: Copying 7.62939e-06 MB host->device\n",
      "notice(10): Cell list compute\n",
      "notice(9): Autotuner cell_list: t(640,0) = 0.034912\n",
      "notice(8): GPUArray: Copying 3.8147e-06 MB host->device\n",
      "notice(9): Autotuner nlist_binned: t(1280002,1) = 0.179104\n",
      "notice(8): GPUArray: Copying 3.8147e-06 MB device->host\n",
      "Time 00:00:01 | Step 5100 / 5100 | TPS 634.824 | ETA 00:00:00\n",
      "Average TPS: 615.195\n",
      "---------\n",
      "-- Neighborlist stats:\n",
      "1 normal updates / 1 forced updates / 0 dangerous updates\n",
      "notice(8): GPUArray: Copying 0.000476837 MB device->host\n",
      "n_neigh_min: 11 / n_neigh_max: 36 / n_neigh_avg: 21.792\n",
      "shortest rebuild period: 59\n",
      "-- Cell list stats:\n",
      "Dimension: 2, 2, 2\n",
      "notice(8): GPUArray: Copying 3.05176e-05 MB device->host\n",
      "n_min    : 8 / n_max: 25 / n_avg: 15.625\n",
      "** run complete **\n"
     ]
    }
   ],
   "source": [
    "hoomd.run(100)"
   ]
  }
 ],
 "metadata": {
  "kernelspec": {
   "display_name": "Python 3",
   "language": "python",
   "name": "python3"
  },
  "language_info": {
   "codemirror_mode": {
    "name": "ipython",
    "version": 3
   },
   "file_extension": ".py",
   "mimetype": "text/x-python",
   "name": "python",
   "nbconvert_exporter": "python",
   "pygments_lexer": "ipython3",
   "version": "3.5.3"
  }
 },
 "nbformat": 4,
 "nbformat_minor": 2
}
