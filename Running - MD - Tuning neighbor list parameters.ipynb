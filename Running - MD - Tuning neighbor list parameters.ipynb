{
 "cells": [
  {
   "cell_type": "code",
   "execution_count": 1,
   "metadata": {
    "collapsed": false,
    "deletable": true,
    "editable": true
   },
   "outputs": [],
   "source": [
    "import hoomd\n",
    "import hoomd.md\n",
    "from matplotlib import pyplot\n",
    "%matplotlib inline"
   ]
  },
  {
   "cell_type": "markdown",
   "metadata": {
    "collapsed": true,
    "deletable": true,
    "editable": true
   },
   "source": [
    "# Tuning neighbor list parameters\n",
    "\n",
    "The neighbor list buffer radius ``r_buff`` controls how many extra neighbors are included in the list and influences the performance of the simulation. The larger ``r_buff``, the less often the list is rebuilt, but at the cost of extra force computations every step. When ``r_buff`` is small, the list is built more often, but there are fewer extra force computations every step. These two competing effects yield an optimal value for ``r_buff``. Perform benchmarks to determine the optimal ``r_buff``, as it depends strongly on your model, parameters, and hardware.\n",
    "\n",
    "Here is the Lennard-Jones tutorial script to demonstrate neighbor list tuning."
   ]
  },
  {
   "cell_type": "code",
   "execution_count": 2,
   "metadata": {
    "collapsed": false,
    "deletable": true,
    "editable": true
   },
   "outputs": [
    {
     "name": "stdout",
     "output_type": "stream",
     "text": [
      "HOOMD-blue v2.2.0 CUDA (8.0) DOUBLE HPMC_MIXED MPI SSE SSE2 SSE3 SSE4_1 SSE4_2 AVX \n",
      "Compiled: 09/18/2017\n",
      "Copyright 2009-2017 The Regents of the University of Michigan.\n",
      "-----\n",
      "You are using HOOMD-blue. Please cite the following:\n",
      "* J A Anderson, C D Lorenz, and A Travesset. \"General purpose molecular dynamics\n",
      "  simulations fully implemented on graphics processing units\", Journal of\n",
      "  Computational Physics 227 (2008) 5342--5359\n",
      "* J Glaser, T D Nguyen, J A Anderson, P Liu, F Spiga, J A Millan, D C Morse, and\n",
      "  S C Glotzer. \"Strong scaling of general-purpose molecular dynamics simulations\n",
      "  on GPUs\", Computer Physics Communications 192 (2015) 97--107\n",
      "-----\n",
      "notice(2): This system is not compute exclusive, using local rank to select GPUs\n",
      "notice(2): Unable to identify node local rank information\n",
      "notice(2): Using global rank to select GPUs\n",
      "HOOMD-blue is running on the following GPU(s):\n",
      " [0]          Quadro GP100  56 SM_6.0 @ 1.44 GHz, 16273 MiB DRAM\n",
      "notice(2): Group \"all\" created containing 1000 particles\n",
      "notice(2): integrate.langevin/bd is using specified gamma values\n"
     ]
    }
   ],
   "source": [
    "hoomd.context.initialize('');\n",
    "system = hoomd.init.create_lattice(unitcell=hoomd.lattice.sc(a=1.05), n=10);\n",
    "nl = hoomd.md.nlist.cell();\n",
    "lj = hoomd.md.pair.lj(r_cut=2.5, nlist=nl);\n",
    "lj.pair_coeff.set('A', 'A', epsilon=1.0, sigma=1.0);\n",
    "hoomd.md.integrate.mode_standard(dt=0.005);\n",
    "hoomd.md.integrate.langevin(group=hoomd.group.all(), kT=1.0, seed=2);"
   ]
  },
  {
   "cell_type": "markdown",
   "metadata": {
    "collapsed": false,
    "deletable": true,
    "editable": true
   },
   "source": [
    "## Tune r_buff\n",
    "\n",
    "HOOMD has a built-in method to tune the optimal value for ``r_buff``."
   ]
  },
  {
   "cell_type": "code",
   "execution_count": 3,
   "metadata": {
    "collapsed": false,
    "deletable": true,
    "editable": true
   },
   "outputs": [
    {
     "name": "stdout",
     "output_type": "stream",
     "text": [
      "notice(2): -- Neighborlist exclusion statistics -- :\n",
      "notice(2): Particles with 0 exclusions             : 1000\n",
      "notice(2): Neighbors included by diameter          : no\n",
      "notice(2): Neighbors excluded when in the same body: no\n",
      "notice(2): r_buff = [0.05, 0.2, 0.35, 0.49999999999999994, 0.65, 0.8, 0.95, 1.1, 1.25, 1.4, 1.55]\n",
      "notice(2): tps = [10010.370744090878, 18795.649934779092, 21588.01433444152, 22856.829392054053, 23489.286536410742, 23597.038099777714, 23816.5553639646, 23838.584178808454, 23810.77104038783, 23525.97973942625, 23127.376337918722]\n",
      "notice(2): Optimal r_buff: 1.1\n",
      "notice(2): Maximum check_period: 23\n"
     ]
    }
   ],
   "source": [
    "nl.tune(warmup=20000,\n",
    "        r_min=0.05,\n",
    "        r_max=1.55,\n",
    "        jumps=11,\n",
    "        steps=5000,\n",
    "        set_max_check_period=False,\n",
    "        quiet=True);"
   ]
  },
  {
   "cell_type": "markdown",
   "metadata": {
    "deletable": true,
    "editable": true
   },
   "source": [
    "The resulting performance vs r_buff curve looks like this."
   ]
  },
  {
   "cell_type": "code",
   "execution_count": 4,
   "metadata": {
    "collapsed": false,
    "deletable": true,
    "editable": true
   },
   "outputs": [
    {
     "data": {
      "image/png": "[encoded data removed]",
      "text/plain": [
       "<matplotlib.figure.Figure at 0x7fddc223b470>"
      ]
     },
     "metadata": {},
     "output_type": "display_data"
    }
   ],
   "source": [
    "pyplot.figure(figsize=(4,2.2), dpi=140);\n",
    "pyplot.plot([0.05, 0.2, 0.35, 0.49999999999999994, 0.65, 0.8, 0.95, 1.1, 1.25, 1.4, 1.55], [4829.723276175168, 7856.706248752748, 9388.825044878584, 10131.404313951958, 10472.980756945157, 10589.271796957068, 10681.843429811744, 10708.885376374485, 10561.669588728586, 10257.104583489754, 9902.029321889228], '+');\n",
    "pyplot.xlabel('r_buff');\n",
    "pyplot.ylabel('performance');"
   ]
  },
  {
   "cell_type": "markdown",
   "metadata": {
    "deletable": true,
    "editable": true
   },
   "source": [
    "Tune r_buff in a few test simulations at the range of parameters you intend to explore. Then set a static r_buff in your production simulations."
   ]
  },
  {
   "cell_type": "code",
   "execution_count": 5,
   "metadata": {
    "collapsed": false,
    "deletable": true,
    "editable": true
   },
   "outputs": [
    {
     "name": "stdout",
     "output_type": "stream",
     "text": [
      "** starting run **\n",
      "notice(2): nlist: Dangerous neighborlist build occured. Continuing this simulation may produce incorrect results and/or program crashes. Decrease the neighborlist check_period and rerun.\n",
      "Time 00:00:45 | Step 210000 / 210000 | TPS 22510.8 | ETA 00:00:00\n",
      "Average TPS: 22470.8\n",
      "---------\n",
      "-- Neighborlist stats:\n",
      "134 normal updates / 17 forced updates / 1 dangerous updates\n",
      "n_neigh_min: 156 / n_neigh_max: 179 / n_neigh_avg: 166.954\n",
      "shortest rebuild period: 23\n",
      "-- Cell list stats:\n",
      "Dimension: 2, 2, 2\n",
      "n_min    : 122 / n_max: 131 / n_avg: 125\n",
      "** run complete **\n"
     ]
    }
   ],
   "source": [
    "nl.set_params(r_buff = 1.1, check_period=23);\n",
    "hoomd.run(5000);"
   ]
  },
  {
   "cell_type": "markdown",
   "metadata": {
    "deletable": true,
    "editable": true
   },
   "source": [
    "## Use a different acceleration structure\n",
    "\n",
    "HOOMD provides 3 types of acceleration structures for neighbor lists. The cell list, the stenciled cell list, and the tree data structure. This example demonstrates how to enable the different acceleration structures. The various acceleration structures have different performance characteristics depending on the distribution of particles in the system and range of *r_cut* values in the pair potential.\n",
    "\n",
    "### Stencil cell list"
   ]
  },
  {
   "cell_type": "code",
   "execution_count": 6,
   "metadata": {
    "collapsed": false,
    "deletable": true,
    "editable": true
   },
   "outputs": [
    {
     "name": "stdout",
     "output_type": "stream",
     "text": [
      "notice(2): Group \"all\" created containing 1000 particles\n",
      "-----\n",
      "You are using stenciled neighbor lists. Please cite the following:\n",
      "* M P Howard, J A Anderson, A Nikoubashman, S C Glotzer, and A Z\n",
      "  Panagiotopoulos. \"Efficient neighbor list calculation for molecular simulation\n",
      "  of colloidal systems using graphics processing units\", Computer Physics\n",
      "  Communications 203 (2016) 45--52\n",
      "-----\n",
      "notice(2): integrate.langevin/bd is using specified gamma values\n"
     ]
    }
   ],
   "source": [
    "hoomd.context.initialize('');\n",
    "system = hoomd.init.create_lattice(unitcell=hoomd.lattice.sc(a=1.05), n=10);\n",
    "nl = hoomd.md.nlist.stencil(r_buff = 1.1, cell_width = 1.8);\n",
    "lj = hoomd.md.pair.lj(r_cut=2.5, nlist=nl);\n",
    "lj.pair_coeff.set('A', 'A', epsilon=1.0, sigma=1.0);\n",
    "hoomd.md.integrate.mode_standard(dt=0.005);\n",
    "hoomd.md.integrate.langevin(group=hoomd.group.all(), kT=1.0, seed=2);"
   ]
  },
  {
   "cell_type": "code",
   "execution_count": 7,
   "metadata": {
    "collapsed": false,
    "deletable": true,
    "editable": true
   },
   "outputs": [
    {
     "name": "stdout",
     "output_type": "stream",
     "text": [
      "notice(2): -- Neighborlist exclusion statistics -- :\n",
      "notice(2): Particles with 0 exclusions             : 1000\n",
      "notice(2): Neighbors included by diameter          : no\n",
      "notice(2): Neighbors excluded when in the same body: no\n",
      "** starting run **\n",
      "Time 00:00:01 | Step 5000 / 5000 | TPS 6456.69 | ETA 00:00:00\n",
      "Average TPS: 6451.44\n",
      "---------\n",
      "-- Neighborlist stats:\n",
      "133 normal updates / 17 forced updates / 0 dangerous updates\n",
      "n_neigh_min: 154 / n_neigh_max: 176 / n_neigh_avg: 166.94\n",
      "shortest rebuild period: 23\n",
      "-- Cell list stats:\n",
      "Dimension: 5, 5, 5\n",
      "n_min    : 5 / n_max: 12 / n_avg: 8\n",
      "** run complete **\n"
     ]
    }
   ],
   "source": [
    "hoomd.run(5000);"
   ]
  },
  {
   "cell_type": "markdown",
   "metadata": {
    "deletable": true,
    "editable": true
   },
   "source": [
    "To fully evaluate the performance of the stencil cell list, tune the ``cell_width`` and ``r_buff``."
   ]
  },
  {
   "cell_type": "markdown",
   "metadata": {
    "deletable": true,
    "editable": true
   },
   "source": [
    "### Tree"
   ]
  },
  {
   "cell_type": "code",
   "execution_count": 8,
   "metadata": {
    "collapsed": false,
    "deletable": true,
    "editable": true
   },
   "outputs": [
    {
     "name": "stdout",
     "output_type": "stream",
     "text": [
      "notice(2): Group \"all\" created containing 1000 particles\n",
      "-----\n",
      "You are using tree neighbor lists. Please cite the following:\n",
      "* M P Howard, J A Anderson, A Nikoubashman, S C Glotzer, and A Z\n",
      "  Panagiotopoulos. \"Efficient neighbor list calculation for molecular simulation\n",
      "  of colloidal systems using graphics processing units\", Computer Physics\n",
      "  Communications 203 (2016) 45--52\n",
      "-----\n",
      "notice(2): integrate.langevin/bd is using specified gamma values\n"
     ]
    }
   ],
   "source": [
    "hoomd.context.initialize('');\n",
    "system = hoomd.init.create_lattice(unitcell=hoomd.lattice.sc(a=1.05), n=10);\n",
    "nl = hoomd.md.nlist.tree(r_buff = 1.1);\n",
    "lj = hoomd.md.pair.lj(r_cut=2.5, nlist=nl);\n",
    "lj.pair_coeff.set('A', 'A', epsilon=1.0, sigma=1.0);\n",
    "hoomd.md.integrate.mode_standard(dt=0.005);\n",
    "hoomd.md.integrate.langevin(group=hoomd.group.all(), kT=1.0, seed=2);"
   ]
  },
  {
   "cell_type": "code",
   "execution_count": 9,
   "metadata": {
    "collapsed": false,
    "deletable": true,
    "editable": true
   },
   "outputs": [
    {
     "name": "stdout",
     "output_type": "stream",
     "text": [
      "notice(2): -- Neighborlist exclusion statistics -- :\n",
      "notice(2): Particles with 0 exclusions             : 1000\n",
      "notice(2): Neighbors included by diameter          : no\n",
      "notice(2): Neighbors excluded when in the same body: no\n",
      "** starting run **\n",
      "Time 00:00:02 | Step 5000 / 5000 | TPS 4831.25 | ETA 00:00:00\n",
      "Average TPS: 4828.76\n",
      "---------\n",
      "-- Neighborlist stats:\n",
      "134 normal updates / 17 forced updates / 0 dangerous updates\n",
      "n_neigh_min: 156 / n_neigh_max: 184 / n_neigh_avg: 166.966\n",
      "shortest rebuild period: 23\n",
      "** run complete **\n"
     ]
    }
   ],
   "source": [
    "hoomd.run(5000);"
   ]
  }
 ],
 "metadata": {
  "kernelspec": {
   "display_name": "Python 3",
   "language": "python",
   "name": "python3"
  },
  "language_info": {
   "codemirror_mode": {
    "name": "ipython",
    "version": 3
   },
   "file_extension": ".py",
   "mimetype": "text/x-python",
   "name": "python",
   "nbconvert_exporter": "python",
   "pygments_lexer": "ipython3",
   "version": "3.4.5"
  }
 },
 "nbformat": 4,
 "nbformat_minor": 1
}
