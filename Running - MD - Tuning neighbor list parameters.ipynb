{
 "cells": [
  {
   "cell_type": "code",
   "execution_count": 1,
   "metadata": {
    "collapsed": false
   },
   "outputs": [
    {
     "name": "stdout",
     "output_type": "stream",
     "text": [
      "HOOMD-blue v2.1.3 CUDA (8.0) DOUBLE HPMC_MIXED MPI SSE SSE2 SSE3 SSE4_1 SSE4_2 AVX \n",
      "Compiled: 02/07/2017\n",
      "Copyright 2009-2016 The Regents of the University of Michigan.\n",
      "-----\n",
      "You are using HOOMD-blue. Please cite the following:\n",
      "* J A Anderson, C D Lorenz, and A Travesset. \"General purpose molecular dynamics\n",
      "  simulations fully implemented on graphics processing units\", Journal of\n",
      "  Computational Physics 227 (2008) 5342--5359\n",
      "* J Glaser, T D Nguyen, J A Anderson, P Liu, F Spiga, J A Millan, D C Morse, and\n",
      "  S C Glotzer. \"Strong scaling of general-purpose molecular dynamics simulations\n",
      "  on GPUs\", Computer Physics Communications 192 (2015) 97--107\n",
      "-----\n"
     ]
    }
   ],
   "source": [
    "import hoomd\n",
    "import hoomd.md\n",
    "from matplotlib import pyplot\n",
    "%matplotlib inline"
   ]
  },
  {
   "cell_type": "markdown",
   "metadata": {
    "collapsed": true
   },
   "source": [
    "# Tuning neighbor list parameters\n",
    "\n",
    "There are a number of parameters to the neighbor list that influence the performance of the simulation but not the correctness. The buffer radius ``r_buff`` controls how many extra neighbors are included in the list. The larger ``r_buff``, the less off the list is rebuilt, but the more extra force computations are necessary. When ``r_buff`` is small, the nlist is built more often, but there are fewer extra forces. These two competing effects yield an optimal value for ``r_buff``. You cannot predict the optimal performing ``r_buff``, you need to benchmark it as it depends strongly on your model, parameters, and hardware.\n",
    "\n",
    "Here is a simple 3D lj fluid model to demonstrate nlist tuning."
   ]
  },
  {
   "cell_type": "code",
   "execution_count": 2,
   "metadata": {
    "collapsed": false
   },
   "outputs": [
    {
     "name": "stdout",
     "output_type": "stream",
     "text": [
      "notice(2): This system is not compute exclusive, using local rank to select GPUs\n",
      "notice(2): Unable to identify node local rank information\n",
      "notice(2): Using global rank to select GPUs\n",
      "HOOMD-blue is running on the following GPU(s):\n",
      " [0]            Tesla K20c  13 SM_3.5 @ 0.706 GHz, 5060 MiB DRAM\n",
      "notice(2): Group \"all\" created containing 1000 particles\n",
      "notice(2): integrate.langevin/bd is using specified gamma values\n"
     ]
    },
    {
     "data": {
      "text/plain": [
       "<hoomd.md.integrate.langevin at 0x7f849e766eb8>"
      ]
     },
     "execution_count": 2,
     "metadata": {},
     "output_type": "execute_result"
    }
   ],
   "source": [
    "hoomd.context.initialize('')\n",
    "system = hoomd.init.create_lattice(unitcell=hoomd.lattice.sc(a=1.05), n=10)\n",
    "nl = hoomd.md.nlist.cell()\n",
    "lj = hoomd.md.pair.lj(r_cut=2.5, nlist=nl)\n",
    "lj.pair_coeff.set('A', 'A', epsilon=1.0, sigma=1.0)\n",
    "hoomd.md.integrate.mode_standard(dt=0.005)\n",
    "hoomd.md.integrate.langevin(group=hoomd.group.all(), kT=1.0, seed=2)"
   ]
  },
  {
   "cell_type": "markdown",
   "metadata": {
    "collapsed": false
   },
   "source": [
    "## Tune r_buff\n",
    "\n",
    "HOOMD has a builtin method to tune the optimal ``r_buff`` value."
   ]
  },
  {
   "cell_type": "code",
   "execution_count": 3,
   "metadata": {
    "collapsed": false
   },
   "outputs": [
    {
     "name": "stdout",
     "output_type": "stream",
     "text": [
      "notice(2): -- Neighborlist exclusion statistics -- :\n",
      "notice(2): Particles with 0 exclusions             : 1000\n",
      "notice(2): Neighbors included by diameter          : no\n",
      "notice(2): Neighbors excluded when in the same body: no\n",
      "** starting run **\n",
      "Time 00:00:03 | Step 20000 / 20000 | TPS 6343.77 | ETA 00:00:00\n",
      "Average TPS: 6341.32\n",
      "---------\n",
      "-- Neighborlist stats:\n",
      "1854 normal updates / 68 forced updates / 0 dangerous updates\n",
      "n_neigh_min: 75 / n_neigh_max: 95 / n_neigh_avg: 86.294\n",
      "shortest rebuild period: 8\n",
      "-- Cell list stats:\n",
      "Dimension: 3, 3, 3\n",
      "n_min    : 32 / n_max: 43 / n_avg: 37.037\n",
      "** run complete **\n",
      "** starting run **\n",
      "Time 00:00:04 | Step 25000 / 25000 | TPS 4844.14 | ETA 00:00:00\n",
      "Average TPS: 4838.95\n",
      "---------\n",
      "-- Neighborlist stats:\n",
      "2525 normal updates / 18 forced updates / 0 dangerous updates\n",
      "n_neigh_min: 51 / n_neigh_max: 67 / n_neigh_avg: 58.81\n",
      "shortest rebuild period: 1\n",
      "-- Cell list stats:\n",
      "Dimension: 4, 4, 4\n",
      "n_min    : 11 / n_max: 20 / n_avg: 15.625\n",
      "** run complete **\n",
      "** starting run **\n",
      "Time 00:00:05 | Step 30000 / 30000 | TPS 4856.29 | ETA 00:00:00\n",
      "Average TPS: 4849.82\n",
      "---------\n",
      "-- Neighborlist stats:\n",
      "2511 normal updates / 17 forced updates / 0 dangerous updates\n",
      "n_neigh_min: 51 / n_neigh_max: 66 / n_neigh_avg: 58.66\n",
      "shortest rebuild period: 1\n",
      "-- Cell list stats:\n",
      "Dimension: 4, 4, 4\n",
      "n_min    : 12 / n_max: 20 / n_avg: 15.625\n",
      "** run complete **\n",
      "** starting run **\n",
      "Time 00:00:06 | Step 35000 / 35000 | TPS 4818.9 | ETA 00:00:00\n",
      "Average TPS: 4814.03\n",
      "---------\n",
      "-- Neighborlist stats:\n",
      "2528 normal updates / 18 forced updates / 0 dangerous updates\n",
      "n_neigh_min: 52 / n_neigh_max: 66 / n_neigh_avg: 58.782\n",
      "shortest rebuild period: 1\n",
      "-- Cell list stats:\n",
      "Dimension: 4, 4, 4\n",
      "n_min    : 13 / n_max: 19 / n_avg: 15.625\n",
      "** run complete **\n",
      "** starting run **\n",
      "Time 00:00:07 | Step 40000 / 40000 | TPS 7935.9 | ETA 00:00:00\n",
      "Average TPS: 7926.53\n",
      "---------\n",
      "-- Neighborlist stats:\n",
      "918 normal updates / 18 forced updates / 0 dangerous updates\n",
      "n_neigh_min: 61 / n_neigh_max: 76 / n_neigh_avg: 68.862\n",
      "shortest rebuild period: 4\n",
      "-- Cell list stats:\n",
      "Dimension: 3, 3, 3\n",
      "n_min    : 34 / n_max: 42 / n_avg: 37.037\n",
      "** run complete **\n",
      "** starting run **\n",
      "Time 00:00:07 | Step 45000 / 45000 | TPS 6740.54 | ETA 00:00:00\n",
      "Average TPS: 6731.46\n",
      "---------\n",
      "-- Neighborlist stats:\n",
      "924 normal updates / 17 forced updates / 0 dangerous updates\n",
      "n_neigh_min: 61 / n_neigh_max: 78 / n_neigh_avg: 68.854\n",
      "shortest rebuild period: 4\n",
      "-- Cell list stats:\n",
      "Dimension: 3, 3, 3\n",
      "n_min    : 34 / n_max: 41 / n_avg: 37.037\n",
      "** run complete **\n",
      "** starting run **\n",
      "Time 00:00:08 | Step 50000 / 50000 | TPS 7918.32 | ETA 00:00:00\n",
      "Average TPS: 7907.19\n",
      "---------\n",
      "-- Neighborlist stats:\n",
      "925 normal updates / 18 forced updates / 0 dangerous updates\n",
      "n_neigh_min: 62 / n_neigh_max: 78 / n_neigh_avg: 68.902\n",
      "shortest rebuild period: 4\n",
      "-- Cell list stats:\n",
      "Dimension: 3, 3, 3\n",
      "n_min    : 32 / n_max: 41 / n_avg: 37.037\n",
      "** run complete **\n",
      "** starting run **\n",
      "Time 00:00:09 | Step 55000 / 55000 | TPS 9482.14 | ETA 00:00:00\n",
      "Average TPS: 9464.43\n",
      "---------\n",
      "-- Neighborlist stats:\n",
      "533 normal updates / 18 forced updates / 0 dangerous updates\n",
      "n_neigh_min: 72 / n_neigh_max: 90 / n_neigh_avg: 81.666\n",
      "shortest rebuild period: 7\n",
      "-- Cell list stats:\n",
      "Dimension: 3, 3, 3\n",
      "n_min    : 32 / n_max: 41 / n_avg: 37.037\n",
      "** run complete **\n",
      "** starting run **\n",
      "Time 00:00:09 | Step 60000 / 60000 | TPS 9446.67 | ETA 00:00:00\n",
      "Average TPS: 9429.37\n",
      "---------\n",
      "-- Neighborlist stats:\n",
      "534 normal updates / 17 forced updates / 0 dangerous updates\n",
      "n_neigh_min: 73 / n_neigh_max: 90 / n_neigh_avg: 81.734\n",
      "shortest rebuild period: 6\n",
      "-- Cell list stats:\n",
      "Dimension: 3, 3, 3\n",
      "n_min    : 32 / n_max: 42 / n_avg: 37.037\n",
      "** run complete **\n",
      "** starting run **\n",
      "Time 00:00:10 | Step 65000 / 65000 | TPS 9400.19 | ETA 00:00:00\n",
      "Average TPS: 9379.86\n",
      "---------\n",
      "-- Neighborlist stats:\n",
      "539 normal updates / 18 forced updates / 0 dangerous updates\n",
      "n_neigh_min: 73 / n_neigh_max: 89 / n_neigh_avg: 81.486\n",
      "shortest rebuild period: 7\n",
      "-- Cell list stats:\n",
      "Dimension: 3, 3, 3\n",
      "n_min    : 29 / n_max: 42 / n_avg: 37.037\n",
      "** run complete **\n",
      "** starting run **\n",
      "Time 00:00:10 | Step 70000 / 70000 | TPS 10126.2 | ETA 00:00:00\n",
      "Average TPS: 10106.3\n",
      "---------\n",
      "-- Neighborlist stats:\n",
      "367 normal updates / 18 forced updates / 0 dangerous updates\n",
      "n_neigh_min: 84 / n_neigh_max: 108 / n_neigh_avg: 96.586\n",
      "shortest rebuild period: 10\n",
      "-- Cell list stats:\n",
      "Dimension: 3, 3, 3\n",
      "n_min    : 34 / n_max: 42 / n_avg: 37.037\n",
      "** run complete **\n",
      "** starting run **\n",
      "Time 00:00:11 | Step 75000 / 75000 | TPS 10166.8 | ETA 00:00:00\n",
      "Average TPS: 10147.5\n",
      "---------\n",
      "-- Neighborlist stats:\n",
      "370 normal updates / 17 forced updates / 0 dangerous updates\n",
      "n_neigh_min: 87 / n_neigh_max: 107 / n_neigh_avg: 96.74\n",
      "shortest rebuild period: 10\n",
      "-- Cell list stats:\n",
      "Dimension: 3, 3, 3\n",
      "n_min    : 34 / n_max: 42 / n_avg: 37.037\n",
      "** run complete **\n",
      "** starting run **\n",
      "Time 00:00:11 | Step 80000 / 80000 | TPS 10165.5 | ETA 00:00:00\n",
      "Average TPS: 10142.9\n",
      "---------\n",
      "-- Neighborlist stats:\n",
      "365 normal updates / 18 forced updates / 0 dangerous updates\n",
      "n_neigh_min: 84 / n_neigh_max: 108 / n_neigh_avg: 96.926\n",
      "shortest rebuild period: 9\n",
      "-- Cell list stats:\n",
      "Dimension: 3, 3, 3\n",
      "n_min    : 33 / n_max: 43 / n_avg: 37.037\n",
      "** run complete **\n",
      "** starting run **\n",
      "Time 00:00:12 | Step 85000 / 85000 | TPS 10459.8 | ETA 00:00:00\n",
      "Average TPS: 10438.2\n",
      "---------\n",
      "-- Neighborlist stats:\n",
      "273 normal updates / 18 forced updates / 0 dangerous updates\n",
      "n_neigh_min: 102 / n_neigh_max: 126 / n_neigh_avg: 113.218\n",
      "shortest rebuild period: 13\n",
      "-- Cell list stats:\n",
      "Dimension: 3, 3, 3\n",
      "n_min    : 33 / n_max: 41 / n_avg: 37.037\n",
      "** run complete **\n",
      "** starting run **\n",
      "Time 00:00:12 | Step 90000 / 90000 | TPS 10567 | ETA 00:00:00\n",
      "Average TPS: 10547\n",
      "---------\n",
      "-- Neighborlist stats:\n",
      "270 normal updates / 17 forced updates / 0 dangerous updates\n",
      "n_neigh_min: 101 / n_neigh_max: 123 / n_neigh_avg: 112.914\n",
      "shortest rebuild period: 13\n",
      "-- Cell list stats:\n",
      "Dimension: 3, 3, 3\n",
      "n_min    : 32 / n_max: 44 / n_avg: 37.037\n",
      "** run complete **\n",
      "** starting run **\n",
      "Time 00:00:13 | Step 95000 / 95000 | TPS 10563.4 | ETA 00:00:00\n",
      "Average TPS: 10545.6\n",
      "---------\n",
      "-- Neighborlist stats:\n",
      "272 normal updates / 18 forced updates / 0 dangerous updates\n",
      "n_neigh_min: 103 / n_neigh_max: 126 / n_neigh_avg: 113.19\n",
      "shortest rebuild period: 13\n",
      "-- Cell list stats:\n",
      "Dimension: 3, 3, 3\n",
      "n_min    : 32 / n_max: 40 / n_avg: 37.037\n",
      "** run complete **\n",
      "** starting run **\n",
      "Time 00:00:13 | Step 100000 / 100000 | TPS 10644.9 | ETA 00:00:00\n",
      "Average TPS: 10625.3\n",
      "---------\n",
      "-- Neighborlist stats:\n",
      "215 normal updates / 18 forced updates / 0 dangerous updates\n",
      "n_neigh_min: 118 / n_neigh_max: 143 / n_neigh_avg: 129.938\n",
      "shortest rebuild period: 17\n",
      "-- Cell list stats:\n",
      "Dimension: 3, 3, 3\n",
      "n_min    : 32 / n_max: 41 / n_avg: 37.037\n",
      "** run complete **\n",
      "** starting run **\n",
      "Time 00:00:14 | Step 105000 / 105000 | TPS 10472.7 | ETA 00:00:00\n",
      "Average TPS: 10456.2\n",
      "---------\n",
      "-- Neighborlist stats:\n",
      "211 normal updates / 17 forced updates / 0 dangerous updates\n",
      "n_neigh_min: 119 / n_neigh_max: 141 / n_neigh_avg: 130.298\n",
      "shortest rebuild period: 18\n",
      "-- Cell list stats:\n",
      "Dimension: 3, 3, 3\n",
      "n_min    : 32 / n_max: 42 / n_avg: 37.037\n",
      "** run complete **\n",
      "** starting run **\n",
      "Time 00:00:14 | Step 110000 / 110000 | TPS 10685.5 | ETA 00:00:00\n",
      "Average TPS: 10662.7\n",
      "---------\n",
      "-- Neighborlist stats:\n",
      "208 normal updates / 18 forced updates / 0 dangerous updates\n",
      "n_neigh_min: 119 / n_neigh_max: 142 / n_neigh_avg: 130.12\n",
      "shortest rebuild period: 16\n",
      "-- Cell list stats:\n",
      "Dimension: 3, 3, 3\n",
      "n_min    : 34 / n_max: 41 / n_avg: 37.037\n",
      "** run complete **\n",
      "** starting run **\n",
      "Time 00:00:15 | Step 115000 / 115000 | TPS 10681.3 | ETA 00:00:00\n",
      "Average TPS: 10658.7\n",
      "---------\n",
      "-- Neighborlist stats:\n",
      "169 normal updates / 18 forced updates / 0 dangerous updates\n",
      "n_neigh_min: 137 / n_neigh_max: 160 / n_neigh_avg: 147.7\n",
      "shortest rebuild period: 19\n",
      "-- Cell list stats:\n",
      "Dimension: 3, 3, 3\n",
      "n_min    : 33 / n_max: 41 / n_avg: 37.037\n",
      "** run complete **\n",
      "** starting run **\n",
      "Time 00:00:15 | Step 120000 / 120000 | TPS 10738.1 | ETA 00:00:00\n",
      "Average TPS: 10717.4\n",
      "---------\n",
      "-- Neighborlist stats:\n",
      "166 normal updates / 17 forced updates / 0 dangerous updates\n",
      "n_neigh_min: 136 / n_neigh_max: 160 / n_neigh_avg: 147.926\n",
      "shortest rebuild period: 22\n",
      "-- Cell list stats:\n",
      "Dimension: 3, 3, 3\n",
      "n_min    : 31 / n_max: 43 / n_avg: 37.037\n",
      "** run complete **\n",
      "** starting run **\n",
      "Time 00:00:15 | Step 125000 / 125000 | TPS 10745.8 | ETA 00:00:00\n",
      "Average TPS: 10720.8\n",
      "---------\n",
      "-- Neighborlist stats:\n",
      "166 normal updates / 18 forced updates / 0 dangerous updates\n",
      "n_neigh_min: 136 / n_neigh_max: 158 / n_neigh_avg: 148.046\n",
      "shortest rebuild period: 22\n",
      "-- Cell list stats:\n",
      "Dimension: 3, 3, 3\n",
      "n_min    : 32 / n_max: 40 / n_avg: 37.037\n",
      "** run complete **\n",
      "** starting run **\n",
      "Time 00:00:16 | Step 130000 / 130000 | TPS 10518.4 | ETA 00:00:00\n",
      "Average TPS: 10500.4\n",
      "---------\n",
      "-- Neighborlist stats:\n",
      "136 normal updates / 18 forced updates / 0 dangerous updates\n",
      "n_neigh_min: 154 / n_neigh_max: 178 / n_neigh_avg: 166.878\n",
      "shortest rebuild period: 25\n",
      "-- Cell list stats:\n",
      "Dimension: 2, 2, 2\n",
      "n_min    : 122 / n_max: 131 / n_avg: 125\n",
      "** run complete **\n",
      "** starting run **\n",
      "Time 00:00:16 | Step 135000 / 135000 | TPS 10829.6 | ETA 00:00:00\n",
      "Average TPS: 10816.5\n",
      "---------\n",
      "-- Neighborlist stats:\n",
      "135 normal updates / 17 forced updates / 0 dangerous updates\n",
      "n_neigh_min: 153 / n_neigh_max: 179 / n_neigh_avg: 166.82\n",
      "shortest rebuild period: 26\n",
      "-- Cell list stats:\n",
      "Dimension: 2, 2, 2\n",
      "n_min    : 119 / n_max: 131 / n_avg: 125\n",
      "** run complete **\n",
      "** starting run **\n",
      "Time 00:00:17 | Step 140000 / 140000 | TPS 10827.2 | ETA 00:00:00\n",
      "Average TPS: 10812\n",
      "---------\n",
      "-- Neighborlist stats:\n",
      "136 normal updates / 18 forced updates / 0 dangerous updates\n",
      "n_neigh_min: 156 / n_neigh_max: 180 / n_neigh_avg: 167.056\n",
      "shortest rebuild period: 25\n",
      "-- Cell list stats:\n",
      "Dimension: 2, 2, 2\n",
      "n_min    : 120 / n_max: 129 / n_avg: 125\n",
      "** run complete **\n",
      "** starting run **\n",
      "Time 00:00:17 | Step 145000 / 145000 | TPS 10593.1 | ETA 00:00:00\n",
      "Average TPS: 10572.7\n",
      "---------\n",
      "-- Neighborlist stats:\n",
      "107 normal updates / 18 forced updates / 0 dangerous updates\n",
      "n_neigh_min: 175 / n_neigh_max: 200 / n_neigh_avg: 189.152\n",
      "shortest rebuild period: 30\n",
      "-- Cell list stats:\n",
      "Dimension: 2, 2, 2\n",
      "n_min    : 119 / n_max: 130 / n_avg: 125\n",
      "** run complete **\n",
      "** starting run **\n",
      "Time 00:00:18 | Step 150000 / 150000 | TPS 10638.5 | ETA 00:00:00\n",
      "Average TPS: 10620.7\n",
      "---------\n",
      "-- Neighborlist stats:\n",
      "108 normal updates / 17 forced updates / 0 dangerous updates\n",
      "n_neigh_min: 176 / n_neigh_max: 201 / n_neigh_avg: 189.11\n",
      "shortest rebuild period: 32\n",
      "-- Cell list stats:\n",
      "Dimension: 2, 2, 2\n",
      "n_min    : 121 / n_max: 128 / n_avg: 125\n",
      "** run complete **\n",
      "** starting run **\n",
      "Time 00:00:18 | Step 155000 / 155000 | TPS 10600.7 | ETA 00:00:00\n",
      "Average TPS: 10580.5\n",
      "---------\n",
      "-- Neighborlist stats:\n",
      "110 normal updates / 18 forced updates / 0 dangerous updates\n",
      "n_neigh_min: 177 / n_neigh_max: 204 / n_neigh_avg: 189.132\n",
      "shortest rebuild period: 26\n",
      "-- Cell list stats:\n",
      "Dimension: 2, 2, 2\n",
      "n_min    : 119 / n_max: 132 / n_avg: 125\n",
      "** run complete **\n",
      "** starting run **\n",
      "Time 00:00:19 | Step 160000 / 160000 | TPS 10315.7 | ETA 00:00:00\n",
      "Average TPS: 10299.2\n",
      "---------\n",
      "-- Neighborlist stats:\n",
      "90 normal updates / 18 forced updates / 0 dangerous updates\n",
      "n_neigh_min: 201 / n_neigh_max: 229 / n_neigh_avg: 213.408\n",
      "shortest rebuild period: 36\n",
      "-- Cell list stats:\n",
      "Dimension: 2, 2, 2\n",
      "n_min    : 118 / n_max: 131 / n_avg: 125\n",
      "** run complete **\n",
      "** starting run **\n",
      "Time 00:00:19 | Step 165000 / 165000 | TPS 10336 | ETA 00:00:00\n",
      "Average TPS: 10313.8\n",
      "---------\n",
      "-- Neighborlist stats:\n",
      "89 normal updates / 17 forced updates / 0 dangerous updates\n",
      "n_neigh_min: 201 / n_neigh_max: 227 / n_neigh_avg: 213.38\n",
      "shortest rebuild period: 35\n",
      "-- Cell list stats:\n",
      "Dimension: 2, 2, 2\n",
      "n_min    : 119 / n_max: 130 / n_avg: 125\n",
      "** run complete **\n",
      "** starting run **\n",
      "Time 00:00:20 | Step 170000 / 170000 | TPS 10314.2 | ETA 00:00:00\n",
      "Average TPS: 10292.7\n",
      "---------\n",
      "-- Neighborlist stats:\n",
      "89 normal updates / 18 forced updates / 0 dangerous updates\n",
      "n_neigh_min: 201 / n_neigh_max: 225 / n_neigh_avg: 213.502\n",
      "shortest rebuild period: 39\n",
      "-- Cell list stats:\n",
      "Dimension: 2, 2, 2\n",
      "n_min    : 119 / n_max: 129 / n_avg: 125\n",
      "** run complete **\n",
      "** starting run **\n",
      "Time 00:00:20 | Step 175000 / 175000 | TPS 9921.54 | ETA 00:00:00\n",
      "Average TPS: 9902.66\n",
      "---------\n",
      "-- Neighborlist stats:\n",
      "74 normal updates / 18 forced updates / 0 dangerous updates\n",
      "n_neigh_min: 227 / n_neigh_max: 254 / n_neigh_avg: 239.996\n",
      "shortest rebuild period: 40\n",
      "-- Cell list stats:\n",
      "Dimension: 2, 2, 2\n",
      "n_min    : 120 / n_max: 130 / n_avg: 125\n",
      "** run complete **\n",
      "** starting run **\n",
      "Time 00:00:21 | Step 180000 / 180000 | TPS 9999.96 | ETA 00:00:00\n",
      "Average TPS: 9978.84\n",
      "---------\n",
      "-- Neighborlist stats:\n",
      "73 normal updates / 17 forced updates / 0 dangerous updates\n",
      "n_neigh_min: 228 / n_neigh_max: 251 / n_neigh_avg: 240.126\n",
      "shortest rebuild period: 42\n",
      "-- Cell list stats:\n",
      "Dimension: 2, 2, 2\n",
      "n_min    : 122 / n_max: 129 / n_avg: 125\n",
      "** run complete **\n",
      "** starting run **\n",
      "Time 00:00:21 | Step 185000 / 185000 | TPS 10007.5 | ETA 00:00:00\n",
      "Average TPS: 9989.91\n",
      "---------\n",
      "-- Neighborlist stats:\n",
      "72 normal updates / 18 forced updates / 0 dangerous updates\n",
      "n_neigh_min: 229 / n_neigh_max: 255 / n_neigh_avg: 240.168\n",
      "shortest rebuild period: 41\n",
      "-- Cell list stats:\n",
      "Dimension: 2, 2, 2\n",
      "n_min    : 119 / n_max: 132 / n_avg: 125\n",
      "** run complete **\n",
      "** starting run **\n",
      "Time 00:00:23 | Step 205000 / 205000 | TPS 10625.2 | ETA 00:00:00\n",
      "Average TPS: 10619.2\n",
      "---------\n",
      "-- Neighborlist stats:\n",
      "539 normal updates / 68 forced updates / 0 dangerous updates\n",
      "n_neigh_min: 155 / n_neigh_max: 179 / n_neigh_avg: 167.058\n",
      "shortest rebuild period: 25\n",
      "-- Cell list stats:\n",
      "Dimension: 2, 2, 2\n",
      "n_min    : 120 / n_max: 134 / n_avg: 125\n",
      "** run complete **\n",
      "notice(2): r_buff = [0.05, 0.2, 0.35, 0.49999999999999994, 0.65, 0.8, 0.95, 1.1, 1.25, 1.4, 1.55]\n",
      "notice(2): tps = [4838.954747062997, 7907.188583284836, 9429.372116969475, 10142.934229157285, 10545.630945099445, 10625.276257182686, 10717.378443493693, 10811.956293747877, 10580.532666336554, 10299.212728179058, 9978.84484892029]\n",
      "notice(2): Optimal r_buff: 1.1\n",
      "notice(2): Maximum check_period: 24\n"
     ]
    },
    {
     "data": {
      "text/plain": [
       "(1.1, 24)"
      ]
     },
     "execution_count": 3,
     "metadata": {},
     "output_type": "execute_result"
    }
   ],
   "source": [
    "nl.tune(warmup=20000, r_min=0.05, r_max=1.55, jumps=11, steps=5000, set_max_check_period=False)"
   ]
  },
  {
   "cell_type": "markdown",
   "metadata": {},
   "source": [
    "The resulting performance vs r_buff curve looks like this."
   ]
  },
  {
   "cell_type": "code",
   "execution_count": 4,
   "metadata": {
    "collapsed": false
   },
   "outputs": [
    {
     "data": {
      "text/plain": [
       "<matplotlib.text.Text at 0x7f849dec8e80>"
      ]
     },
     "execution_count": 4,
     "metadata": {},
     "output_type": "execute_result"
    },
    {
     "data": {
      "image/png": "[encoded data removed]",
      "text/plain": [
       "<matplotlib.figure.Figure at 0x7f849fc48550>"
      ]
     },
     "metadata": {},
     "output_type": "display_data"
    }
   ],
   "source": [
    "pyplot.plot([0.05, 0.2, 0.35, 0.49999999999999994, 0.65, 0.8, 0.95, 1.1, 1.25, 1.4, 1.55], [4829.723276175168, 7856.706248752748, 9388.825044878584, 10131.404313951958, 10472.980756945157, 10589.271796957068, 10681.843429811744, 10708.885376374485, 10561.669588728586, 10257.104583489754, 9902.029321889228], '+')\n",
    "pyplot.xlabel('r_buff')\n",
    "pyplot.ylabel('performance')"
   ]
  },
  {
   "cell_type": "markdown",
   "metadata": {},
   "source": [
    "Tune r_buff in a few test simulations at the range of parameters you intend to explore. Then set a static r_buff in your production simulations."
   ]
  },
  {
   "cell_type": "code",
   "execution_count": 5,
   "metadata": {
    "collapsed": false
   },
   "outputs": [
    {
     "name": "stdout",
     "output_type": "stream",
     "text": [
      "** starting run **\n",
      "Time 00:00:24 | Step 210000 / 210000 | TPS 11514.8 | ETA 00:00:00\n",
      "Average TPS: 11490.3\n",
      "---------\n",
      "-- Neighborlist stats:\n",
      "133 normal updates / 17 forced updates / 0 dangerous updates\n",
      "n_neigh_min: 155 / n_neigh_max: 181 / n_neigh_avg: 167.19\n",
      "shortest rebuild period: 24\n",
      "-- Cell list stats:\n",
      "Dimension: 2, 2, 2\n",
      "n_min    : 113 / n_max: 131 / n_avg: 125\n",
      "** run complete **\n"
     ]
    }
   ],
   "source": [
    "nl.set_params(r_buff = 1.1, check_period=23)\n",
    "hoomd.run(5000)"
   ]
  },
  {
   "cell_type": "markdown",
   "metadata": {},
   "source": [
    "## Use a different acceleration structure\n",
    "\n",
    "HOOMD provides 3 types of acceleration structures for neighbor lists. The cell list (consider this the default), the stenciled cell list, and the tree data structure. This example just demonstrates how to enable the different acceleration structures. The various acceleration structures have different performance characteristics depending on the distribution of particles in the system and range of *r_cut* values in the pair potential.\n",
    "\n",
    "### Stencil cell list"
   ]
  },
  {
   "cell_type": "code",
   "execution_count": 6,
   "metadata": {
    "collapsed": false
   },
   "outputs": [
    {
     "name": "stdout",
     "output_type": "stream",
     "text": [
      "notice(2): Group \"all\" created containing 1000 particles\n",
      "-----\n",
      "You are using stenciled neighbor lists. Please cite the following:\n",
      "* M P Howard, J A Anderson, A Nikoubashman, S C Glotzer, and A Z\n",
      "  Panagiotopoulos. \"Efficient neighbor list calculation for molecular simulation\n",
      "  of colloidal systems using graphics processing units\", Computer Physics\n",
      "  Communications 203 (2016) 45--52\n",
      "-----\n",
      "notice(2): integrate.langevin/bd is using specified gamma values\n"
     ]
    },
    {
     "data": {
      "text/plain": [
       "<hoomd.md.integrate.langevin at 0x7f849e766d68>"
      ]
     },
     "execution_count": 6,
     "metadata": {},
     "output_type": "execute_result"
    }
   ],
   "source": [
    "hoomd.context.initialize('')\n",
    "system = hoomd.init.create_lattice(unitcell=hoomd.lattice.sc(a=1.05), n=10)\n",
    "nl = hoomd.md.nlist.stencil(r_buff = 1.1, cell_width = 1.8)\n",
    "lj = hoomd.md.pair.lj(r_cut=2.5, nlist=nl)\n",
    "lj.pair_coeff.set('A', 'A', epsilon=1.0, sigma=1.0)\n",
    "hoomd.md.integrate.mode_standard(dt=0.005)\n",
    "hoomd.md.integrate.langevin(group=hoomd.group.all(), kT=1.0, seed=2)"
   ]
  },
  {
   "cell_type": "code",
   "execution_count": 7,
   "metadata": {
    "collapsed": false
   },
   "outputs": [
    {
     "name": "stdout",
     "output_type": "stream",
     "text": [
      "notice(2): -- Neighborlist exclusion statistics -- :\n",
      "notice(2): Particles with 0 exclusions             : 1000\n",
      "notice(2): Neighbors included by diameter          : no\n",
      "notice(2): Neighbors excluded when in the same body: no\n",
      "** starting run **\n",
      "Time 00:00:01 | Step 5000 / 5000 | TPS 4066.3 | ETA 00:00:00\n",
      "Average TPS: 4061.93\n",
      "---------\n",
      "-- Neighborlist stats:\n",
      "133 normal updates / 18 forced updates / 0 dangerous updates\n",
      "n_neigh_min: 157 / n_neigh_max: 181 / n_neigh_avg: 167.024\n",
      "shortest rebuild period: 23\n",
      "-- Cell list stats:\n",
      "Dimension: 5, 5, 5\n",
      "n_min    : 6 / n_max: 11 / n_avg: 8\n",
      "** run complete **\n"
     ]
    }
   ],
   "source": [
    "hoomd.run(5000)"
   ]
  },
  {
   "cell_type": "markdown",
   "metadata": {},
   "source": [
    "To fully evaluate the performance of the stencil cell list, tune the ``cell_width`` and ``r_buff``."
   ]
  },
  {
   "cell_type": "markdown",
   "metadata": {},
   "source": [
    "### Tree"
   ]
  },
  {
   "cell_type": "code",
   "execution_count": 8,
   "metadata": {
    "collapsed": false
   },
   "outputs": [
    {
     "name": "stdout",
     "output_type": "stream",
     "text": [
      "notice(2): Group \"all\" created containing 1000 particles\n",
      "-----\n",
      "You are using tree neighbor lists. Please cite the following:\n",
      "* M P Howard, J A Anderson, A Nikoubashman, S C Glotzer, and A Z\n",
      "  Panagiotopoulos. \"Efficient neighbor list calculation for molecular simulation\n",
      "  of colloidal systems using graphics processing units\", Computer Physics\n",
      "  Communications 203 (2016) 45--52\n",
      "-----\n",
      "notice(2): integrate.langevin/bd is using specified gamma values\n"
     ]
    },
    {
     "data": {
      "text/plain": [
       "<hoomd.md.integrate.langevin at 0x7f849e766cc0>"
      ]
     },
     "execution_count": 8,
     "metadata": {},
     "output_type": "execute_result"
    }
   ],
   "source": [
    "hoomd.context.initialize('')\n",
    "system = hoomd.init.create_lattice(unitcell=hoomd.lattice.sc(a=1.05), n=10)\n",
    "nl = hoomd.md.nlist.tree(r_buff = 1.1)\n",
    "lj = hoomd.md.pair.lj(r_cut=2.5, nlist=nl)\n",
    "lj.pair_coeff.set('A', 'A', epsilon=1.0, sigma=1.0)\n",
    "hoomd.md.integrate.mode_standard(dt=0.005)\n",
    "hoomd.md.integrate.langevin(group=hoomd.group.all(), kT=1.0, seed=2)"
   ]
  },
  {
   "cell_type": "code",
   "execution_count": 9,
   "metadata": {
    "collapsed": false
   },
   "outputs": [
    {
     "name": "stdout",
     "output_type": "stream",
     "text": [
      "notice(2): -- Neighborlist exclusion statistics -- :\n",
      "notice(2): Particles with 0 exclusions             : 1000\n",
      "notice(2): Neighbors included by diameter          : no\n",
      "notice(2): Neighbors excluded when in the same body: no\n",
      "** starting run **\n",
      "Time 00:00:01 | Step 5000 / 5000 | TPS 2790.58 | ETA 00:00:00\n",
      "Average TPS: 2788.83\n",
      "---------\n",
      "-- Neighborlist stats:\n",
      "132 normal updates / 18 forced updates / 0 dangerous updates\n",
      "n_neigh_min: 155 / n_neigh_max: 179 / n_neigh_avg: 166.81\n",
      "shortest rebuild period: 23\n",
      "** run complete **\n"
     ]
    }
   ],
   "source": [
    "hoomd.run(5000)"
   ]
  },
  {
   "cell_type": "code",
   "execution_count": null,
   "metadata": {
    "collapsed": true
   },
   "outputs": [],
   "source": []
  }
 ],
 "metadata": {
  "kernelspec": {
   "display_name": "Python 3",
   "language": "python",
   "name": "python3"
  },
  "language_info": {
   "codemirror_mode": {
    "name": "ipython",
    "version": 3
   },
   "file_extension": ".py",
   "mimetype": "text/x-python",
   "name": "python",
   "nbconvert_exporter": "python",
   "pygments_lexer": "ipython3",
   "version": "3.4.5"
  }
 },
 "nbformat": 4,
 "nbformat_minor": 1
}
