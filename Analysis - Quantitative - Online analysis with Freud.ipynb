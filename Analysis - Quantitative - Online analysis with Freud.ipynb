{
 "cells": [
  {
   "cell_type": "markdown",
   "metadata": {
    "slideshow": {
     "slide_type": "skip"
    }
   },
   "source": [
    "# Online analysis with Freud\n",
    "\n",
    "[Freud](http://glotzerlab.engin.umich.edu/freud/) is a python library that performs analysis of simulation trajectories. This example uses Freud to compute the RDF of a system of hard disks."
   ]
  },
  {
   "cell_type": "markdown",
   "metadata": {
    "slideshow": {
     "slide_type": "slide"
    }
   },
   "source": [
    "Start with the hard disk example script."
   ]
  },
  {
   "cell_type": "code",
   "execution_count": 1,
   "metadata": {
    "collapsed": false,
    "slideshow": {
     "slide_type": "fragment"
    }
   },
   "outputs": [
    {
     "name": "stdout",
     "output_type": "stream",
     "text": [
      "HOOMD-blue v2.1.5 CUDA (7.5) DOUBLE HPMC_MIXED MPI SSE SSE2 SSE3 SSE4_1 SSE4_2 AVX \n",
      "Compiled: 03/09/2017\n",
      "Copyright 2009-2016 The Regents of the University of Michigan.\n",
      "-----\n",
      "You are using HOOMD-blue. Please cite the following:\n",
      "* J A Anderson, C D Lorenz, and A Travesset. \"General purpose molecular dynamics\n",
      "  simulations fully implemented on graphics processing units\", Journal of\n",
      "  Computational Physics 227 (2008) 5342--5359\n",
      "* J Glaser, T D Nguyen, J A Anderson, P Liu, F Spiga, J A Millan, D C Morse, and\n",
      "  S C Glotzer. \"Strong scaling of general-purpose molecular dynamics simulations\n",
      "  on GPUs\", Computer Physics Communications 192 (2015) 97--107\n",
      "-----\n",
      "-----\n",
      "You are using HPMC. Please cite the following:\n",
      "* J A Anderson, M E Irrgang, and S C Glotzer. \"Scalable Metropolis Monte Carlo\n",
      "  for simulation of hard shapes\", Computer Physics Communications 204 (2016) 21\n",
      "  --30\n",
      "-----\n",
      "HOOMD-blue is running on the CPU\n",
      "notice(2): Group \"all\" created containing 100 particles\n",
      "** starting run **\n",
      "Time 00:00:10 | Step 97826 / 100000 | TPS 9782.6 | ETA 00:00:00\n",
      "Time 00:00:10 | Step 100000 / 100000 | TPS 9663.04 | ETA 00:00:00\n",
      "Average TPS: 9771.17\n",
      "---------\n",
      "notice(2): -- HPMC stats:\n",
      "notice(2): Average translate acceptance: 0.210497\n",
      "notice(2): Trial moves per second:        3.90509e+06\n",
      "notice(2): Overlap checks per second:     5.51901e+07\n",
      "notice(2): Overlap checks per trial move: 14.1329\n",
      "notice(2): Number of overlap errors:      0\n",
      "** run complete **\n"
     ]
    }
   ],
   "source": [
    "import hoomd, hoomd.hpmc\n",
    "hoomd.context.initialize(\"--mode=cpu\");\n",
    "system = hoomd.init.create_lattice(unitcell=hoomd.lattice.sq(a=1.05),\n",
    "                                   n=10);\n",
    "mc = hoomd.hpmc.integrate.sphere(d=0.2, seed=1);\n",
    "mc.shape_param.set('A', diameter=1.0);\n",
    "hoomd.run(10e4);"
   ]
  },
  {
   "cell_type": "markdown",
   "metadata": {
    "slideshow": {
     "slide_type": "slide"
    }
   },
   "source": [
    "## Online analysis"
   ]
  },
  {
   "cell_type": "markdown",
   "metadata": {
    "slideshow": {
     "slide_type": "skip"
    }
   },
   "source": [
    "The RDF sampled from a single particle configuration is noisy. Accumulate samples as the simulation progresses with a callback analyzer. Online analysis may be performed with a very short period that would lead to massive files if saved to a trajectory file."
   ]
  },
  {
   "cell_type": "code",
   "execution_count": 2,
   "metadata": {
    "collapsed": true,
    "slideshow": {
     "slide_type": "fragment"
    }
   },
   "outputs": [],
   "source": [
    "import freud\n",
    "class rdf_analyze:\n",
    "    def __init__(self, system):\n",
    "        self.system = system;\n",
    "        self.rdf = freud.density.RDF(rmax=4.0, dr=0.01);\n",
    "        \n",
    "    def __call__(self, step):\n",
    "        snap = system.take_snapshot();\n",
    "        pos = snap.particles.position;\n",
    "        box = freud.box.Box(snap.box.Lx, snap.box.Ly, is2D=True);\n",
    "        self.rdf.accumulate(box, pos, pos);"
   ]
  },
  {
   "cell_type": "code",
   "execution_count": 3,
   "metadata": {
    "collapsed": false,
    "slideshow": {
     "slide_type": "subslide"
    }
   },
   "outputs": [],
   "source": [
    "analyzer = rdf_analyze(system);\n",
    "hoomd.analyze.callback(analyzer, period=100);"
   ]
  },
  {
   "cell_type": "markdown",
   "metadata": {
    "slideshow": {
     "slide_type": "slide"
    }
   },
   "source": [
    "## Run the simulation"
   ]
  },
  {
   "cell_type": "code",
   "execution_count": 4,
   "metadata": {
    "collapsed": false,
    "slideshow": {
     "slide_type": "fragment"
    }
   },
   "outputs": [
    {
     "name": "stdout",
     "output_type": "stream",
     "text": [
      "** starting run **\n",
      "Time 00:00:20 | Step 192615 / 400000 | TPS 9261.47 | ETA 00:00:22\n",
      "Time 00:00:30 | Step 286285 / 400000 | TPS 9366.95 | ETA 00:00:12\n",
      "Time 00:00:40 | Step 380376 / 400000 | TPS 9409.06 | ETA 00:00:02\n",
      "Time 00:00:42 | Step 400000 / 400000 | TPS 8836.33 | ETA 00:00:00\n",
      "Average TPS: 9308.39\n",
      "---------\n",
      "notice(2): -- HPMC stats:\n",
      "notice(2): Average translate acceptance: 0.210408\n",
      "notice(2): Trial moves per second:        3.72204e+06\n",
      "notice(2): Overlap checks per second:     5.24892e+07\n",
      "notice(2): Overlap checks per trial move: 14.1023\n",
      "notice(2): Number of overlap errors:      0\n",
      "** run complete **\n"
     ]
    }
   ],
   "source": [
    "hoomd.run(30e4);"
   ]
  },
  {
   "cell_type": "markdown",
   "metadata": {
    "slideshow": {
     "slide_type": "slide"
    }
   },
   "source": [
    "## Examine the output"
   ]
  },
  {
   "cell_type": "code",
   "execution_count": 5,
   "metadata": {
    "collapsed": false,
    "slideshow": {
     "slide_type": "subslide"
    }
   },
   "outputs": [
    {
     "data": {
      "image/png": "[encoded data removed]",
      "text/plain": [
       "<matplotlib.figure.Figure at 0x7f65ba4d3dd8>"
      ]
     },
     "metadata": {},
     "output_type": "display_data"
    }
   ],
   "source": [
    "from matplotlib import pyplot\n",
    "%matplotlib inline\n",
    "pyplot.figure(figsize=(4,2.2), dpi=140);\n",
    "pyplot.plot(analyzer.rdf.getR(), analyzer.rdf.getRDF());"
   ]
  }
 ],
 "metadata": {
  "kernelspec": {
   "display_name": "Python 3",
   "language": "python",
   "name": "python3"
  },
  "language_info": {
   "codemirror_mode": {
    "name": "ipython",
    "version": 3
   },
   "file_extension": ".py",
   "mimetype": "text/x-python",
   "name": "python",
   "nbconvert_exporter": "python",
   "pygments_lexer": "ipython3",
   "version": "3.5.3"
  }
 },
 "nbformat": 4,
 "nbformat_minor": 2
}
