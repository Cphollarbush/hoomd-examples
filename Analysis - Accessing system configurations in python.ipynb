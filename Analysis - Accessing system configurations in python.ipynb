{
 "cells": [
  {
   "cell_type": "code",
   "execution_count": 1,
   "metadata": {},
   "outputs": [],
   "source": [
    "import hoomd\n",
    "import hoomd.md\n",
    "import numpy"
   ]
  },
  {
   "cell_type": "markdown",
   "metadata": {},
   "source": [
    "# Accessing system configurations in python\n",
    "\n",
    "To get some data for an example, run the Lennard-Jones tutorial script."
   ]
  },
  {
   "cell_type": "code",
   "execution_count": 2,
   "metadata": {},
   "outputs": [
    {
     "name": "stdout",
     "output_type": "stream",
     "text": [
      "HOOMD-blue v2.1.5 CUDA (7.5) DOUBLE HPMC_MIXED MPI SSE SSE2 SSE3 SSE4_1 SSE4_2 AVX \n",
      "Compiled: 03/12/2017\n",
      "Copyright 2009-2016 The Regents of the University of Michigan.\n",
      "-----\n",
      "You are using HOOMD-blue. Please cite the following:\n",
      "* J A Anderson, C D Lorenz, and A Travesset. \"General purpose molecular dynamics\n",
      "  simulations fully implemented on graphics processing units\", Journal of\n",
      "  Computational Physics 227 (2008) 5342--5359\n",
      "* J Glaser, T D Nguyen, J A Anderson, P Liu, F Spiga, J A Millan, D C Morse, and\n",
      "  S C Glotzer. \"Strong scaling of general-purpose molecular dynamics simulations\n",
      "  on GPUs\", Computer Physics Communications 192 (2015) 97--107\n",
      "-----\n",
      "HOOMD-blue is running on the CPU\n",
      "notice(2): Group \"all\" created containing 125 particles\n",
      "notice(2): integrate.langevin/bd is using specified gamma values\n"
     ]
    }
   ],
   "source": [
    "hoomd.context.initialize('--mode=cpu');\n",
    "system = hoomd.init.create_lattice(unitcell=hoomd.lattice.sc(a=2.0), n=5);\n",
    "nl = hoomd.md.nlist.cell();\n",
    "lj = hoomd.md.pair.lj(r_cut=3.0, nlist=nl);\n",
    "lj.pair_coeff.set('A', 'A', epsilon=1.0, sigma=1.0);\n",
    "all = hoomd.group.all();\n",
    "hoomd.md.integrate.mode_standard(dt=0.001);\n",
    "hoomd.md.integrate.langevin(group=all, kT=1.0, seed=987);"
   ]
  },
  {
   "cell_type": "markdown",
   "metadata": {},
   "source": [
    "## Take snapshots"
   ]
  },
  {
   "cell_type": "markdown",
   "metadata": {},
   "source": [
    "Use `take_snapshot` to access the current system configuration as a snapshot."
   ]
  },
  {
   "cell_type": "code",
   "execution_count": 3,
   "metadata": {
    "collapsed": true
   },
   "outputs": [],
   "source": [
    "snap = system.take_snapshot(all=True)"
   ]
  },
  {
   "cell_type": "markdown",
   "metadata": {},
   "source": [
    "The snapshot contains the simulation box, and particle properties. It also includes bond, angle, dihedral, and constraint topology information which will be covered in an MD specific tutorial. For a complete list of particle properties in the snapshot, see the snapshot documentation."
   ]
  },
  {
   "cell_type": "code",
   "execution_count": 4,
   "metadata": {},
   "outputs": [
    {
     "name": "stdout",
     "output_type": "stream",
     "text": [
      "Box: Lx=10.0 Ly=10.0 Lz=10.0 xy=0.0 xz=0.0 yz=0.0 dimensions=3\n"
     ]
    }
   ],
   "source": [
    "print(snap.box)"
   ]
  },
  {
   "cell_type": "code",
   "execution_count": 5,
   "metadata": {},
   "outputs": [
    {
     "data": {
      "text/plain": [
       "array([[-4., -4., -4.],\n",
       "       [-4., -4., -2.],\n",
       "       [-4., -4.,  0.],\n",
       "       [-4., -4.,  2.],\n",
       "       [-4., -4.,  4.],\n",
       "       [-4., -2., -4.],\n",
       "       [-4., -2., -2.],\n",
       "       [-4., -2.,  0.],\n",
       "       [-4., -2.,  2.],\n",
       "       [-4., -2.,  4.]], dtype=float32)"
      ]
     },
     "execution_count": 5,
     "metadata": {},
     "output_type": "execute_result"
    }
   ],
   "source": [
    "snap.particles.position[0:10,:]"
   ]
  },
  {
   "cell_type": "code",
   "execution_count": 6,
   "metadata": {},
   "outputs": [
    {
     "data": {
      "text/plain": [
       "array([[ 0.,  0.,  0.],\n",
       "       [ 0.,  0.,  0.],\n",
       "       [ 0.,  0.,  0.],\n",
       "       [ 0.,  0.,  0.],\n",
       "       [ 0.,  0.,  0.],\n",
       "       [ 0.,  0.,  0.],\n",
       "       [ 0.,  0.,  0.],\n",
       "       [ 0.,  0.,  0.],\n",
       "       [ 0.,  0.,  0.],\n",
       "       [ 0.,  0.,  0.]], dtype=float32)"
      ]
     },
     "execution_count": 6,
     "metadata": {},
     "output_type": "execute_result"
    }
   ],
   "source": [
    "snap.particles.velocity[0:10,:]"
   ]
  },
  {
   "cell_type": "markdown",
   "metadata": {},
   "source": [
    "The snapshot object is an independent copy of the simulation data. When you continue the simulation run, the snapshot remains unchanged."
   ]
  },
  {
   "cell_type": "code",
   "execution_count": 7,
   "metadata": {},
   "outputs": [
    {
     "name": "stdout",
     "output_type": "stream",
     "text": [
      "notice(2): -- Neighborlist exclusion statistics -- :\n",
      "notice(2): Particles with 0 exclusions             : 125\n",
      "notice(2): Neighbors included by diameter          : no\n",
      "notice(2): Neighbors excluded when in the same body: no\n"
     ]
    }
   ],
   "source": [
    "hoomd.run(10e3, quiet=True)"
   ]
  },
  {
   "cell_type": "code",
   "execution_count": 8,
   "metadata": {},
   "outputs": [
    {
     "data": {
      "text/plain": [
       "array([[-4., -4., -4.],\n",
       "       [-4., -4., -2.],\n",
       "       [-4., -4.,  0.],\n",
       "       [-4., -4.,  2.],\n",
       "       [-4., -4.,  4.],\n",
       "       [-4., -2., -4.],\n",
       "       [-4., -2., -2.],\n",
       "       [-4., -2.,  0.],\n",
       "       [-4., -2.,  2.],\n",
       "       [-4., -2.,  4.]], dtype=float32)"
      ]
     },
     "execution_count": 8,
     "metadata": {},
     "output_type": "execute_result"
    }
   ],
   "source": [
    "snap.particles.position[0:10,:]"
   ]
  },
  {
   "cell_type": "markdown",
   "metadata": {},
   "source": [
    "When you call `take_snapshot` again, you will get the updated system configuration."
   ]
  },
  {
   "cell_type": "code",
   "execution_count": 9,
   "metadata": {},
   "outputs": [
    {
     "data": {
      "text/plain": [
       "array([[ 2.23450947,  4.14357567,  3.23013973],\n",
       "       [ 1.9669745 , -2.60286117,  2.52477765],\n",
       "       [-1.535514  ,  0.18256012, -4.43649864],\n",
       "       [-0.8033995 , -1.77420795,  1.3952688 ],\n",
       "       [-4.49599552, -0.79098874,  3.91530466],\n",
       "       [ 1.04309428, -4.68264437,  4.53090811],\n",
       "       [ 2.28033209, -1.71373463,  0.69547868],\n",
       "       [ 0.29374596,  2.2471056 , -4.04393196],\n",
       "       [-2.71024776,  1.25365555, -0.87069672],\n",
       "       [ 2.04618239, -0.15408203,  1.57929945]], dtype=float32)"
      ]
     },
     "execution_count": 9,
     "metadata": {},
     "output_type": "execute_result"
    }
   ],
   "source": [
    "snap2 = system.take_snapshot(all=True)\n",
    "snap2.particles.position[0:10,:]"
   ]
  },
  {
   "cell_type": "markdown",
   "metadata": {
    "collapsed": true
   },
   "source": [
    "## Analyze system configurations periodically\n",
    "\n",
    "Perform analysis tasks periodically on the system configuration using a callback analyzer. First, create the analyzer callback class that captures the system variable saved in the initialization command."
   ]
  },
  {
   "cell_type": "code",
   "execution_count": 10,
   "metadata": {},
   "outputs": [],
   "source": [
    "class avg_vel:\n",
    "    def __init__(self, system):\n",
    "        self.system = system;\n",
    "    def __call__(self, timestep):\n",
    "        snap = self.system.take_snapshot();\n",
    "        avg_vel = numpy.mean(snap.particles.velocity, axis=0);\n",
    "        print(timestep, ':', avg_vel);"
   ]
  },
  {
   "cell_type": "markdown",
   "metadata": {},
   "source": [
    "Then, create the callback analyzer and attach it to the callback class."
   ]
  },
  {
   "cell_type": "code",
   "execution_count": 11,
   "metadata": {},
   "outputs": [],
   "source": [
    "hoomd.analyze.callback(callback=avg_vel(system), period=100);"
   ]
  },
  {
   "cell_type": "markdown",
   "metadata": {},
   "source": [
    "Run the simulation and observe the output of the analysis."
   ]
  },
  {
   "cell_type": "code",
   "execution_count": 12,
   "metadata": {},
   "outputs": [
    {
     "name": "stdout",
     "output_type": "stream",
     "text": [
      "(10000L, ':', array([-0.11201318, -0.02595793, -0.12756611], dtype=float32))\n",
      "(10100L, ':', array([-0.07834366,  0.00738541, -0.11726347], dtype=float32))\n",
      "(10200L, ':', array([-0.04684083,  0.04181128, -0.05382856], dtype=float32))\n",
      "(10300L, ':', array([-0.03593112,  0.01279185, -0.13130777], dtype=float32))\n",
      "(10400L, ':', array([-0.01960432, -0.01791668, -0.08600815], dtype=float32))\n",
      "(10500L, ':', array([-0.05530114, -0.02656797, -0.13475499], dtype=float32))\n",
      "(10600L, ':', array([-0.07956874, -0.04796169, -0.02593341], dtype=float32))\n",
      "(10700L, ':', array([-0.06260108, -0.12288381,  0.04341358], dtype=float32))\n",
      "(10800L, ':', array([-0.07554695, -0.11343727, -0.00279859], dtype=float32))\n",
      "(10900L, ':', array([-0.02769233, -0.13621315, -0.01962889], dtype=float32))\n"
     ]
    }
   ],
   "source": [
    "hoomd.run(1000, quiet=True);"
   ]
  }
 ],
 "metadata": {
  "kernelspec": {
   "display_name": "Python 3",
   "language": "python",
   "name": "python3"
  },
  "language_info": {
   "codemirror_mode": {
    "name": "ipython",
    "version": 3
   },
   "file_extension": ".py",
   "mimetype": "text/x-python",
   "name": "python",
   "nbconvert_exporter": "python",
   "pygments_lexer": "ipython3",
   "version": "3.6.1"
  }
 },
 "nbformat": 4,
 "nbformat_minor": 1
}
