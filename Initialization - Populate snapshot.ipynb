{
 "cells": [
  {
   "cell_type": "code",
   "execution_count": 1,
   "metadata": {
    "collapsed": false
   },
   "outputs": [],
   "source": [
    "import hoomd\n",
    "import numpy"
   ]
  },
  {
   "cell_type": "markdown",
   "metadata": {},
   "source": [
    "# Setting initial conditions in python\n",
    "\n",
    "You can set initial conditions for HOOMD using arbitrary python code via a snapshot. Use this to generate random initial conditions within a job script, provide customizable parameters for the initial conditions, or read from a custom file format.\n",
    "\n",
    "## Make Snapshot\n",
    "\n",
    "The first step is to make a snapshot to hold the particles. `N` is the number of particles to create, `box` is the simulation box, and `particle_types` is a list of the particle type names. This only demonstrates the syntax you can use."
   ]
  },
  {
   "cell_type": "code",
   "execution_count": 2,
   "metadata": {
    "collapsed": false
   },
   "outputs": [
    {
     "name": "stdout",
     "output_type": "stream",
     "text": [
      "HOOMD-blue v2.1.5 CUDA (7.5) DOUBLE HPMC_MIXED MPI SSE SSE2 SSE3 SSE4_1 SSE4_2 AVX \n",
      "Compiled: 03/09/2017\n",
      "Copyright 2009-2016 The Regents of the University of Michigan.\n",
      "-----\n",
      "You are using HOOMD-blue. Please cite the following:\n",
      "* J A Anderson, C D Lorenz, and A Travesset. \"General purpose molecular dynamics\n",
      "  simulations fully implemented on graphics processing units\", Journal of\n",
      "  Computational Physics 227 (2008) 5342--5359\n",
      "* J Glaser, T D Nguyen, J A Anderson, P Liu, F Spiga, J A Millan, D C Morse, and\n",
      "  S C Glotzer. \"Strong scaling of general-purpose molecular dynamics simulations\n",
      "  on GPUs\", Computer Physics Communications 192 (2015) 97--107\n",
      "-----\n",
      "notice(2): This system is not compute exclusive, using local rank to select GPUs\n",
      "notice(2): Unable to identify node local rank information\n",
      "notice(2): Using global rank to select GPUs\n",
      "HOOMD-blue is running on the following GPU(s):\n",
      " [0]            Tesla K20c  13 SM_3.5 @ 0.706 GHz, 5060 MiB DRAM\n"
     ]
    }
   ],
   "source": [
    "hoomd.context.initialize(\"\");\n",
    "snap = hoomd.data.make_snapshot(N=4, box=hoomd.data.boxdim(L=10), particle_types=['A', 'B']);"
   ]
  },
  {
   "cell_type": "markdown",
   "metadata": {},
   "source": [
    "The snapshot object contains [numpy](http://www.numpy.org/) arrays with all of the particle properties."
   ]
  },
  {
   "cell_type": "code",
   "execution_count": 3,
   "metadata": {
    "collapsed": false
   },
   "outputs": [
    {
     "name": "stdout",
     "output_type": "stream",
     "text": [
      "[[ 0.  0.  0.]\n",
      " [ 0.  0.  0.]\n",
      " [ 0.  0.  0.]\n",
      " [ 0.  0.  0.]]\n"
     ]
    }
   ],
   "source": [
    "print(snap.particles.position)"
   ]
  },
  {
   "cell_type": "code",
   "execution_count": 4,
   "metadata": {
    "collapsed": false
   },
   "outputs": [
    {
     "name": "stdout",
     "output_type": "stream",
     "text": [
      "[ 1.  1.  1.  1.]\n"
     ]
    }
   ],
   "source": [
    "print(snap.particles.diameter)"
   ]
  },
  {
   "cell_type": "code",
   "execution_count": 5,
   "metadata": {
    "collapsed": false
   },
   "outputs": [
    {
     "name": "stdout",
     "output_type": "stream",
     "text": [
      "[[ 0.  0.  0.]\n",
      " [ 0.  0.  0.]\n",
      " [ 0.  0.  0.]\n",
      " [ 0.  0.  0.]]\n"
     ]
    }
   ],
   "source": [
    "print(snap.particles.velocity)"
   ]
  },
  {
   "cell_type": "markdown",
   "metadata": {},
   "source": [
    "As you can see, all particles are initialized with default properties.\n",
    "\n",
    "## Populate snapshot\n",
    "\n",
    "The next step is to populate the snapshot with your desired initial condition. This can be created by any code, or assigned by hand. Make sure to assign positions for all particles."
   ]
  },
  {
   "cell_type": "code",
   "execution_count": 6,
   "metadata": {
    "collapsed": true
   },
   "outputs": [],
   "source": [
    "snap.particles.position[0] = [1,2,3];\n",
    "snap.particles.position[1] = [-1,-2,-3];\n",
    "snap.particles.position[2] = [3,2,1];\n",
    "snap.particles.position[3] = [-3,-2,-1];"
   ]
  },
  {
   "cell_type": "markdown",
   "metadata": {},
   "source": [
    "You must assign elements of the arrays in the snapshot (particles.position[...] = ...), not the arrays themselves (particles.position = array). You can copy an existing numpy array with the [:] syntax."
   ]
  },
  {
   "cell_type": "code",
   "execution_count": 7,
   "metadata": {
    "collapsed": false
   },
   "outputs": [
    {
     "name": "stdout",
     "output_type": "stream",
     "text": [
      "[[ 0.54264128 -0.95849609  0.26729646]\n",
      " [ 0.49760777 -0.00298598 -0.55040669]\n",
      " [-0.60387427  0.52106142 -0.66177833]\n",
      " [-0.82332039  0.37071964  0.90678668]]\n"
     ]
    }
   ],
   "source": [
    "numpy.random.seed(10);\n",
    "my_velocity = numpy.random.random((4,3)) * 2 - 1;\n",
    "snap.particles.velocity[:] = my_velocity[:];\n",
    "print(snap.particles.velocity)"
   ]
  },
  {
   "cell_type": "markdown",
   "metadata": {},
   "source": [
    "We assigned `particle_types=['A', 'B']` above. This makes the type id of 0 identify particle type 'A', and type id 1 identify particle type 'B'. The type id is just the index of the name in the list. Make the first three particles 'B' and the last one 'A':"
   ]
  },
  {
   "cell_type": "code",
   "execution_count": 8,
   "metadata": {
    "collapsed": true
   },
   "outputs": [],
   "source": [
    "snap.particles.typeid[:] = [1,1,1,0];"
   ]
  },
  {
   "cell_type": "markdown",
   "metadata": {},
   "source": [
    "## Initialize from snapshot\n",
    "\n",
    "The snapshot object `snap` stores a self-contained version of the system configuration. It is not connected with the rest of HOOMD. You can store as many snapshot objects as you can fit in memory, all with different properties. Use `hoomd.init.read_snapshot` to initialize a HOOMD simulation from a snapshot."
   ]
  },
  {
   "cell_type": "code",
   "execution_count": 9,
   "metadata": {
    "collapsed": false
   },
   "outputs": [
    {
     "name": "stdout",
     "output_type": "stream",
     "text": [
      "notice(2): Group \"all\" created containing 4 particles\n"
     ]
    }
   ],
   "source": [
    "hoomd.init.read_snapshot(snap);"
   ]
  },
  {
   "cell_type": "markdown",
   "metadata": {},
   "source": [
    "Now HOOMD is ready for pair forces, integrators, and other commands to configure the simulation run."
   ]
  }
 ],
 "metadata": {
  "kernelspec": {
   "display_name": "Python 3",
   "language": "python",
   "name": "python3"
  },
  "language_info": {
   "codemirror_mode": {
    "name": "ipython",
    "version": 3
   },
   "file_extension": ".py",
   "mimetype": "text/x-python",
   "name": "python",
   "nbconvert_exporter": "python",
   "pygments_lexer": "ipython3",
   "version": "3.5.3"
  }
 },
 "nbformat": 4,
 "nbformat_minor": 0
}
