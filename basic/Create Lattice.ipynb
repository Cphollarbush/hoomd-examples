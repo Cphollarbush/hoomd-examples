{
 "cells": [
  {
   "cell_type": "code",
   "execution_count": 10,
   "metadata": {
    "collapsed": false
   },
   "outputs": [],
   "source": [
    "import hoomd\n",
    "import fresnel\n",
    "import ex_render"
   ]
  },
  {
   "cell_type": "markdown",
   "metadata": {},
   "source": [
    "# Initializing the system with a lattice\n",
    "\n",
    "Before you can begin a simulation, you must specify the initial conditions of the particles and the periodic box dimensions. HOOMD provides a number of ways to set intial conditions. You can create particles on a lattice, read the configuration from a file, or specify data directly in python.\n",
    "\n",
    "## Create a lattice\n",
    "\n",
    "HOOMD can place particles on a lattice. For more information, see the [lattice](http://hoomd-blue.readthedocs.io/en/stable/module-hoomd-lattice.html#) and [init.create_lattice](http://hoomd-blue.readthedocs.io/en/stable/module-hoomd-init.html#hoomd.init.create_lattice) documentation.\n",
    "\n",
    "HOOMD includes several standard lattices. Here is a square lattice in 2D:"
   ]
  },
  {
   "cell_type": "code",
   "execution_count": 2,
   "metadata": {
    "collapsed": false
   },
   "outputs": [
    {
     "name": "stdout",
     "output_type": "stream",
     "text": [
      "notice(2): This system is not compute exclusive, using local rank to select GPUs\n",
      "notice(2): Unable to identify node local rank information\n",
      "notice(2): Using global rank to select GPUs\n",
      "HOOMD-blue is running on the following GPU(s):\n",
      " [0]            Tesla K20c  13 SM_3.5 @ 0.706 GHz, 5092 MiB DRAM\n",
      "notice(2): Group \"all\" created containing 256 particles\n"
     ]
    }
   ],
   "source": [
    "hoomd.context.initialize('')\n",
    "system = hoomd.init.create_lattice(unitcell=hoomd.lattice.sq(a=1.2), n=16)"
   ]
  },
  {
   "cell_type": "markdown",
   "metadata": {},
   "source": [
    "Let's visualize the resulting system configuration with [fresnel](https://bitbucket.org/glotzer/fresnel) - see the [fresnel visualzation tutorial](../visualization/Fresnel.ipynb) for more information."
   ]
  },
  {
   "cell_type": "code",
   "execution_count": 3,
   "metadata": {
    "collapsed": false
   },
   "outputs": [
    {
     "data": {
      "image/png": "[encoded data removed]",
      "text/plain": [
       "<fresnel.util.image_array at 0x7f0954b55278>"
      ]
     },
     "execution_count": 3,
     "metadata": {},
     "output_type": "execute_result"
    }
   ],
   "source": [
    "ex_render.render_disk_frame(system.take_snapshot(all=True))"
   ]
  },
  {
   "cell_type": "markdown",
   "metadata": {},
   "source": [
    "And here is a hexagonal lattice:"
   ]
  },
  {
   "cell_type": "code",
   "execution_count": 4,
   "metadata": {
    "collapsed": false
   },
   "outputs": [
    {
     "name": "stdout",
     "output_type": "stream",
     "text": [
      "notice(2): Group \"all\" created containing 288 particles\n"
     ]
    }
   ],
   "source": [
    "hoomd.context.initialize('')\n",
    "system = hoomd.init.create_lattice(unitcell=hoomd.lattice.hex(a=1.2), n=[16, 9])"
   ]
  },
  {
   "cell_type": "code",
   "execution_count": 5,
   "metadata": {
    "collapsed": false
   },
   "outputs": [
    {
     "data": {
      "image/png": "[encoded data removed]",
      "text/plain": [
       "<fresnel.util.image_array at 0x7f0954b55240>"
      ]
     },
     "execution_count": 5,
     "metadata": {},
     "output_type": "execute_result"
    }
   ],
   "source": [
    "ex_render.render_disk_frame(system.take_snapshot(all=True))"
   ]
  },
  {
   "cell_type": "markdown",
   "metadata": {},
   "source": [
    "### Lattice defaults\n",
    "\n",
    "By default, the lattice generator names all particles A, and gives them mass 1.0, charge 0, diameter 1, moment of inertia [0,0,0], and orientation [1,0,0,0]. You can change the type name of the basic lattices in the argument list. Here is an example of a rectangular unit cell with two particle types of different sizes. The generic ``unitcell`` command takes in arbitrary unitcell vectors, along with positions, type names, mass, charge, etc... for every particle in the unit cell."
   ]
  },
  {
   "cell_type": "code",
   "execution_count": 6,
   "metadata": {
    "collapsed": false
   },
   "outputs": [
    {
     "name": "stdout",
     "output_type": "stream",
     "text": [
      "notice(2): Group \"all\" created containing 256 particles\n"
     ]
    }
   ],
   "source": [
    "hoomd.context.initialize()\n",
    "uc = hoomd.lattice.unitcell(N=2,\n",
    "                            a1=[1, 0, 0],\n",
    "                            a2=[0, 2, 0],\n",
    "                            a3=[0, 0, 1],\n",
    "                            dimensions=2,\n",
    "                            position=[[0,0,0], [0.5, 1, 0]],\n",
    "                            type_name=['A', 'B'],\n",
    "                            diameter=[1.0, 0.5])\n",
    "system = hoomd.init.create_lattice(unitcell=uc, n=[16, 8])"
   ]
  },
  {
   "cell_type": "code",
   "execution_count": 7,
   "metadata": {
    "collapsed": false
   },
   "outputs": [
    {
     "data": {
      "image/png": "[encoded data removed]",
      "text/plain": [
       "<fresnel.util.image_array at 0x7f092f3925f8>"
      ]
     },
     "execution_count": 7,
     "metadata": {},
     "output_type": "execute_result"
    }
   ],
   "source": [
    "ex_render.render_disk_frame(system.take_snapshot(all=True))"
   ]
  },
  {
   "cell_type": "markdown",
   "metadata": {
    "collapsed": true
   },
   "source": [
    "### A lattice of molecules\n",
    "\n",
    "You can use the `unitcell` command to help build a lattice of molecules. As of hoomd v2.0, `unitcell` does not allow topology specification. But you can add bond topology manually using the snapshot."
   ]
  },
  {
   "cell_type": "code",
   "execution_count": 8,
   "metadata": {
    "collapsed": false
   },
   "outputs": [
    {
     "name": "stdout",
     "output_type": "stream",
     "text": [
      "notice(2): Group \"all\" created containing 32 particles\n"
     ]
    }
   ],
   "source": [
    "hoomd.context.initialize()\n",
    "uc = hoomd.lattice.unitcell(N=2,\n",
    "                            a1=[2, 0, 0],\n",
    "                            a2=[0, 2, 0],\n",
    "                            a3=[0, 0, 1],\n",
    "                            dimensions=2,\n",
    "                            position=[[0,0,0], [0.6, 0.6, 0]],\n",
    "                            type_name=['A', 'B'])\n",
    "\n",
    "# Get a snapshot from the unitcell and add in bond topology\n",
    "snap = uc.get_snapshot()\n",
    "snap.bonds.resize(1)\n",
    "snap.bonds.group[0] = [0, 1]\n",
    "snap.bonds.types = ['bondA']\n",
    "\n",
    "# replicate the lattice and initialize hoomd\n",
    "snap.replicate(4,4,1)\n",
    "system = hoomd.init.read_snapshot(snap)"
   ]
  },
  {
   "cell_type": "code",
   "execution_count": 9,
   "metadata": {
    "collapsed": false
   },
   "outputs": [
    {
     "data": {
      "image/png": "[encoded data removed]",
      "text/plain": [
       "<fresnel.util.image_array at 0x7f092c0b28d0>"
      ]
     },
     "execution_count": 9,
     "metadata": {},
     "output_type": "execute_result"
    }
   ],
   "source": [
    "ex_render.render_disk_frame(system.take_snapshot(all=True))"
   ]
  },
  {
   "cell_type": "code",
   "execution_count": null,
   "metadata": {
    "collapsed": true
   },
   "outputs": [],
   "source": []
  }
 ],
 "metadata": {
  "kernelspec": {
   "display_name": "Python 3",
   "language": "python",
   "name": "python3"
  },
  "language_info": {
   "codemirror_mode": {
    "name": "ipython",
    "version": 3
   },
   "file_extension": ".py",
   "mimetype": "text/x-python",
   "name": "python",
   "nbconvert_exporter": "python",
   "pygments_lexer": "ipython3",
   "version": "3.4.5"
  }
 },
 "nbformat": 4,
 "nbformat_minor": 0
}
