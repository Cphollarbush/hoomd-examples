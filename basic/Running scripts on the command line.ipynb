{
 "cells": [
  {
   "cell_type": "markdown",
   "metadata": {
    "collapsed": true
   },
   "source": [
    "# Running scripts on the command line\n",
    "\n",
    "To run a HOOMD script from the command line (or batch job script environment), first save the hoomd script commands to a file. In this example, the file `script.py` includes the same quick start example used in all the basic tutorials. There is one difference, the context is initialized with `context.initialize()` so that execution parameters may be passed in from the command line."
   ]
  },
  {
   "cell_type": "code",
   "execution_count": 1,
   "metadata": {
    "collapsed": false
   },
   "outputs": [
    {
     "name": "stdout",
     "output_type": "stream",
     "text": [
      "import hoomd\r\n",
      "import hoomd.md\r\n",
      "\r\n",
      "hoomd.context.initialize()\r\n",
      "system = hoomd.init.create_lattice(unitcell=hoomd.lattice.sc(a=2.0), n=5)\r\n",
      "nl = hoomd.md.nlist.cell()\r\n",
      "lj = hoomd.md.pair.lj(r_cut=3.0, nlist=nl)\r\n",
      "lj.pair_coeff.set('A', 'A', epsilon=1.0, sigma=1.0)\r\n",
      "all = hoomd.group.all();\r\n",
      "hoomd.md.integrate.mode_standard(dt=0.001)\r\n",
      "hoomd.md.integrate.langevin(group=all, kT=1.0, seed=987)\r\n",
      "\r\n",
      "run(10000)\r\n"
     ]
    }
   ],
   "source": [
    "!cat script.py"
   ]
  },
  {
   "cell_type": "markdown",
   "metadata": {},
   "source": [
    "HOOMD scripts are python scripts. To execute the script, run it with python. Provide command line options to the execution context __after__ the script file name."
   ]
  },
  {
   "cell_type": "code",
   "execution_count": 4,
   "metadata": {
    "collapsed": false,
    "scrolled": true
   },
   "outputs": [
    {
     "name": "stdout",
     "output_type": "stream",
     "text": [
      "HOOMD-blue v2.1.1-33-gd37edbf CUDA (8.0) DOUBLE HPMC_MIXED MPI SSE SSE2 SSE3 SSE4_1 SSE4_2 AVX \n",
      "Compiled: 12/06/2016\n",
      "Copyright 2009-2016 The Regents of the University of Michigan.\n",
      "-----\n",
      "You are using HOOMD-blue. Please cite the following:\n",
      "* J A Anderson, C D Lorenz, and A Travesset. \"General purpose molecular dynamics\n",
      "  simulations fully implemented on graphics processing units\", Journal of\n",
      "  Computational Physics 227 (2008) 5342--5359\n",
      "* J Glaser, T D Nguyen, J A Anderson, P Liu, F Spiga, J A Millan, D C Morse, and\n",
      "  S C Glotzer. \"Strong scaling of general-purpose molecular dynamics simulations\n",
      "  on GPUs\", Computer Physics Communications 192 (2015) 97--107\n",
      "-----\n",
      "HOOMD-blue is running on the CPU\n",
      "script.py:005  |  system = hoomd.init.create_lattice(unitcell=hoomd.lattice.sc(a=2.0), n=5)\n",
      "script.py:005  |  system = hoomd.init.create_lattice(unitcell=hoomd.lattice.sc(a=2.0), n=5)\n",
      "notice(2): Group \"all\" created containing 125 particles\n",
      "script.py:006  |  nl = hoomd.md.nlist.cell()\n",
      "script.py:007  |  lj = hoomd.md.pair.lj(r_cut=3.0, nlist=nl)\n",
      "script.py:008  |  lj.pair_coeff.set('A', 'A', epsilon=1.0, sigma=1.0)\n",
      "script.py:009  |  all = hoomd.group.all();\n",
      "script.py:010  |  hoomd.md.integrate.mode_standard(dt=0.001)\n",
      "script.py:011  |  hoomd.md.integrate.langevin(group=all, kT=1.0, seed=987)\n",
      "notice(2): integrate.langevin/bd is using specified gamma values\n",
      "script.py:013  |  hoomd.run(10000)\n",
      "notice(2): -- Neighborlist exclusion statistics -- :\n",
      "notice(2): Particles with 0 exclusions             : 125\n",
      "notice(2): Neighbors included by diameter          : no\n",
      "notice(2): Neighbors excluded when in the same body: no\n",
      "** starting run **\n",
      "Time 00:00:00 | Step 10000 / 10000 | TPS 10767.2 | ETA 00:00:00\n",
      "Average TPS: 10765.5\n",
      "---------\n",
      "-- Neighborlist stats:\n",
      "103 normal updates / 101 forced updates / 0 dangerous updates\n",
      "n_neigh_min: 0 / n_neigh_max: 29 / n_neigh_avg: 11.376\n",
      "shortest rebuild period: 45\n",
      "-- Cell list stats:\n",
      "Dimension: 2, 2, 2\n",
      "n_min    : 12 / n_max: 18 / n_avg: 15.625\n",
      "** run complete **\n"
     ]
    }
   ],
   "source": [
    "!python script.py --mode=cpu"
   ]
  },
  {
   "cell_type": "markdown",
   "metadata": {},
   "source": [
    "Note, the ! syntax tells Jupyter to execute the following text as a shell command. To execute this script in an actual shell, cd into the `basic` directory and execute `python script.py --mode=cpu` without the \"!\".\n",
    "\n",
    "You can convert any of the example notebooks into a script with *File -> Download as -> Python (.py)*, or copy and paste the relevant commands into a .py file."
   ]
  },
  {
   "cell_type": "code",
   "execution_count": null,
   "metadata": {
    "collapsed": true
   },
   "outputs": [],
   "source": []
  }
 ],
 "metadata": {
  "kernelspec": {
   "display_name": "Python 3",
   "language": "python",
   "name": "python3"
  },
  "language_info": {
   "codemirror_mode": {
    "name": "ipython",
    "version": 3
   },
   "file_extension": ".py",
   "mimetype": "text/x-python",
   "name": "python",
   "nbconvert_exporter": "python",
   "pygments_lexer": "ipython3",
   "version": "3.4.5"
  }
 },
 "nbformat": 4,
 "nbformat_minor": 1
}
