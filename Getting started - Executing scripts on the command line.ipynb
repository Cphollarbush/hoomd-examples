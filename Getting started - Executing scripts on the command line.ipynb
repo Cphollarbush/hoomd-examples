{
 "cells": [
  {
   "cell_type": "markdown",
   "metadata": {
    "collapsed": true
   },
   "source": [
    "# Running scripts on the command line\n",
    "\n",
    "To run a HOOMD script from the command line (or batch job script environment), first save the hoomd script commands to a file. In this example, the file `script.py` implements the Lennard-Jones tutorial. There is one difference, the context is initialized with `context.initialize()` so that execution parameters may be passed in from the command line."
   ]
  },
  {
   "cell_type": "code",
   "execution_count": 1,
   "metadata": {
    "collapsed": false
   },
   "outputs": [
    {
     "name": "stdout",
     "output_type": "stream",
     "text": [
      "import hoomd\r\n",
      "import hoomd.md\r\n",
      "\r\n",
      "# initialize\r\n",
      "hoomd.context.initialize()\r\n",
      "hoomd.init.create_lattice(unitcell=hoomd.lattice.sc(a=2.0), n=5)\r\n",
      "\r\n",
      "# specify potential\r\n",
      "nl = hoomd.md.nlist.cell()\r\n",
      "lj = hoomd.md.pair.lj(r_cut=2.5, nlist=nl)\r\n",
      "lj.pair_coeff.set('A', 'A', epsilon=1.0, sigma=1.0)\r\n",
      "\r\n",
      "# define integrator\r\n",
      "all = hoomd.group.all();\r\n",
      "hoomd.md.integrate.mode_standard(dt=0.005)\r\n",
      "hoomd.md.integrate.langevin(group=all, kT=0.2, seed=42)\r\n",
      "\r\n",
      "# write output\r\n",
      "hoomd.analyze.log(filename=\"log-output.log\", quantities=['potential_energy'], period=100, overwrite=True)\r\n",
      "hoomd.dump.gsd(\"trajectory.gsd\", period=2e3, group=all, overwrite=True)\r\n",
      "\r\n",
      "# run simulation\r\n",
      "hoomd.run(1e4)\r\n"
     ]
    }
   ],
   "source": [
    "!cat script.py"
   ]
  },
  {
   "cell_type": "markdown",
   "metadata": {},
   "source": [
    "HOOMD scripts are python scripts. To execute the script, run it with python. Provide command line options to the execution context __after__ the script file name."
   ]
  },
  {
   "cell_type": "code",
   "execution_count": 2,
   "metadata": {
    "collapsed": false,
    "scrolled": true
   },
   "outputs": [
    {
     "name": "stdout",
     "output_type": "stream",
     "text": [
      "HOOMD-blue v2.1.3 CUDA (8.0) DOUBLE HPMC_MIXED MPI SSE SSE2 SSE3 SSE4_1 SSE4_2 AVX \n",
      "Compiled: 02/07/2017\n",
      "Copyright 2009-2016 The Regents of the University of Michigan.\n",
      "-----\n",
      "You are using HOOMD-blue. Please cite the following:\n",
      "* J A Anderson, C D Lorenz, and A Travesset. \"General purpose molecular dynamics\n",
      "  simulations fully implemented on graphics processing units\", Journal of\n",
      "  Computational Physics 227 (2008) 5342--5359\n",
      "* J Glaser, T D Nguyen, J A Anderson, P Liu, F Spiga, J A Millan, D C Morse, and\n",
      "  S C Glotzer. \"Strong scaling of general-purpose molecular dynamics simulations\n",
      "  on GPUs\", Computer Physics Communications 192 (2015) 97--107\n",
      "-----\n",
      "HOOMD-blue is running on the CPU\n",
      "script.py:006  |  hoomd.init.create_lattice(unitcell=hoomd.lattice.sc(a=2.0), n=5)\n",
      "script.py:006  |  hoomd.init.create_lattice(unitcell=hoomd.lattice.sc(a=2.0), n=5)\n",
      "notice(2): Group \"all\" created containing 125 particles\n",
      "script.py:009  |  nl = hoomd.md.nlist.cell()\n",
      "script.py:010  |  lj = hoomd.md.pair.lj(r_cut=2.5, nlist=nl)\n",
      "script.py:011  |  lj.pair_coeff.set('A', 'A', epsilon=1.0, sigma=1.0)\n",
      "script.py:014  |  all = hoomd.group.all();\n",
      "script.py:015  |  hoomd.md.integrate.mode_standard(dt=0.005)\n",
      "script.py:016  |  hoomd.md.integrate.langevin(group=all, kT=0.2, seed=42)\n",
      "notice(2): integrate.langevin/bd is using specified gamma values\n",
      "script.py:019  |  hoomd.analyze.log(filename=\"log-output.log\", quantities=['potential_energy'], period=100, overwrite=True)\n",
      "script.py:020  |  hoomd.dump.gsd(\"trajectory.gsd\", period=2e3, group=all, overwrite=True)\n",
      "script.py:023  |  hoomd.run(1e4)\n",
      "notice(2): -- Neighborlist exclusion statistics -- :\n",
      "notice(2): Particles with 0 exclusions             : 125\n",
      "notice(2): Neighbors included by diameter          : no\n",
      "notice(2): Neighbors excluded when in the same body: no\n",
      "** starting run **\n",
      "Time 00:00:01 | Step 10000 / 10000 | TPS 8353.3 | ETA 00:00:00\n",
      "Average TPS: 8352.28\n",
      "---------\n",
      "-- Neighborlist stats:\n",
      "322 normal updates / 101 forced updates / 0 dangerous updates\n",
      "n_neigh_min: 0 / n_neigh_max: 52 / n_neigh_avg: 23.024\n",
      "shortest rebuild period: 17\n",
      "-- Cell list stats:\n",
      "Dimension: 3, 3, 3\n",
      "n_min    : 0 / n_max: 22 / n_avg: 4.62963\n",
      "** run complete **\n"
     ]
    }
   ],
   "source": [
    "!python script.py --mode=cpu"
   ]
  },
  {
   "cell_type": "markdown",
   "metadata": {},
   "source": [
    "Note, the ! syntax tells Jupyter to execute the following text as a shell command. To execute this script in an actual shell, cd into the examples directory and execute `python script.py --mode=cpu` without the \"!\".\n",
    "\n",
    "You can convert any of the example notebooks into a script with *File -> Download as -> Python (.py)*, or copy and paste the relevant commands into a .py file."
   ]
  },
  {
   "cell_type": "markdown",
   "metadata": {
    "collapsed": true
   },
   "source": [
    "## Command line options\n",
    "\n",
    "HOOMD accepts a number of command line options:"
   ]
  },
  {
   "cell_type": "code",
   "execution_count": 1,
   "metadata": {
    "collapsed": false
   },
   "outputs": [
    {
     "name": "stdout",
     "output_type": "stream",
     "text": [
      "HOOMD-blue v2.1.3 CUDA (8.0) DOUBLE HPMC_MIXED MPI SSE SSE2 SSE3 SSE4_1 SSE4_2 AVX \n",
      "Compiled: 02/07/2017\n",
      "Copyright 2009-2016 The Regents of the University of Michigan.\n",
      "-----\n",
      "You are using HOOMD-blue. Please cite the following:\n",
      "* J A Anderson, C D Lorenz, and A Travesset. \"General purpose molecular dynamics\n",
      "  simulations fully implemented on graphics processing units\", Journal of\n",
      "  Computational Physics 227 (2008) 5342--5359\n",
      "* J Glaser, T D Nguyen, J A Anderson, P Liu, F Spiga, J A Millan, D C Morse, and\n",
      "  S C Glotzer. \"Strong scaling of general-purpose molecular dynamics simulations\n",
      "  on GPUs\", Computer Physics Communications 192 (2015) 97--107\n",
      "-----\n",
      "Usage: script.py [options]\n",
      "\n",
      "Options:\n",
      "  -h, --help            show this help message and exit\n",
      "  --mode=MODE           Execution mode (cpu or gpu)\n",
      "  --gpu=GPU             GPU on which to execute\n",
      "  --gpu_error_checking  Enable error checking on the GPU\n",
      "  --minimize-cpu-usage  Enable to keep the CPU usage of HOOMD to a bare\n",
      "                        minimum (will degrade overall performance somewhat)\n",
      "  --ignore-display-gpu  Attempt to avoid running on the display GPU\n",
      "  --notice-level=NOTICE_LEVEL\n",
      "                        Minimum level of notice messages to print\n",
      "  --msg-file=MSG_FILE   Name of file to write messages to\n",
      "  --shared-msg-file=SHARED_MSG_FILE\n",
      "                        (MPI only) Name of shared file to write message to\n",
      "                        (append partition #)\n",
      "  --nrank=NRANK         (MPI) Number of ranks to include in a partition\n",
      "  --nx=NX               (MPI) Number of domains along the x-direction\n",
      "  --ny=NY               (MPI) Number of domains along the y-direction\n",
      "  --nz=NZ               (MPI) Number of domains along the z-direction\n",
      "  --linear              (MPI only) Force a slab (1D) decomposition along the\n",
      "                        z-direction\n",
      "  --onelevel            (MPI only) Disable two-level (node-local)\n",
      "                        decomposition\n",
      "  --user=USER           User options\n"
     ]
    }
   ],
   "source": [
    "!python script.py --help"
   ]
  },
  {
   "cell_type": "code",
   "execution_count": null,
   "metadata": {
    "collapsed": true
   },
   "outputs": [],
   "source": []
  }
 ],
 "metadata": {
  "kernelspec": {
   "display_name": "Python 3",
   "language": "python",
   "name": "python3"
  },
  "language_info": {
   "codemirror_mode": {
    "name": "ipython",
    "version": 3
   },
   "file_extension": ".py",
   "mimetype": "text/x-python",
   "name": "python",
   "nbconvert_exporter": "python",
   "pygments_lexer": "ipython3",
   "version": "3.4.5"
  }
 },
 "nbformat": 4,
 "nbformat_minor": 1
}
