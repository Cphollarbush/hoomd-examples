{
 "cells": [
  {
   "cell_type": "code",
   "execution_count": 1,
   "metadata": {
    "collapsed": false
   },
   "outputs": [],
   "source": [
    "import hoomd\n",
    "import hoomd.md"
   ]
  },
  {
   "cell_type": "markdown",
   "metadata": {},
   "source": [
    "# Recording run metadata\n",
    "\n",
    "The hoomd command ``meta.dump_metadata`` writes a json file with metadata about the state of the simulation. This includes information about the hoomd version, the execution configuration, run time, node, job id, all of the potentials, integrators, etc.. that are active, and all of the parameters set. Write metadata at the end of every job script to create a record of what was run.\n",
    "\n",
    "Here is a quick script to provide data for an example."
   ]
  },
  {
   "cell_type": "code",
   "execution_count": 2,
   "metadata": {
    "collapsed": false
   },
   "outputs": [
    {
     "name": "stdout",
     "output_type": "stream",
     "text": [
      "HOOMD-blue v2.1.5 CUDA (7.5) DOUBLE HPMC_MIXED MPI SSE SSE2 SSE3 SSE4_1 SSE4_2 AVX \n",
      "Compiled: 03/09/2017\n",
      "Copyright 2009-2016 The Regents of the University of Michigan.\n",
      "-----\n",
      "You are using HOOMD-blue. Please cite the following:\n",
      "* J A Anderson, C D Lorenz, and A Travesset. \"General purpose molecular dynamics\n",
      "  simulations fully implemented on graphics processing units\", Journal of\n",
      "  Computational Physics 227 (2008) 5342--5359\n",
      "* J Glaser, T D Nguyen, J A Anderson, P Liu, F Spiga, J A Millan, D C Morse, and\n",
      "  S C Glotzer. \"Strong scaling of general-purpose molecular dynamics simulations\n",
      "  on GPUs\", Computer Physics Communications 192 (2015) 97--107\n",
      "-----\n",
      "HOOMD-blue is running on the CPU\n",
      "notice(2): Group \"all\" created containing 125 particles\n",
      "notice(2): integrate.langevin/bd is using specified gamma values\n",
      "notice(2): -- Neighborlist exclusion statistics -- :\n",
      "notice(2): Particles with 0 exclusions             : 125\n",
      "notice(2): Neighbors included by diameter          : no\n",
      "notice(2): Neighbors excluded when in the same body: no\n"
     ]
    }
   ],
   "source": [
    "hoomd.context.initialize('--mode=cpu');\n",
    "system = hoomd.init.create_lattice(unitcell=hoomd.lattice.sc(a=2.0), n=5);\n",
    "nl = hoomd.md.nlist.cell();\n",
    "lj = hoomd.md.pair.lj(r_cut=3.0, nlist=nl);\n",
    "lj.pair_coeff.set('A', 'A', epsilon=1.0, sigma=1.0);\n",
    "all = hoomd.group.all();\n",
    "hoomd.md.integrate.mode_standard(dt=0.001);\n",
    "hoomd.md.integrate.langevin(group=all, kT=1.0, seed=987);\n",
    "hoomd.run(5000, quiet=True);"
   ]
  },
  {
   "cell_type": "code",
   "execution_count": 3,
   "metadata": {
    "collapsed": false
   },
   "outputs": [
    {
     "data": {
      "text/plain": [
       "{'context': {'cputime': 1.3845180000000001,\n",
       "  'gpu': '',\n",
       "  'hostname': 'petry',\n",
       "  'job_id': '',\n",
       "  'job_name': '',\n",
       "  'mode': 'cpu',\n",
       "  'num_ranks': 1,\n",
       "  'username': 'joaander',\n",
       "  'wallclocktime': 0.9776506423950195},\n",
       " 'hoomd': {'compiler_version': 'gcc 4.8.5',\n",
       "  'cuda_version': [7, 5],\n",
       "  'hoomd_compile_flags': 'CUDA (7.5) DOUBLE HPMC_MIXED MPI SSE SSE2 SSE3 SSE4_1 SSE4_2 AVX ',\n",
       "  'hoomd_git_refspec': 'unknown',\n",
       "  'hoomd_git_sha1': '45da7d07d3e73d42b41510905fcb79b165da19b0',\n",
       "  'hoomd_version': [2, 1, 5]},\n",
       " 'hoomd.data.system_data': {'angles': {'N': 0, 'types': []},\n",
       "  'bonds': {'N': 0, 'types': []},\n",
       "  'box': {'Lx': 10.0,\n",
       "   'Ly': 10.0,\n",
       "   'Lz': 10.0,\n",
       "   'V': 1000.0,\n",
       "   'd': 3,\n",
       "   'xy': 0.0,\n",
       "   'xz': 0.0,\n",
       "   'yz': 0.0},\n",
       "  'constraints': {'N': 0},\n",
       "  'dihedrals': {'N': 0, 'types': []},\n",
       "  'impropers': {'N': 0, 'types': []},\n",
       "  'number_density': 0.125,\n",
       "  'pairs': {'N': 0, 'types': []},\n",
       "  'particles': {'N': 125, 'types': ['A']},\n",
       "  'timestep': 5000},\n",
       " 'hoomd.md.integrate.langevin': [{'dscale': False,\n",
       "   'enabled': True,\n",
       "   'group': {'name': 'all'},\n",
       "   'kT': 1.0,\n",
       "   'noiseless_r': False,\n",
       "   'noiseless_t': False,\n",
       "   'seed': 987}],\n",
       " 'hoomd.md.integrate.mode_standard': {'aniso': None, 'dt': 0.001},\n",
       " 'hoomd.md.pair.lj': [{'enabled': True,\n",
       "   'log': True,\n",
       "   'pair_coeff': [{'alpha': 1.0,\n",
       "     'epsilon': 1.0,\n",
       "     'r_cut': 3.0,\n",
       "     'r_on': 3.0,\n",
       "     'sigma': 1.0,\n",
       "     'typei': 'A',\n",
       "     'typej': 'A'}]}],\n",
       " 'hoomd.update.sort': [{'enabled': True}],\n",
       " 'timestamp': '2017-03-09 12:20:54'}"
      ]
     },
     "execution_count": 3,
     "metadata": {},
     "output_type": "execute_result"
    }
   ],
   "source": [
    "hoomd.meta.dump_metadata('metadata.json')"
   ]
  }
 ],
 "metadata": {
  "kernelspec": {
   "display_name": "Python 3",
   "language": "python",
   "name": "python3"
  },
  "language_info": {
   "codemirror_mode": {
    "name": "ipython",
    "version": 3
   },
   "file_extension": ".py",
   "mimetype": "text/x-python",
   "name": "python",
   "nbconvert_exporter": "python",
   "pygments_lexer": "ipython3",
   "version": "3.5.3"
  }
 },
 "nbformat": 4,
 "nbformat_minor": 2
}
