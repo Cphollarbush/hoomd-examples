{
 "cells": [
  {
   "cell_type": "code",
   "execution_count": 1,
   "metadata": {
    "collapsed": false,
    "deletable": true,
    "editable": true
   },
   "outputs": [],
   "source": [
    "import hoomd\n",
    "import hoomd.md"
   ]
  },
  {
   "cell_type": "markdown",
   "metadata": {
    "deletable": true,
    "editable": true
   },
   "source": [
    "# Recording run metadata\n",
    "\n",
    "The hoomd command ``meta.dump_metadata`` writes a json file with metadata about the state of the simulation. This includes information about the hoomd version, the execution configuration, run time, node, job id, all of the potentials, integrators, etc.. that are active, and all of the parameters set. Write metadata at the end of every job script to create a record of what was run.\n",
    "\n",
    "Here is a quick script to provide data for an example."
   ]
  },
  {
   "cell_type": "code",
   "execution_count": 2,
   "metadata": {
    "collapsed": false,
    "deletable": true,
    "editable": true
   },
   "outputs": [
    {
     "name": "stdout",
     "output_type": "stream",
     "text": [
      "HOOMD-blue v2.1.5 CUDA (7.5) DOUBLE HPMC_MIXED MPI SSE SSE2 SSE3 SSE4_1 SSE4_2 AVX \n",
      "Compiled: 03/12/2017\n",
      "Copyright 2009-2016 The Regents of the University of Michigan.\n",
      "-----\n",
      "You are using HOOMD-blue. Please cite the following:\n",
      "* J A Anderson, C D Lorenz, and A Travesset. \"General purpose molecular dynamics\n",
      "  simulations fully implemented on graphics processing units\", Journal of\n",
      "  Computational Physics 227 (2008) 5342--5359\n",
      "* J Glaser, T D Nguyen, J A Anderson, P Liu, F Spiga, J A Millan, D C Morse, and\n",
      "  S C Glotzer. \"Strong scaling of general-purpose molecular dynamics simulations\n",
      "  on GPUs\", Computer Physics Communications 192 (2015) 97--107\n",
      "-----\n",
      "HOOMD-blue is running on the CPU\n",
      "notice(2): Group \"all\" created containing 125 particles\n",
      "notice(2): integrate.langevin/bd is using specified gamma values\n",
      "notice(2): -- Neighborlist exclusion statistics -- :\n",
      "notice(2): Particles with 0 exclusions             : 125\n",
      "notice(2): Neighbors included by diameter          : no\n",
      "notice(2): Neighbors excluded when in the same body: no\n"
     ]
    }
   ],
   "source": [
    "hoomd.context.initialize('--mode=cpu');\n",
    "system = hoomd.init.create_lattice(unitcell=hoomd.lattice.sc(a=2.0), n=5);\n",
    "nl = hoomd.md.nlist.cell();\n",
    "lj = hoomd.md.pair.lj(r_cut=3.0, nlist=nl);\n",
    "lj.pair_coeff.set('A', 'A', epsilon=1.0, sigma=1.0);\n",
    "all = hoomd.group.all();\n",
    "hoomd.md.integrate.mode_standard(dt=0.001);\n",
    "hoomd.md.integrate.langevin(group=all, kT=1.0, seed=987);\n",
    "hoomd.run(5000, quiet=True);"
   ]
  },
  {
   "cell_type": "code",
   "execution_count": 3,
   "metadata": {
    "collapsed": false,
    "deletable": true,
    "editable": true
   },
   "outputs": [
    {
     "data": {
      "text/plain": [
       "{u'context': {u'cputime': 1.2301719999999998,\n",
       "  u'gpu': u'',\n",
       "  u'hostname': u'petry',\n",
       "  u'job_id': u'',\n",
       "  u'job_name': u'',\n",
       "  u'mode': u'cpu',\n",
       "  u'num_ranks': 1,\n",
       "  u'username': u'joaander',\n",
       "  u'wallclocktime': 1.0352880954742432},\n",
       " u'hoomd': {u'compiler_version': u'gcc 4.8.5',\n",
       "  u'cuda_version': [7, 5],\n",
       "  u'hoomd_compile_flags': u'CUDA (7.5) DOUBLE HPMC_MIXED MPI SSE SSE2 SSE3 SSE4_1 SSE4_2 AVX ',\n",
       "  u'hoomd_git_refspec': u'unknown',\n",
       "  u'hoomd_git_sha1': u'45da7d07d3e73d42b41510905fcb79b165da19b0',\n",
       "  u'hoomd_version': [2, 1, 5]},\n",
       " u'hoomd.data.system_data': {u'angles': {u'N': 0, u'types': []},\n",
       "  u'bonds': {u'N': 0, u'types': []},\n",
       "  u'box': {u'Lx': 10.0,\n",
       "   u'Ly': 10.0,\n",
       "   u'Lz': 10.0,\n",
       "   u'V': 1000.0,\n",
       "   u'd': 3,\n",
       "   u'xy': 0.0,\n",
       "   u'xz': 0.0,\n",
       "   u'yz': 0.0},\n",
       "  u'constraints': {u'N': 0},\n",
       "  u'dihedrals': {u'N': 0, u'types': []},\n",
       "  u'impropers': {u'N': 0, u'types': []},\n",
       "  u'number_density': 0.125,\n",
       "  u'pairs': {u'N': 0, u'types': []},\n",
       "  u'particles': {u'N': 125, u'types': [u'A']},\n",
       "  u'timestep': 5000},\n",
       " u'hoomd.md.integrate.langevin': [{u'dscale': False,\n",
       "   u'enabled': True,\n",
       "   u'group': {u'name': u'all'},\n",
       "   u'kT': 1.0,\n",
       "   u'noiseless_r': False,\n",
       "   u'noiseless_t': False,\n",
       "   u'seed': 987}],\n",
       " u'hoomd.md.integrate.mode_standard': {u'aniso': None, u'dt': 0.001},\n",
       " u'hoomd.md.pair.lj': [{u'enabled': True,\n",
       "   u'log': True,\n",
       "   u'pair_coeff': [{u'alpha': 1.0,\n",
       "     u'epsilon': 1.0,\n",
       "     u'r_cut': 3.0,\n",
       "     u'r_on': 3.0,\n",
       "     u'sigma': 1.0,\n",
       "     u'typei': u'A',\n",
       "     u'typej': u'A'}]}],\n",
       " u'hoomd.update.sort': [{u'enabled': True}],\n",
       " u'timestamp': u'2017-04-03 20:09:39'}"
      ]
     },
     "execution_count": 3,
     "metadata": {},
     "output_type": "execute_result"
    }
   ],
   "source": [
    "hoomd.meta.dump_metadata('metadata.json')"
   ]
  }
 ],
 "metadata": {
  "kernelspec": {
   "display_name": "Python 2",
   "language": "python",
   "name": "python2"
  },
  "language_info": {
   "codemirror_mode": {
    "name": "ipython",
    "version": 2
   },
   "file_extension": ".py",
   "mimetype": "text/x-python",
   "name": "python",
   "nbconvert_exporter": "python",
   "pygments_lexer": "ipython2",
   "version": "2.7.13"
  }
 },
 "nbformat": 4,
 "nbformat_minor": 2
}
