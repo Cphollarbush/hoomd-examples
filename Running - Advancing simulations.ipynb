{
 "cells": [
  {
   "cell_type": "code",
   "execution_count": 2,
   "metadata": {
    "collapsed": false
   },
   "outputs": [
    {
     "name": "stdout",
     "output_type": "stream",
     "text": [
      "HOOMD-blue v2.1.3 CUDA (8.0) DOUBLE HPMC_MIXED MPI SSE SSE2 SSE3 SSE4_1 SSE4_2 AVX \n",
      "Compiled: 02/07/2017\n",
      "Copyright 2009-2016 The Regents of the University of Michigan.\n",
      "-----\n",
      "You are using HOOMD-blue. Please cite the following:\n",
      "* J A Anderson, C D Lorenz, and A Travesset. \"General purpose molecular dynamics\n",
      "  simulations fully implemented on graphics processing units\", Journal of\n",
      "  Computational Physics 227 (2008) 5342--5359\n",
      "* J Glaser, T D Nguyen, J A Anderson, P Liu, F Spiga, J A Millan, D C Morse, and\n",
      "  S C Glotzer. \"Strong scaling of general-purpose molecular dynamics simulations\n",
      "  on GPUs\", Computer Physics Communications 192 (2015) 97--107\n",
      "-----\n"
     ]
    }
   ],
   "source": [
    "import hoomd\n",
    "import hoomd.md"
   ]
  },
  {
   "cell_type": "markdown",
   "metadata": {},
   "source": [
    "# Advancing simulations forward in time\n",
    "\n",
    "Use `hoomd.run` to advance a simulation forward a given number of time steps. Start with the Lennard-Jones tutorial script."
   ]
  },
  {
   "cell_type": "code",
   "execution_count": 3,
   "metadata": {
    "collapsed": false
   },
   "outputs": [
    {
     "name": "stdout",
     "output_type": "stream",
     "text": [
      "HOOMD-blue is running on the CPU\n",
      "notice(2): Group \"all\" created containing 125 particles\n",
      "notice(2): integrate.langevin/bd is using specified gamma values\n"
     ]
    },
    {
     "data": {
      "text/plain": [
       "<hoomd.md.integrate.brownian at 0x7ff5c808ef28>"
      ]
     },
     "execution_count": 3,
     "metadata": {},
     "output_type": "execute_result"
    }
   ],
   "source": [
    "hoomd.context.initialize('--mode=cpu')\n",
    "system = hoomd.init.create_lattice(unitcell=hoomd.lattice.sc(a=2.0), n=5)\n",
    "nl = hoomd.md.nlist.cell()\n",
    "lj = hoomd.md.pair.lj(r_cut=3.0, nlist=nl)\n",
    "lj.pair_coeff.set('A', 'A', epsilon=1.0, sigma=1.0)\n",
    "all = hoomd.group.all();\n",
    "hoomd.md.integrate.mode_standard(dt=0.001)\n",
    "hoomd.md.integrate.brownian(group=all, kT=0.1, seed=987)"
   ]
  },
  {
   "cell_type": "markdown",
   "metadata": {},
   "source": [
    "After initialization with `create_lattice`, the simulation starts at time step 0. Query the current step counter with ``get_step``."
   ]
  },
  {
   "cell_type": "code",
   "execution_count": 4,
   "metadata": {
    "collapsed": false
   },
   "outputs": [
    {
     "data": {
      "text/plain": [
       "0"
      ]
     },
     "execution_count": 4,
     "metadata": {},
     "output_type": "execute_result"
    }
   ],
   "source": [
    "hoomd.get_step()"
   ]
  },
  {
   "cell_type": "markdown",
   "metadata": {},
   "source": [
    "Each HOOMD script can have one **integrator** active at a time. This example uses the `mode_standard` integrator from the `md` package. On each time step, `mode_standard` advances the simulation forward `dt` time units, integrating the equations of motion specified in the provided integration methods (brownian dynamics in this example). Use `hoomd.run` to advance the simulation a given number of steps."
   ]
  },
  {
   "cell_type": "code",
   "execution_count": 5,
   "metadata": {
    "collapsed": false
   },
   "outputs": [
    {
     "name": "stdout",
     "output_type": "stream",
     "text": [
      "notice(2): -- Neighborlist exclusion statistics -- :\n",
      "notice(2): Particles with 0 exclusions             : 125\n",
      "notice(2): Neighbors included by diameter          : no\n",
      "notice(2): Neighbors excluded when in the same body: no\n",
      "** starting run **\n",
      "Time 00:00:32 | Step 1000 / 1000 | TPS 1649.81 | ETA 00:00:00\n",
      "Average TPS: 1645.57\n",
      "---------\n",
      "-- Neighborlist stats:\n",
      "54 normal updates / 11 forced updates / 0 dangerous updates\n",
      "n_neigh_min: 0 / n_neigh_max: 22 / n_neigh_avg: 9.392\n",
      "shortest rebuild period: 12\n",
      "-- Cell list stats:\n",
      "Dimension: 2, 2, 2\n",
      "n_min    : 11 / n_max: 19 / n_avg: 15.625\n",
      "** run complete **\n"
     ]
    }
   ],
   "source": [
    "hoomd.run(1000)"
   ]
  },
  {
   "cell_type": "markdown",
   "metadata": {},
   "source": [
    "Now we are at step 1000."
   ]
  },
  {
   "cell_type": "code",
   "execution_count": 6,
   "metadata": {
    "collapsed": false
   },
   "outputs": [
    {
     "data": {
      "text/plain": [
       "1000"
      ]
     },
     "execution_count": 6,
     "metadata": {},
     "output_type": "execute_result"
    }
   ],
   "source": [
    "hoomd.get_step()"
   ]
  },
  {
   "cell_type": "markdown",
   "metadata": {},
   "source": [
    "## Run options\n",
    "\n",
    "You may want to supress it with the `quiet` option."
   ]
  },
  {
   "cell_type": "code",
   "execution_count": 8,
   "metadata": {
    "collapsed": false
   },
   "outputs": [
    {
     "data": {
      "text/plain": [
       "3000"
      ]
     },
     "execution_count": 8,
     "metadata": {},
     "output_type": "execute_result"
    }
   ],
   "source": [
    "hoomd.run(1000, quiet=True)\n",
    "hoomd.get_step()"
   ]
  },
  {
   "cell_type": "markdown",
   "metadata": {},
   "source": [
    "You may want to limit a run to a given length of time (e.g. for short benchmark runs). Use `limit_hours` to stop a run after so many hours, even if it has not reached the requested number of time steps."
   ]
  },
  {
   "cell_type": "code",
   "execution_count": 9,
   "metadata": {
    "collapsed": false
   },
   "outputs": [
    {
     "name": "stdout",
     "output_type": "stream",
     "text": [
      "notice(2): Ending run at time step 51329 as 0.00138889 hours have passed\n"
     ]
    }
   ],
   "source": [
    "hoomd.run(1e6, limit_hours=5/3600, quiet=True)"
   ]
  },
  {
   "cell_type": "markdown",
   "metadata": {},
   "source": [
    "The profile option prints information on how much time was spent in each portion of the calculation. This is helpful when trying to identify why a simulation is running slowly."
   ]
  },
  {
   "cell_type": "code",
   "execution_count": 10,
   "metadata": {
    "collapsed": false
   },
   "outputs": [
    {
     "name": "stdout",
     "output_type": "stream",
     "text": [
      "** starting run **\n",
      "Time 00:01:09 | Step 61329 / 61329 | TPS 8140.78 | ETA 00:00:00\n",
      "Average TPS: 8133.16\n",
      "Simulation:  1.2296s | 100.000% \n",
      "        Integrate:  0.3634s | 29.558% \n",
      "                BD step 1:  0.3354s | 27.278% \n",
      "                Net force:  0.0209s |  1.700% \n",
      "                Sum accel:  0.0000s |  0.000% \n",
      "                Self:       0.0071s |  0.580% \n",
      "        Neighbor:   0.1113s |  9.051% \n",
      "                Cell:        0.0032s |  0.259% \n",
      "                        compute:  0.0028s |  0.230% \n",
      "                        init:     0.0000s |  0.003% \n",
      "                Dist check:  0.0125s |  1.016% \n",
      "                compute:     0.0927s |  7.540% \n",
      "                head-list:   0.0001s |  0.005% \n",
      "                Self:        0.0028s |  0.231% \n",
      "        Pair lj:    0.7449s | 60.580% \n",
      "        SFCPack:    0.0026s |  0.208% \n",
      "        Self:       0.0074s |  0.604% \n",
      "---------\n",
      "-- Neighborlist stats:\n",
      "264 normal updates / 101 forced updates / 0 dangerous updates\n",
      "n_neigh_min: 0 / n_neigh_max: 54 / n_neigh_avg: 24.21600\n",
      "shortest rebuild period: 12\n",
      "-- Cell list stats:\n",
      "Dimension: 2, 2, 2\n",
      "n_min    : 0 / n_max: 54 / n_avg: 15.62500\n",
      "** run complete **\n"
     ]
    }
   ],
   "source": [
    "hoomd.run(10000, profile=True)"
   ]
  },
  {
   "cell_type": "markdown",
   "metadata": {},
   "source": [
    "## Callbacks\n",
    "\n",
    "You can specify an arbitrary python callback to run. This function will be called at the given period. If the function returns a negative value, the run is aborted."
   ]
  },
  {
   "cell_type": "code",
   "execution_count": 11,
   "metadata": {
    "collapsed": false
   },
   "outputs": [
    {
     "name": "stdout",
     "output_type": "stream",
     "text": [
      "This is step 62000\n",
      "This is step 63000\n",
      "This is step 64000\n",
      "This is step 65000\n",
      "This is step 66000\n",
      "This is step 67000\n",
      "This is step 68000\n",
      "This is step 69000\n",
      "This is step 70000\n",
      "notice(2): End of run requested by python callback at step 70000 / 1061329\n"
     ]
    }
   ],
   "source": [
    "def my_callback(step):\n",
    "    print(\"This is step\", step)\n",
    "    if step >= 70000:\n",
    "        return -1\n",
    "    else:\n",
    "        return 0\n",
    "\n",
    "hoomd.run(1e6, callback=my_callback, callback_period=1000, quiet=True)"
   ]
  },
  {
   "cell_type": "code",
   "execution_count": null,
   "metadata": {
    "collapsed": true
   },
   "outputs": [],
   "source": []
  }
 ],
 "metadata": {
  "kernelspec": {
   "display_name": "Python 3",
   "language": "python",
   "name": "python3"
  },
  "language_info": {
   "codemirror_mode": {
    "name": "ipython",
    "version": 3
   },
   "file_extension": ".py",
   "mimetype": "text/x-python",
   "name": "python",
   "nbconvert_exporter": "python",
   "pygments_lexer": "ipython3",
   "version": "3.4.5"
  }
 },
 "nbformat": 4,
 "nbformat_minor": 0
}
