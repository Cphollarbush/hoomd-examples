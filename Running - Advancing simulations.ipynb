{
 "cells": [
  {
   "cell_type": "code",
   "execution_count": 1,
   "metadata": {},
   "outputs": [],
   "source": [
    "import hoomd\n",
    "import hoomd.md"
   ]
  },
  {
   "cell_type": "markdown",
   "metadata": {},
   "source": [
    "# Advancing simulations forward in time\n",
    "\n",
    "Use `hoomd.run` to advance a simulation forward a given number of time steps. Start with the Lennard-Jones tutorial script."
   ]
  },
  {
   "cell_type": "code",
   "execution_count": 2,
   "metadata": {},
   "outputs": [
    {
     "name": "stdout",
     "output_type": "stream",
     "text": [
      "HOOMD-blue v2.1.5 CUDA (7.5) DOUBLE HPMC_MIXED MPI SSE SSE2 SSE3 SSE4_1 SSE4_2 AVX \n",
      "Compiled: 03/12/2017\n",
      "Copyright 2009-2016 The Regents of the University of Michigan.\n",
      "-----\n",
      "You are using HOOMD-blue. Please cite the following:\n",
      "* J A Anderson, C D Lorenz, and A Travesset. \"General purpose molecular dynamics\n",
      "  simulations fully implemented on graphics processing units\", Journal of\n",
      "  Computational Physics 227 (2008) 5342--5359\n",
      "* J Glaser, T D Nguyen, J A Anderson, P Liu, F Spiga, J A Millan, D C Morse, and\n",
      "  S C Glotzer. \"Strong scaling of general-purpose molecular dynamics simulations\n",
      "  on GPUs\", Computer Physics Communications 192 (2015) 97--107\n",
      "-----\n",
      "HOOMD-blue is running on the CPU\n",
      "notice(2): Group \"all\" created containing 125 particles\n",
      "notice(2): integrate.langevin/bd is using specified gamma values\n"
     ]
    }
   ],
   "source": [
    "hoomd.context.initialize('--mode=cpu');\n",
    "system = hoomd.init.create_lattice(unitcell=hoomd.lattice.sc(a=2.0), n=5);\n",
    "nl = hoomd.md.nlist.cell();\n",
    "lj = hoomd.md.pair.lj(r_cut=3.0, nlist=nl);\n",
    "lj.pair_coeff.set('A', 'A', epsilon=1.0, sigma=1.0);\n",
    "all = hoomd.group.all();\n",
    "hoomd.md.integrate.mode_standard(dt=0.005);\n",
    "hoomd.md.integrate.langevin(group=all, kT=0.1, seed=987);"
   ]
  },
  {
   "cell_type": "markdown",
   "metadata": {},
   "source": [
    "After initialization the simulation starts at time step 0. Query the current step counter with ``get_step``."
   ]
  },
  {
   "cell_type": "code",
   "execution_count": 3,
   "metadata": {},
   "outputs": [
    {
     "data": {
      "text/plain": [
       "0L"
      ]
     },
     "execution_count": 3,
     "metadata": {},
     "output_type": "execute_result"
    }
   ],
   "source": [
    "hoomd.get_step()"
   ]
  },
  {
   "cell_type": "markdown",
   "metadata": {},
   "source": [
    "Each HOOMD script can have one **integrator** active at a time. This example uses the `mode_standard` integrator from the `md` package. On each time step, `mode_standard` advances the simulation forward `dt` time units, integrating the equations of motion specified in the provided integration methods (Langevin dynamics in this example). Use `hoomd.run` to advance the simulation a given number of steps."
   ]
  },
  {
   "cell_type": "code",
   "execution_count": 4,
   "metadata": {},
   "outputs": [
    {
     "name": "stdout",
     "output_type": "stream",
     "text": [
      "notice(2): -- Neighborlist exclusion statistics -- :\n",
      "notice(2): Particles with 0 exclusions             : 125\n",
      "notice(2): Neighbors included by diameter          : no\n",
      "notice(2): Neighbors excluded when in the same body: no\n",
      "** starting run **\n",
      "Time 00:00:00 | Step 1000 / 1000 | TPS 1762.49 | ETA 00:00:00\n",
      "Average TPS: 1739.2\n",
      "---------\n",
      "-- Neighborlist stats:\n",
      "32 normal updates / 11 forced updates / 0 dangerous updates\n",
      "n_neigh_min: 0 / n_neigh_max: 21 / n_neigh_avg: 9.208\n",
      "shortest rebuild period: 19\n",
      "-- Cell list stats:\n",
      "Dimension: 2, 2, 2\n",
      "n_min    : 9 / n_max: 21 / n_avg: 15.625\n",
      "** run complete **\n"
     ]
    }
   ],
   "source": [
    "hoomd.run(1000);"
   ]
  },
  {
   "cell_type": "markdown",
   "metadata": {},
   "source": [
    "Now we are at step 1000."
   ]
  },
  {
   "cell_type": "code",
   "execution_count": 5,
   "metadata": {},
   "outputs": [
    {
     "data": {
      "text/plain": [
       "1000L"
      ]
     },
     "execution_count": 5,
     "metadata": {},
     "output_type": "execute_result"
    }
   ],
   "source": [
    "hoomd.get_step()"
   ]
  },
  {
   "cell_type": "markdown",
   "metadata": {},
   "source": [
    "## Run options\n",
    "\n",
    "Supress run output with the `quiet` option."
   ]
  },
  {
   "cell_type": "code",
   "execution_count": 6,
   "metadata": {},
   "outputs": [
    {
     "data": {
      "text/plain": [
       "2000L"
      ]
     },
     "execution_count": 6,
     "metadata": {},
     "output_type": "execute_result"
    }
   ],
   "source": [
    "hoomd.run(1000, quiet=True);\n",
    "hoomd.get_step()"
   ]
  },
  {
   "cell_type": "markdown",
   "metadata": {},
   "source": [
    "Use `limit_hours` to stop a run after so many hours, even if it has not reached the requested number of time steps."
   ]
  },
  {
   "cell_type": "code",
   "execution_count": 7,
   "metadata": {},
   "outputs": [
    {
     "name": "stderr",
     "output_type": "stream",
     "text": [
      "*Warning*: Requesting a run() with a 0 time limit, doing nothing.\n"
     ]
    }
   ],
   "source": [
    "hoomd.run(1e6, limit_hours=5/3600, quiet=True);"
   ]
  },
  {
   "cell_type": "markdown",
   "metadata": {},
   "source": [
    "The profile option prints information on how much time was spent in each portion of the calculation."
   ]
  },
  {
   "cell_type": "code",
   "execution_count": 8,
   "metadata": {},
   "outputs": [
    {
     "name": "stdout",
     "output_type": "stream",
     "text": [
      "** starting run **\n",
      "Time 00:00:01 | Step 12000 / 12000 | TPS 12276.7 | ETA 00:00:00\n",
      "Average TPS: 12177.2\n",
      "Simulation:  0.8233s | 100.000% \n",
      "        Integrate:  0.0960s | 11.667% \n",
      "                Langevin step 1:  0.0263s |  3.193% \n",
      "                Langevin step 2:  0.0425s |  5.158% \n",
      "                Net force:        0.0198s |  2.408% \n",
      "                Sum accel:        0.0000s |  0.000% \n",
      "                Self:             0.0075s |  0.907% \n",
      "        Neighbor:   0.0836s | 10.149% \n",
      "                Cell:        0.0026s |  0.319% \n",
      "                        compute:  0.0021s |  0.261% \n",
      "                        init:     0.0003s |  0.039% \n",
      "                Dist check:  0.0110s |  1.342% \n",
      "                compute:     0.0670s |  8.138% \n",
      "                head-list:   0.0001s |  0.013% \n",
      "                Self:        0.0028s |  0.337% \n",
      "        Pair lj:    0.6266s | 76.115% \n",
      "        SFCPack:    0.0024s |  0.297% \n",
      "        Self:       0.0146s |  1.772% \n",
      "---------\n",
      "-- Neighborlist stats:\n",
      "191 normal updates / 101 forced updates / 0 dangerous updates\n",
      "n_neigh_min: 0 / n_neigh_max: 70 / n_neigh_avg: 25.89600\n",
      "shortest rebuild period: 23\n",
      "-- Cell list stats:\n",
      "Dimension: 2, 2, 2\n",
      "n_min    : 1 / n_max: 45 / n_avg: 15.62500\n",
      "** run complete **\n"
     ]
    }
   ],
   "source": [
    "hoomd.run(10000, profile=True)"
   ]
  },
  {
   "cell_type": "markdown",
   "metadata": {},
   "source": [
    "## Callbacks\n",
    "\n",
    "Specify a callback and this function will be called at the given period. If the function returns a negative value, the run is aborted."
   ]
  },
  {
   "cell_type": "code",
   "execution_count": 9,
   "metadata": {},
   "outputs": [
    {
     "name": "stdout",
     "output_type": "stream",
     "text": [
      "('This is step', 12000L)\n",
      "('This is step', 13000L)\n",
      "('This is step', 14000L)\n",
      "('This is step', 15000L)\n",
      "('This is step', 16000L)\n",
      "('This is step', 17000L)\n",
      "('This is step', 18000L)\n",
      "('This is step', 19000L)\n",
      "('This is step', 20000L)\n",
      "('This is step', 21000L)\n",
      "('This is step', 22000L)\n",
      "('This is step', 23000L)\n",
      "('This is step', 24000L)\n",
      "('This is step', 25000L)\n",
      "('This is step', 26000L)\n",
      "('This is step', 27000L)\n",
      "('This is step', 28000L)\n",
      "('This is step', 29000L)\n",
      "('This is step', 30000L)\n",
      "('This is step', 31000L)\n",
      "('This is step', 32000L)\n",
      "('This is step', 33000L)\n",
      "('This is step', 34000L)\n",
      "('This is step', 35000L)\n",
      "('This is step', 36000L)\n",
      "('This is step', 37000L)\n",
      "('This is step', 38000L)\n",
      "('This is step', 39000L)\n",
      "('This is step', 40000L)\n",
      "('This is step', 41000L)\n",
      "('This is step', 42000L)\n",
      "('This is step', 43000L)\n",
      "('This is step', 44000L)\n",
      "('This is step', 45000L)\n",
      "('This is step', 46000L)\n",
      "('This is step', 47000L)\n",
      "('This is step', 48000L)\n",
      "('This is step', 49000L)\n",
      "('This is step', 50000L)\n",
      "('This is step', 51000L)\n",
      "('This is step', 52000L)\n",
      "('This is step', 53000L)\n",
      "('This is step', 54000L)\n",
      "('This is step', 55000L)\n",
      "('This is step', 56000L)\n",
      "('This is step', 57000L)\n",
      "('This is step', 58000L)\n",
      "('This is step', 59000L)\n",
      "('This is step', 60000L)\n",
      "('This is step', 61000L)\n",
      "('This is step', 62000L)\n",
      "('This is step', 63000L)\n",
      "('This is step', 64000L)\n",
      "('This is step', 65000L)\n",
      "('This is step', 66000L)\n",
      "('This is step', 67000L)\n",
      "('This is step', 68000L)\n",
      "('This is step', 69000L)\n",
      "('This is step', 70000L)\n",
      "notice(2): End of run requested by python callback at step 70000 / 1012000\n"
     ]
    }
   ],
   "source": [
    "def my_callback(step):\n",
    "    print(\"This is step\", step)\n",
    "    if step >= 70000:\n",
    "        return -1\n",
    "    else:\n",
    "        return 0\n",
    "\n",
    "hoomd.run(1e6, callback=my_callback, callback_period=1000, quiet=True)"
   ]
  }
 ],
 "metadata": {
  "kernelspec": {
   "display_name": "Python 3",
   "language": "python",
   "name": "python3"
  },
  "language_info": {
   "codemirror_mode": {
    "name": "ipython",
    "version": 3
   },
   "file_extension": ".py",
   "mimetype": "text/x-python",
   "name": "python",
   "nbconvert_exporter": "python",
   "pygments_lexer": "ipython3",
   "version": "3.6.1"
  }
 },
 "nbformat": 4,
 "nbformat_minor": 1
}
